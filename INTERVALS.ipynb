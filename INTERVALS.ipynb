{
 "cells": [
  {
   "cell_type": "code",
   "execution_count": 294,
   "id": "dc14fe78",
   "metadata": {
    "scrolled": false
   },
   "outputs": [
    {
     "name": "stdout",
     "output_type": "stream",
     "text": [
      "[Errno 2] No such file or directory: 'harmonics/'\n",
      "/home/matias/HDD/Dropbox/apps/harmonics\n"
     ]
    }
   ],
   "source": [
    "%cd harmonics/"
   ]
  },
  {
   "cell_type": "code",
   "execution_count": 2,
   "id": "1bc4936e",
   "metadata": {
    "scrolled": true
   },
   "outputs": [],
   "source": [
    "import pandas as pd\n",
    "import yaml\n",
    "import importlib\n",
    "import harmonics, midi\n",
    "def rel():\n",
    "    importlib.reload(harmonics)\n",
    "    importlib.reload(midi)\n",
    "from mido import MidiFile\n",
    "import mido\n",
    "import os\n",
    "import datetime\n",
    "import numpy as np\n",
    "import matplotlib.pyplot as plt\n",
    "import music21\n",
    "rel()"
   ]
  },
  {
   "cell_type": "markdown",
   "id": "4f25b163",
   "metadata": {},
   "source": [
    "class MidiAnalyzer():\n",
    "    def __init__(self,folder,clip=True):\n",
    "        self.MIDI = {}\n",
    "        for file in os.listdir(folder):\n",
    "            if '.mid' in file:\n",
    "                self.MIDI[file] = MidiFile(os.path.join(folder,file),clip=clip)\n",
    "        self.files = list(self.MIDI.keys())\n",
    "        self.name = [[vars(a)['name'] for a in self.MIDI[f].tracks[0] if vars(a)['type']=='track_name'] for f in self.files]\n",
    "        self.text = [[vars(a)['text'] for a in self.MIDI[f].tracks[0] if vars(a)['type']=='text'] for f in self.files]"
   ]
  },
  {
   "cell_type": "code",
   "execution_count": 14,
   "id": "b58418f4",
   "metadata": {},
   "outputs": [
    {
     "name": "stdout",
     "output_type": "stream",
     "text": [
      "56.6 ms ± 1.7 ms per loop (mean ± std. dev. of 7 runs, 10 loops each)\n"
     ]
    }
   ],
   "source": [
    "s = harmonics.Song()"
   ]
  }
 ],
 "metadata": {
  "kernelspec": {
   "display_name": "Python 3 (ipykernel)",
   "language": "python",
   "name": "python3"
  },
  "language_info": {
   "codemirror_mode": {
    "name": "ipython",
    "version": 3
   },
   "file_extension": ".py",
   "mimetype": "text/x-python",
   "name": "python",
   "nbconvert_exporter": "python",
   "pygments_lexer": "ipython3",
   "version": "3.10.4"
  }
 },
 "nbformat": 4,
 "nbformat_minor": 5
}
