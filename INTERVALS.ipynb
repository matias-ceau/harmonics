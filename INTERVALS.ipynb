{
 "cells": [
  {
   "cell_type": "code",
   "execution_count": 79,
   "id": "1bc4936e",
   "metadata": {},
   "outputs": [],
   "source": [
    "import pandas as pd\n",
    "import yaml\n",
    "import importlib\n",
    "import harmonics, midi\n",
    "def rel():\n",
    "    importlib.reload(harmonics)\n",
    "    importlib.reload(midi)\n",
    "from mido import MidiFile\n",
    "import mido\n",
    "import os\n",
    "import datetime\n",
    "import numpy as np"
   ]
  },
  {
   "cell_type": "code",
   "execution_count": 2,
   "id": "653f34b4",
   "metadata": {},
   "outputs": [],
   "source": [
    "rel()"
   ]
  },
  {
   "cell_type": "code",
   "execution_count": 3,
   "id": "93890b66",
   "metadata": {},
   "outputs": [
    {
     "data": {
      "text/plain": [
       "[Bb, D, F, A]"
      ]
     },
     "execution_count": 3,
     "metadata": {},
     "output_type": "execute_result"
    }
   ],
   "source": [
    "harmonics.Melody('arp_M7',ref_note='Bb')"
   ]
  },
  {
   "cell_type": "code",
   "execution_count": 4,
   "id": "93c0c1ab",
   "metadata": {
    "scrolled": true
   },
   "outputs": [
    {
     "data": {
      "text/plain": [
       "[C, C]"
      ]
     },
     "execution_count": 4,
     "metadata": {},
     "output_type": "execute_result"
    }
   ],
   "source": [
    "harmonics.Note('C').append(harmonics.Note('C'))"
   ]
  },
  {
   "cell_type": "code",
   "execution_count": 5,
   "id": "65eaaa2a",
   "metadata": {},
   "outputs": [],
   "source": [
    "mid = MidiFile('jazzmidi/2_of_a_kind_jp.mid',clip=True)"
   ]
  },
  {
   "cell_type": "code",
   "execution_count": 164,
   "id": "927d0892",
   "metadata": {},
   "outputs": [],
   "source": [
    "import matplotlib.pyplot as plt"
   ]
  },
  {
   "cell_type": "code",
   "execution_count": 226,
   "id": "aaf6ad98",
   "metadata": {},
   "outputs": [],
   "source": [
    "import numpy as np\n",
    "from midiutil.MidiFile import MIDIFile as MD\n",
    "import time as chrono\n",
    "\n",
    "def export_midi(sequence,duration,positions,track=0,time=0,name=None,tempo=100):\n",
    "    if name == None:\n",
    "        name = str(chrono.time()).replace(\".\",\"\")\n",
    "    midi_object = MD(1)\n",
    "    midi_object.addTrackName(track,time,name)\n",
    "    midi_object.addTempo(track,time,tempo)\n",
    "    for n in range(len(sequence)):\n",
    "        midi_object.addNote(0,0,sequence[n],positions[n],duration[n],100)\n",
    "    midi_file = open('midi/'+name+'.mid','wb')\n",
    "    midi_object.writeFile(midi_file)\n",
    "    midi_file.close()"
   ]
  },
  {
   "cell_type": "code",
   "execution_count": 228,
   "id": "ec8ced86",
   "metadata": {},
   "outputs": [],
   "source": [
    "def import_csv(file,**kwargs):\n",
    "    f = open(file,'r')\n",
    "    lines = f.readlines()\n",
    "    for n,l in enumerate(lines):\n",
    "        if len(l.split(',')) == 4:\n",
    "            lines[n] = l.split('\\n')[0]+',\\n'\n",
    "    f.close()\n",
    "    f = open(file,'w')\n",
    "    f.writelines(lines)\n",
    "    f.close()\n",
    "    df = pd.read_csv(file,header=None,**kwargs)\n",
    "    pitches = df[1].values\n",
    "    dur = df[2].values\n",
    "    beat_dur = np.mean(dur)\n",
    "    tempo = int(60/beat_dur)\n",
    "    times = np.around(df[0]/beat_dur,2)\n",
    "    name = file.split('.csv')[0].split('/')[-1]\n",
    "    export_midi(pitches,dur,times,name=name,tempo=tempo)\n",
    "\n",
    "for file in os.listdir('weimar_jazz_database/csv_bass/csv_bass/'):\n",
    "    import_csv('weimar_jazz_database/csv_bass/csv_bass/'+file)"
   ]
  },
  {
   "cell_type": "code",
   "execution_count": 221,
   "id": "334605f1",
   "metadata": {},
   "outputs": [
    {
     "data": {
      "text/html": [
       "<div>\n",
       "<style scoped>\n",
       "    .dataframe tbody tr th:only-of-type {\n",
       "        vertical-align: middle;\n",
       "    }\n",
       "\n",
       "    .dataframe tbody tr th {\n",
       "        vertical-align: top;\n",
       "    }\n",
       "\n",
       "    .dataframe thead th {\n",
       "        text-align: right;\n",
       "    }\n",
       "</style>\n",
       "<table border=\"1\" class=\"dataframe\">\n",
       "  <thead>\n",
       "    <tr style=\"text-align: right;\">\n",
       "      <th></th>\n",
       "      <th>2.780997732</th>\n",
       "      <th>34</th>\n",
       "      <th>0.325011337</th>\n",
       "      <th>1</th>\n",
       "      <th>Unnamed: 4</th>\n",
       "    </tr>\n",
       "  </thead>\n",
       "  <tbody>\n",
       "    <tr>\n",
       "      <th>0</th>\n",
       "      <td>3.106009</td>\n",
       "      <td>36</td>\n",
       "      <td>0.308005</td>\n",
       "      <td>1.0</td>\n",
       "      <td>NaN</td>\n",
       "    </tr>\n",
       "    <tr>\n",
       "      <th>1</th>\n",
       "      <td>3.412993</td>\n",
       "      <td>37</td>\n",
       "      <td>0.311995</td>\n",
       "      <td>1.0</td>\n",
       "      <td>NaN</td>\n",
       "    </tr>\n",
       "    <tr>\n",
       "      <th>2</th>\n",
       "      <td>3.725011</td>\n",
       "      <td>38</td>\n",
       "      <td>0.307007</td>\n",
       "      <td>1.0</td>\n",
       "      <td>NaN</td>\n",
       "    </tr>\n",
       "    <tr>\n",
       "      <th>3</th>\n",
       "      <td>4.032993</td>\n",
       "      <td>39</td>\n",
       "      <td>0.318005</td>\n",
       "      <td>1.0</td>\n",
       "      <td>NaN</td>\n",
       "    </tr>\n",
       "    <tr>\n",
       "      <th>4</th>\n",
       "      <td>4.350998</td>\n",
       "      <td>40</td>\n",
       "      <td>0.318005</td>\n",
       "      <td>1.0</td>\n",
       "      <td>NaN</td>\n",
       "    </tr>\n",
       "    <tr>\n",
       "      <th>...</th>\n",
       "      <td>...</td>\n",
       "      <td>...</td>\n",
       "      <td>...</td>\n",
       "      <td>...</td>\n",
       "      <td>...</td>\n",
       "    </tr>\n",
       "    <tr>\n",
       "      <th>100</th>\n",
       "      <td>34.040000</td>\n",
       "      <td>46</td>\n",
       "      <td>0.319002</td>\n",
       "      <td>1.0</td>\n",
       "      <td>NaN</td>\n",
       "    </tr>\n",
       "    <tr>\n",
       "      <th>101</th>\n",
       "      <td>34.358277</td>\n",
       "      <td>47</td>\n",
       "      <td>0.319002</td>\n",
       "      <td>1.0</td>\n",
       "      <td>NaN</td>\n",
       "    </tr>\n",
       "    <tr>\n",
       "      <th>102</th>\n",
       "      <td>34.679002</td>\n",
       "      <td>46</td>\n",
       "      <td>0.283991</td>\n",
       "      <td>1.0</td>\n",
       "      <td>NaN</td>\n",
       "    </tr>\n",
       "    <tr>\n",
       "      <th>103</th>\n",
       "      <td>34.962993</td>\n",
       "      <td>45</td>\n",
       "      <td>0.312993</td>\n",
       "      <td>1.0</td>\n",
       "      <td>NaN</td>\n",
       "    </tr>\n",
       "    <tr>\n",
       "      <th>104</th>\n",
       "      <td>35.277007</td>\n",
       "      <td>44</td>\n",
       "      <td>0.296009</td>\n",
       "      <td>1.0</td>\n",
       "      <td>NaN</td>\n",
       "    </tr>\n",
       "  </tbody>\n",
       "</table>\n",
       "<p>105 rows × 5 columns</p>\n",
       "</div>"
      ],
      "text/plain": [
       "     2.780997732  34  0.325011337    1 Unnamed: 4\n",
       "0       3.106009  36     0.308005  1.0        NaN\n",
       "1       3.412993  37     0.311995  1.0        NaN\n",
       "2       3.725011  38     0.307007  1.0        NaN\n",
       "3       4.032993  39     0.318005  1.0        NaN\n",
       "4       4.350998  40     0.318005  1.0        NaN\n",
       "..           ...  ..          ...  ...        ...\n",
       "100    34.040000  46     0.319002  1.0        NaN\n",
       "101    34.358277  47     0.319002  1.0        NaN\n",
       "102    34.679002  46     0.283991  1.0        NaN\n",
       "103    34.962993  45     0.312993  1.0        NaN\n",
       "104    35.277007  44     0.296009  1.0        NaN\n",
       "\n",
       "[105 rows x 5 columns]"
      ]
     },
     "execution_count": 221,
     "metadata": {},
     "output_type": "execute_result"
    }
   ],
   "source": [
    "df"
   ]
  },
  {
   "cell_type": "code",
   "execution_count": 205,
   "id": "75ba1611",
   "metadata": {},
   "outputs": [
    {
     "name": "stdout",
     "output_type": "stream",
     "text": [
      "chords.csv      INTERVALS.ipynb  \u001b[0m\u001b[01;34mmidi\u001b[0m/         VampireKillerCV1.mid\r\n",
      "config.yaml     jazz.csv         midi.py       VampireKillerCV3.mid\r\n",
      "convertcsv.csv  \u001b[01;34mjazzmidi\u001b[0m/        \u001b[01;34m__pycache__\u001b[0m/  \u001b[01;34mweimar_jazz_database\u001b[0m/\r\n",
      "harmonics.py    \u001b[01;34mjazzparser\u001b[0m/      scales.csv\r\n"
     ]
    }
   ],
   "source": [
    "%ls"
   ]
  },
  {
   "cell_type": "code",
   "execution_count": null,
   "id": "6555a327",
   "metadata": {},
   "outputs": [],
   "source": [
    "def csv_to_df():\n",
    "    r_dile = open(file)\n",
    "    "
   ]
  },
  {
   "cell_type": "code",
   "execution_count": 177,
   "id": "391fd2cc",
   "metadata": {
    "scrolled": false
   },
   "outputs": [
    {
     "ename": "ValueError",
     "evalue": "DataFrame constructor not properly called!",
     "output_type": "error",
     "traceback": [
      "\u001b[0;31m---------------------------------------------------------------------------\u001b[0m",
      "\u001b[0;31mValueError\u001b[0m                                Traceback (most recent call last)",
      "Input \u001b[0;32mIn [177]\u001b[0m, in \u001b[0;36m<cell line: 1>\u001b[0;34m()\u001b[0m\n\u001b[0;32m----> 1\u001b[0m df \u001b[38;5;241m=\u001b[39m \u001b[43mpd\u001b[49m\u001b[38;5;241;43m.\u001b[39;49m\u001b[43mDataFrame\u001b[49m\u001b[43m(\u001b[49m\u001b[38;5;124;43m'\u001b[39;49m\u001b[38;5;124;43mweimar_jazz_database/csv_bass/csv_bass/ArtPepper_BluesforBlanche_Solo_bass.csv\u001b[39;49m\u001b[38;5;124;43m'\u001b[39;49m\u001b[43m)\u001b[49m\n",
      "File \u001b[0;32m~/.local/lib/python3.10/site-packages/pandas/core/frame.py:756\u001b[0m, in \u001b[0;36mDataFrame.__init__\u001b[0;34m(self, data, index, columns, dtype, copy)\u001b[0m\n\u001b[1;32m    753\u001b[0m \u001b[38;5;66;03m# For data is scalar\u001b[39;00m\n\u001b[1;32m    754\u001b[0m \u001b[38;5;28;01melse\u001b[39;00m:\n\u001b[1;32m    755\u001b[0m     \u001b[38;5;28;01mif\u001b[39;00m index \u001b[38;5;129;01mis\u001b[39;00m \u001b[38;5;28;01mNone\u001b[39;00m \u001b[38;5;129;01mor\u001b[39;00m columns \u001b[38;5;129;01mis\u001b[39;00m \u001b[38;5;28;01mNone\u001b[39;00m:\n\u001b[0;32m--> 756\u001b[0m         \u001b[38;5;28;01mraise\u001b[39;00m \u001b[38;5;167;01mValueError\u001b[39;00m(\u001b[38;5;124m\"\u001b[39m\u001b[38;5;124mDataFrame constructor not properly called!\u001b[39m\u001b[38;5;124m\"\u001b[39m)\n\u001b[1;32m    758\u001b[0m     \u001b[38;5;66;03m# Argument 1 to \"ensure_index\" has incompatible type \"Collection[Any]\";\u001b[39;00m\n\u001b[1;32m    759\u001b[0m     \u001b[38;5;66;03m# expected \"Union[Union[Union[ExtensionArray, ndarray],\u001b[39;00m\n\u001b[1;32m    760\u001b[0m     \u001b[38;5;66;03m# Index, Series], Sequence[Any]]\"\u001b[39;00m\n\u001b[1;32m    761\u001b[0m     index \u001b[38;5;241m=\u001b[39m ensure_index(index)  \u001b[38;5;66;03m# type: ignore[arg-type]\u001b[39;00m\n",
      "\u001b[0;31mValueError\u001b[0m: DataFrame constructor not properly called!"
     ]
    }
   ],
   "source": [
    "df = pd.DataFrame('weimar_jazz_database/csv_bass/csv_bass/ArtPepper_BluesforBlanche_Solo_bass.csv')"
   ]
  },
  {
   "cell_type": "code",
   "execution_count": 8,
   "id": "fe5fea1a",
   "metadata": {},
   "outputs": [],
   "source": [
    "class MidiAnalyzer():\n",
    "    def __init__(self,folder,clip=True):\n",
    "        self.MIDI = {}\n",
    "        for file in os.listdir(folder):\n",
    "            if '.mid' in file:\n",
    "                self.MIDI[file] = MidiFile(os.path.join(folder,file),clip=clip)\n",
    "        self.files = list(self.MIDI.keys())\n",
    "        self.name = [[vars(a)['name'] for a in self.MIDI[f].tracks[0] if vars(a)['type']=='track_name'] for f in self.files]\n",
    "        self.text = [[vars(a)['text'] for a in self.MIDI[f].tracks[0] if vars(a)['type']=='text'] for f in self.files]"
   ]
  },
  {
   "cell_type": "code",
   "execution_count": 9,
   "id": "6085bcb6",
   "metadata": {},
   "outputs": [
    {
     "name": "stdout",
     "output_type": "stream",
     "text": [
      "Took 56.80321288108826 seconds\n"
     ]
    }
   ],
   "source": [
    "start = datetime.datetime.timestamp(datetime.datetime.now())\n",
    "foldermidi = MidiAnalyzer('jazzmidi')\n",
    "end = datetime.datetime.timestamp(datetime.datetime.now())\n",
    "print(f\"Took {end-start} seconds\")"
   ]
  },
  {
   "cell_type": "code",
   "execution_count": 156,
   "id": "1bbbf4de",
   "metadata": {},
   "outputs": [
    {
     "data": {
      "text/plain": [
       "<__main__.MidiAnalyzer at 0x7f448570b460>"
      ]
     },
     "execution_count": 156,
     "metadata": {},
     "output_type": "execute_result"
    }
   ],
   "source": [
    "foldermidi"
   ]
  },
  {
   "cell_type": "code",
   "execution_count": null,
   "id": "275f209c",
   "metadata": {},
   "outputs": [],
   "source": []
  }
 ],
 "metadata": {
  "kernelspec": {
   "display_name": "Python 3 (ipykernel)",
   "language": "python",
   "name": "python3"
  },
  "language_info": {
   "codemirror_mode": {
    "name": "ipython",
    "version": 3
   },
   "file_extension": ".py",
   "mimetype": "text/x-python",
   "name": "python",
   "nbconvert_exporter": "python",
   "pygments_lexer": "ipython3",
   "version": "3.10.4"
  }
 },
 "nbformat": 4,
 "nbformat_minor": 5
}
