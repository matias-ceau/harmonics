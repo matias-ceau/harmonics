{
 "cells": [
  {
   "cell_type": "code",
   "execution_count": 79,
   "id": "1bc4936e",
   "metadata": {},
   "outputs": [],
   "source": [
    "import pandas as pd\n",
    "import yaml\n",
    "import importlib\n",
    "import harmonics, midi\n",
    "def rel():\n",
    "    importlib.reload(harmonics)\n",
    "    importlib.reload(midi)\n",
    "from mido import MidiFile\n",
    "import mido\n",
    "import os\n",
    "import datetime\n",
    "import numpy as np"
   ]
  },
  {
   "cell_type": "code",
   "execution_count": 2,
   "id": "653f34b4",
   "metadata": {},
   "outputs": [],
   "source": [
    "rel()"
   ]
  },
  {
   "cell_type": "code",
   "execution_count": 3,
   "id": "93890b66",
   "metadata": {},
   "outputs": [
    {
     "data": {
      "text/plain": [
       "[Bb, D, F, A]"
      ]
     },
     "execution_count": 3,
     "metadata": {},
     "output_type": "execute_result"
    }
   ],
   "source": [
    "harmonics.Melody('arp_M7',ref_note='Bb')"
   ]
  },
  {
   "cell_type": "code",
   "execution_count": 4,
   "id": "93c0c1ab",
   "metadata": {
    "scrolled": true
   },
   "outputs": [
    {
     "data": {
      "text/plain": [
       "[C, C]"
      ]
     },
     "execution_count": 4,
     "metadata": {},
     "output_type": "execute_result"
    }
   ],
   "source": [
    "harmonics.Note('C').append(harmonics.Note('C'))"
   ]
  },
  {
   "cell_type": "code",
   "execution_count": 5,
   "id": "d40662f2",
   "metadata": {},
   "outputs": [],
   "source": [
    "mid = MidiFile('jazzmidi/2_of_a_kind_jp.mid',clip=True)"
   ]
  },
  {
   "cell_type": "code",
   "execution_count": 161,
   "id": "39939a07",
   "metadata": {},
   "outputs": [],
   "source": [
    "di = {k:0 for k in set(df['key_signature'])}"
   ]
  },
  {
   "cell_type": "code",
   "execution_count": 162,
   "id": "a3767b4a",
   "metadata": {},
   "outputs": [],
   "source": [
    "for key in df.key_signature:\n",
    "    di[key] += 1"
   ]
  },
  {
   "cell_type": "code",
   "execution_count": 164,
   "id": "53627e6b",
   "metadata": {},
   "outputs": [],
   "source": [
    "import matplotlib.pyplot as plt"
   ]
  },
  {
   "cell_type": "code",
   "execution_count": 176,
   "id": "ed608d7b",
   "metadata": {},
   "outputs": [
    {
     "data": {
      "text/html": [
       "<div>\n",
       "<style scoped>\n",
       "    .dataframe tbody tr th:only-of-type {\n",
       "        vertical-align: middle;\n",
       "    }\n",
       "\n",
       "    .dataframe tbody tr th {\n",
       "        vertical-align: top;\n",
       "    }\n",
       "\n",
       "    .dataframe thead th {\n",
       "        text-align: right;\n",
       "    }\n",
       "</style>\n",
       "<table border=\"1\" class=\"dataframe\">\n",
       "  <thead>\n",
       "    <tr style=\"text-align: right;\">\n",
       "      <th></th>\n",
       "      <th>set_tempo</th>\n",
       "    </tr>\n",
       "  </thead>\n",
       "  <tbody>\n",
       "    <tr>\n",
       "      <th>count</th>\n",
       "      <td>770.000000</td>\n",
       "    </tr>\n",
       "    <tr>\n",
       "      <th>mean</th>\n",
       "      <td>124.480519</td>\n",
       "    </tr>\n",
       "    <tr>\n",
       "      <th>std</th>\n",
       "      <td>43.370245</td>\n",
       "    </tr>\n",
       "    <tr>\n",
       "      <th>min</th>\n",
       "      <td>8.000000</td>\n",
       "    </tr>\n",
       "    <tr>\n",
       "      <th>25%</th>\n",
       "      <td>94.000000</td>\n",
       "    </tr>\n",
       "    <tr>\n",
       "      <th>50%</th>\n",
       "      <td>120.000000</td>\n",
       "    </tr>\n",
       "    <tr>\n",
       "      <th>75%</th>\n",
       "      <td>145.000000</td>\n",
       "    </tr>\n",
       "    <tr>\n",
       "      <th>max</th>\n",
       "      <td>324.000000</td>\n",
       "    </tr>\n",
       "  </tbody>\n",
       "</table>\n",
       "</div>"
      ],
      "text/plain": [
       "        set_tempo\n",
       "count  770.000000\n",
       "mean   124.480519\n",
       "std     43.370245\n",
       "min      8.000000\n",
       "25%     94.000000\n",
       "50%    120.000000\n",
       "75%    145.000000\n",
       "max    324.000000"
      ]
     },
     "execution_count": 176,
     "metadata": {},
     "output_type": "execute_result"
    }
   ],
   "source": [
    "df.describe()"
   ]
  },
  {
   "cell_type": "code",
   "execution_count": 170,
   "id": "7e710ca7",
   "metadata": {},
   "outputs": [],
   "source": [
    "df_keys = pd.Series(di.values(),index=di.keys())"
   ]
  },
  {
   "cell_type": "code",
   "execution_count": 172,
   "id": "b6ed8dad",
   "metadata": {},
   "outputs": [],
   "source": [
    "df_keys.sort_values(inplace=True)"
   ]
  },
  {
   "cell_type": "code",
   "execution_count": 174,
   "id": "8fad348e",
   "metadata": {
    "scrolled": true
   },
   "outputs": [
    {
     "data": {
      "text/plain": [
       "<BarContainer object of 16 artists>"
      ]
     },
     "execution_count": 174,
     "metadata": {},
     "output_type": "execute_result"
    },
    {
     "data": {
      "image/png": "[encoded data removed]",
      "text/plain": [
       "<Figure size 432x288 with 1 Axes>"
      ]
     },
     "metadata": {
      "needs_background": "light"
     },
     "output_type": "display_data"
    }
   ],
   "source": [
    "plt.bar(range(len(df_keys)),df_keys,tick_label=df_keys.index)"
   ]
  },
  {
   "cell_type": "code",
   "execution_count": 8,
   "id": "b89136b7",
   "metadata": {},
   "outputs": [],
   "source": [
    "class MidiAnalyzer():\n",
    "    def __init__(self,folder,clip=True):\n",
    "        self.MIDI = {}\n",
    "        for file in os.listdir(folder):\n",
    "            if '.mid' in file:\n",
    "                self.MIDI[file] = MidiFile(os.path.join(folder,file),clip=clip)\n",
    "        self.files = list(self.MIDI.keys())\n",
    "        self.name = [[vars(a)['name'] for a in self.MIDI[f].tracks[0] if vars(a)['type']=='track_name'] for f in self.files]\n",
    "        self.text = [[vars(a)['text'] for a in self.MIDI[f].tracks[0] if vars(a)['type']=='text'] for f in self.files]"
   ]
  },
  {
   "cell_type": "code",
   "execution_count": 9,
   "id": "b939def1",
   "metadata": {},
   "outputs": [
    {
     "name": "stdout",
     "output_type": "stream",
     "text": [
      "Took 56.80321288108826 seconds\n"
     ]
    }
   ],
   "source": [
    "start = datetime.datetime.timestamp(datetime.datetime.now())\n",
    "foldermidi = MidiAnalyzer('jazzmidi')\n",
    "end = datetime.datetime.timestamp(datetime.datetime.now())\n",
    "print(f\"Took {end-start} seconds\")"
   ]
  },
  {
   "cell_type": "code",
   "execution_count": 156,
   "id": "bb333d82",
   "metadata": {},
   "outputs": [
    {
     "data": {
      "text/plain": [
       "<__main__.MidiAnalyzer at 0x7f448570b460>"
      ]
     },
     "execution_count": 156,
     "metadata": {},
     "output_type": "execute_result"
    }
   ],
   "source": [
    "foldermidi"
   ]
  },
  {
   "cell_type": "code",
   "execution_count": null,
   "id": "f010c98e",
   "metadata": {},
   "outputs": [],
   "source": []
  }
 ],
 "metadata": {
  "kernelspec": {
   "display_name": "Python 3 (ipykernel)",
   "language": "python",
   "name": "python3"
  },
  "language_info": {
   "codemirror_mode": {
    "name": "ipython",
    "version": 3
   },
   "file_extension": ".py",
   "mimetype": "text/x-python",
   "name": "python",
   "nbconvert_exporter": "python",
   "pygments_lexer": "ipython3",
   "version": "3.10.4"
  }
 },
 "nbformat": 4,
 "nbformat_minor": 5
}
