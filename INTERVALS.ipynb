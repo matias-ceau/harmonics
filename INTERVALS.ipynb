{
 "cells": [
  {
   "cell_type": "code",
   "execution_count": 1,
   "id": "dc14fe78",
   "metadata": {
    "scrolled": false
   },
   "outputs": [
    {
     "name": "stdout",
     "output_type": "stream",
     "text": [
      "[WinError 2] Le fichier spécifié est introuvable: 'harmonics/'\n",
      "C:\\Users\\mceau\\Documents\\harmonics\n"
     ]
    }
   ],
   "source": [
    "%cd harmonics/"
   ]
  },
  {
   "cell_type": "code",
   "execution_count": 34,
   "id": "1bc4936e",
   "metadata": {
    "scrolled": true
   },
   "outputs": [],
   "source": [
    "import pandas as pd\n",
    "import yaml\n",
    "import importlib\n",
    "import harmonics, midi\n",
    "def rel():\n",
    "    importlib.reload(harmonics)\n",
    "    importlib.reload(midi)\n",
    "from mido import MidiFile\n",
    "import mido\n",
    "import os\n",
    "import datetime\n",
    "import numpy as np\n",
    "import matplotlib.pyplot as plt\n",
    "rel()"
   ]
  },
  {
   "cell_type": "code",
   "execution_count": 35,
   "id": "9c272e21",
   "metadata": {},
   "outputs": [],
   "source": [
    "c = harmonics.Note('C')\n",
    "d = harmonics.Note('D')\n",
    "e = harmonics.Note('E')\n",
    "f = harmonics.Note('F')"
   ]
  },
  {
   "cell_type": "code",
   "execution_count": 69,
   "id": "86fc46d9",
   "metadata": {},
   "outputs": [
    {
     "data": {
      "text/plain": [
       "'12345671'"
      ]
     },
     "execution_count": 69,
     "metadata": {},
     "output_type": "execute_result"
    }
   ],
   "source": [
    "''.join([str(i) for i in harmonics.Pattern.ALL['Ionian mode']])"
   ]
  },
  {
   "cell_type": "code",
   "execution_count": null,
   "id": "d154f2ad",
   "metadata": {},
   "outputs": [],
   "source": []
  },
  {
   "cell_type": "code",
   "execution_count": 71,
   "id": "f06e6202",
   "metadata": {
    "scrolled": false
   },
   "outputs": [
    {
     "name": "stdout",
     "output_type": "stream",
     "text": [
      "Ionian mode                    ==  Aeolian mode        \n",
      "Ionian mode                    ==  Dorian mode         \n",
      "Ionian mode                    ==  Locrian mode        \n",
      "Ionian mode                    ==  Lydian mode         \n",
      "Ionian mode                    ==  Mixolydian mode     \n",
      "Ionian mode                    ==  Phrygian mode       \n"
     ]
    }
   ],
   "source": [
    "arr = [(k,harmonics.Pattern(name=k).distance) for k in harmonics.Pattern.ALL.keys() if harmonics.Pattern(name=k).distance.shape[0]==7]\n",
    "name = [a for a,b in arr]\n",
    "scales = [b for a,b in arr]\n",
    "search = [''.join([str(i) for i in scale]) for scale in scales]\n",
    "data = [a+a for a in search]\n",
    "#for n,s1 in enumerate(search):\n",
    "#    scale_name = name[n]\n",
    "scale_name = 'Ionian mode'\n",
    "s1 = ''.join([str(i) for i in harmonics.Pattern(name=scale_name).distance])\n",
    "for m,s2 in enumerate(data):\n",
    "    match_name = name[m]\n",
    "    if s1 in s2:\n",
    "        if scale_name != match_name:\n",
    "            print(f'{scale_name:<30} ==  {match_name:<20}')"
   ]
  },
  {
   "cell_type": "code",
   "execution_count": 6,
   "id": "1fe8b305",
   "metadata": {
    "scrolled": true
   },
   "outputs": [
    {
     "name": "stdout",
     "output_type": "stream",
     "text": [
      "23.5 ms ± 473 µs per loop (mean ± std. dev. of 7 runs, 10 loops each)\n"
     ]
    }
   ],
   "source": [
    "%timeit [harmonics.Note(i).MIDI for i in ['C']*1000]"
   ]
  },
  {
   "cell_type": "code",
   "execution_count": 7,
   "id": "2cb4b63f",
   "metadata": {
    "scrolled": true
   },
   "outputs": [
    {
     "name": "stdout",
     "output_type": "stream",
     "text": [
      "26 ms ± 775 µs per loop (mean ± std. dev. of 7 runs, 10 loops each)\n"
     ]
    }
   ],
   "source": [
    "%timeit [harmonics.Note(i) for i in [60]*1000]"
   ]
  },
  {
   "cell_type": "code",
   "execution_count": 8,
   "id": "babff84c",
   "metadata": {
    "scrolled": true
   },
   "outputs": [
    {
     "name": "stdout",
     "output_type": "stream",
     "text": [
      "18.4 ms ± 248 µs per loop (mean ± std. dev. of 7 runs, 100 loops each)\n"
     ]
    }
   ],
   "source": [
    "%timeit [harmonics.Interval(i) for i in range(1_000)]"
   ]
  },
  {
   "cell_type": "code",
   "execution_count": 9,
   "id": "ec8ced86",
   "metadata": {},
   "outputs": [
    {
     "ename": "NameError",
     "evalue": "name 'export_midi' is not defined",
     "output_type": "error",
     "traceback": [
      "\u001b[1;31m---------------------------------------------------------------------------\u001b[0m",
      "\u001b[1;31mNameError\u001b[0m                                 Traceback (most recent call last)",
      "\u001b[1;32m~\\AppData\\Local\\Temp/ipykernel_13264/1980530223.py\u001b[0m in \u001b[0;36m<module>\u001b[1;34m\u001b[0m\n\u001b[0;32m     19\u001b[0m \u001b[1;33m\u001b[0m\u001b[0m\n\u001b[0;32m     20\u001b[0m \u001b[1;32mfor\u001b[0m \u001b[0mfile\u001b[0m \u001b[1;32min\u001b[0m \u001b[0mos\u001b[0m\u001b[1;33m.\u001b[0m\u001b[0mlistdir\u001b[0m\u001b[1;33m(\u001b[0m\u001b[1;34m'weimar_jazz_database/csv_bass/csv_bass/'\u001b[0m\u001b[1;33m)\u001b[0m\u001b[1;33m:\u001b[0m\u001b[1;33m\u001b[0m\u001b[1;33m\u001b[0m\u001b[0m\n\u001b[1;32m---> 21\u001b[1;33m     \u001b[0mimport_csv\u001b[0m\u001b[1;33m(\u001b[0m\u001b[1;34m'weimar_jazz_database/csv_bass/csv_bass/'\u001b[0m\u001b[1;33m+\u001b[0m\u001b[0mfile\u001b[0m\u001b[1;33m)\u001b[0m\u001b[1;33m\u001b[0m\u001b[1;33m\u001b[0m\u001b[0m\n\u001b[0m",
      "\u001b[1;32m~\\AppData\\Local\\Temp/ipykernel_13264/1980530223.py\u001b[0m in \u001b[0;36mimport_csv\u001b[1;34m(file, **kwargs)\u001b[0m\n\u001b[0;32m     16\u001b[0m     \u001b[0mtimes\u001b[0m \u001b[1;33m=\u001b[0m \u001b[0mnp\u001b[0m\u001b[1;33m.\u001b[0m\u001b[0maround\u001b[0m\u001b[1;33m(\u001b[0m\u001b[0mdf\u001b[0m\u001b[1;33m[\u001b[0m\u001b[1;36m0\u001b[0m\u001b[1;33m]\u001b[0m\u001b[1;33m/\u001b[0m\u001b[0mbeat_dur\u001b[0m\u001b[1;33m,\u001b[0m\u001b[1;36m2\u001b[0m\u001b[1;33m)\u001b[0m\u001b[1;33m\u001b[0m\u001b[1;33m\u001b[0m\u001b[0m\n\u001b[0;32m     17\u001b[0m     \u001b[0mname\u001b[0m \u001b[1;33m=\u001b[0m \u001b[0mfile\u001b[0m\u001b[1;33m.\u001b[0m\u001b[0msplit\u001b[0m\u001b[1;33m(\u001b[0m\u001b[1;34m'.csv'\u001b[0m\u001b[1;33m)\u001b[0m\u001b[1;33m[\u001b[0m\u001b[1;36m0\u001b[0m\u001b[1;33m]\u001b[0m\u001b[1;33m.\u001b[0m\u001b[0msplit\u001b[0m\u001b[1;33m(\u001b[0m\u001b[1;34m'/'\u001b[0m\u001b[1;33m)\u001b[0m\u001b[1;33m[\u001b[0m\u001b[1;33m-\u001b[0m\u001b[1;36m1\u001b[0m\u001b[1;33m]\u001b[0m\u001b[1;33m\u001b[0m\u001b[1;33m\u001b[0m\u001b[0m\n\u001b[1;32m---> 18\u001b[1;33m     \u001b[0mexport_midi\u001b[0m\u001b[1;33m(\u001b[0m\u001b[0mpitches\u001b[0m\u001b[1;33m,\u001b[0m\u001b[0mdur\u001b[0m\u001b[1;33m,\u001b[0m\u001b[0mtimes\u001b[0m\u001b[1;33m,\u001b[0m\u001b[0mname\u001b[0m\u001b[1;33m=\u001b[0m\u001b[0mname\u001b[0m\u001b[1;33m,\u001b[0m\u001b[0mtempo\u001b[0m\u001b[1;33m=\u001b[0m\u001b[0mtempo\u001b[0m\u001b[1;33m)\u001b[0m\u001b[1;33m\u001b[0m\u001b[1;33m\u001b[0m\u001b[0m\n\u001b[0m\u001b[0;32m     19\u001b[0m \u001b[1;33m\u001b[0m\u001b[0m\n\u001b[0;32m     20\u001b[0m \u001b[1;32mfor\u001b[0m \u001b[0mfile\u001b[0m \u001b[1;32min\u001b[0m \u001b[0mos\u001b[0m\u001b[1;33m.\u001b[0m\u001b[0mlistdir\u001b[0m\u001b[1;33m(\u001b[0m\u001b[1;34m'weimar_jazz_database/csv_bass/csv_bass/'\u001b[0m\u001b[1;33m)\u001b[0m\u001b[1;33m:\u001b[0m\u001b[1;33m\u001b[0m\u001b[1;33m\u001b[0m\u001b[0m\n",
      "\u001b[1;31mNameError\u001b[0m: name 'export_midi' is not defined"
     ]
    }
   ],
   "source": [
    "def import_csv(file,**kwargs):\n",
    "    f = open(file,'r')\n",
    "    lines = f.readlines()\n",
    "    for n,l in enumerate(lines):\n",
    "        if len(l.split(',')) == 4:\n",
    "            lines[n] = l.split('\\n')[0]+',\\n'\n",
    "    f.close()\n",
    "    f = open(file,'w')\n",
    "    f.writelines(lines)\n",
    "    f.close()\n",
    "    df = pd.read_csv(file,header=None,**kwargs)\n",
    "    pitches = df[1].values\n",
    "    dur = df[2].values\n",
    "    beat_dur = np.mean(dur)\n",
    "    tempo = int(60/beat_dur)\n",
    "    times = np.around(df[0]/beat_dur,2)\n",
    "    name = file.split('.csv')[0].split('/')[-1]\n",
    "    export_midi(pitches,dur,times,name=name,tempo=tempo)\n",
    "\n",
    "for file in os.listdir('weimar_jazz_database/csv_bass/csv_bass/'):\n",
    "    import_csv('weimar_jazz_database/csv_bass/csv_bass/'+file)"
   ]
  },
  {
   "cell_type": "markdown",
   "id": "4f25b163",
   "metadata": {},
   "source": [
    "class MidiAnalyzer():\n",
    "    def __init__(self,folder,clip=True):\n",
    "        self.MIDI = {}\n",
    "        for file in os.listdir(folder):\n",
    "            if '.mid' in file:\n",
    "                self.MIDI[file] = MidiFile(os.path.join(folder,file),clip=clip)\n",
    "        self.files = list(self.MIDI.keys())\n",
    "        self.name = [[vars(a)['name'] for a in self.MIDI[f].tracks[0] if vars(a)['type']=='track_name'] for f in self.files]\n",
    "        self.text = [[vars(a)['text'] for a in self.MIDI[f].tracks[0] if vars(a)['type']=='text'] for f in self.files]"
   ]
  },
  {
   "cell_type": "code",
   "execution_count": null,
   "id": "0e4b39a3",
   "metadata": {
    "scrolled": true
   },
   "outputs": [],
   "source": [
    "anthro = harmonics.Song('weimar_jazz_database/RELEASE2.0_mid_unquant/ArtPepper_Anthropology_FINAL.mid')"
   ]
  },
  {
   "cell_type": "code",
   "execution_count": null,
   "id": "97c4bbc3",
   "metadata": {},
   "outputs": [],
   "source": [
    "(harmonics.Note('D')+harmonics.Interval(12))/harmonics.Note('C')"
   ]
  },
  {
   "cell_type": "code",
   "execution_count": null,
   "id": "5060ff86",
   "metadata": {},
   "outputs": [],
   "source": [
    "tuple([12,11])[0]"
   ]
  },
  {
   "cell_type": "code",
   "execution_count": null,
   "id": "dff8c8d3",
   "metadata": {
    "scrolled": true
   },
   "outputs": [],
   "source": [
    "def invert(interval):\n",
    "    if interval == 0:\n",
    "        return 0\n",
    "    if interval > 0:\n",
    "        return interval%12"
   ]
  },
  {
   "cell_type": "code",
   "execution_count": null,
   "id": "00dc31ff",
   "metadata": {
    "scrolled": true
   },
   "outputs": [],
   "source": [
    "[c for c in harmonics.Music.EDICT[]]"
   ]
  },
  {
   "cell_type": "code",
   "execution_count": null,
   "id": "2db5f80f",
   "metadata": {},
   "outputs": [],
   "source": [
    "'7'.isnumeric()"
   ]
  },
  {
   "cell_type": "code",
   "execution_count": null,
   "id": "6867b93f",
   "metadata": {},
   "outputs": [],
   "source": []
  },
  {
   "cell_type": "code",
   "execution_count": null,
   "id": "6f4554d6",
   "metadata": {
    "scrolled": true
   },
   "outputs": [],
   "source": [
    "rel()\n",
    "m =(harmonics.Melody('arp_M7')  + harmonics.Melody('arp_M7'))"
   ]
  },
  {
   "cell_type": "code",
   "execution_count": null,
   "id": "55e9e659",
   "metadata": {},
   "outputs": [],
   "source": [
    "m.ref_note"
   ]
  },
  {
   "cell_type": "code",
   "execution_count": null,
   "id": "54d30900",
   "metadata": {},
   "outputs": [],
   "source": [
    "harmonics.Chord(chord='I')"
   ]
  },
  {
   "cell_type": "code",
   "execution_count": null,
   "id": "77b3bef8",
   "metadata": {
    "scrolled": false
   },
   "outputs": [],
   "source": [
    "~(harmonics.Note(60) // harmonics.Note(103))"
   ]
  },
  {
   "cell_type": "code",
   "execution_count": null,
   "id": "ba3bd269",
   "metadata": {},
   "outputs": [],
   "source": [
    "tra = anthro.MIDI.tracks[0]"
   ]
  },
  {
   "cell_type": "code",
   "execution_count": null,
   "id": "53a1a0b1",
   "metadata": {
    "scrolled": true
   },
   "outputs": [],
   "source": [
    "df = anthro.df\n",
    "df"
   ]
  },
  {
   "cell_type": "code",
   "execution_count": null,
   "id": "275f209c",
   "metadata": {},
   "outputs": [],
   "source": [
    "\n",
    "\n",
    "#for n,t in enumerate(m.tracks)\n",
    "#Song('groove_midi/groove/drummer1/session3/10_rock-folk_90_beat_4-4.mid').df.tempo.dropna().values"
   ]
  },
  {
   "cell_type": "code",
   "execution_count": null,
   "id": "428987b2",
   "metadata": {},
   "outputs": [],
   "source": [
    "mido.Message('note_on')"
   ]
  },
  {
   "cell_type": "code",
   "execution_count": null,
   "id": "399db63b",
   "metadata": {},
   "outputs": [],
   "source": []
  }
 ],
 "metadata": {
  "kernelspec": {
   "display_name": "Python 3 (ipykernel)",
   "language": "python",
   "name": "python3"
  },
  "language_info": {
   "codemirror_mode": {
    "name": "ipython",
    "version": 3
   },
   "file_extension": ".py",
   "mimetype": "text/x-python",
   "name": "python",
   "nbconvert_exporter": "python",
   "pygments_lexer": "ipython3",
   "version": "3.9.7"
  }
 },
 "nbformat": 4,
 "nbformat_minor": 5
}
