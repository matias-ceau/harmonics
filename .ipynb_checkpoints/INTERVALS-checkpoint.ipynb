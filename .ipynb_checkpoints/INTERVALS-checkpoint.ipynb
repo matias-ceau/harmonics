{
 "cells": [
  {
   "cell_type": "code",
   "execution_count": 294,
   "id": "dc14fe78",
   "metadata": {
    "scrolled": false
   },
   "outputs": [
    {
     "name": "stdout",
     "output_type": "stream",
     "text": [
      "[Errno 2] No such file or directory: 'harmonics/'\n",
      "/home/matias/HDD/Dropbox/apps/harmonics\n"
     ]
    }
   ],
   "source": [
    "%cd harmonics/"
   ]
  },
  {
   "cell_type": "code",
   "execution_count": 417,
   "id": "1bc4936e",
   "metadata": {
    "scrolled": true
   },
   "outputs": [],
   "source": [
    "import pandas as pd\n",
    "import yaml\n",
    "import importlib\n",
    "import harmonics, midi\n",
    "def rel():\n",
    "    importlib.reload(harmonics)\n",
    "    importlib.reload(midi)\n",
    "from mido import MidiFile\n",
    "import mido\n",
    "import os\n",
    "import datetime\n",
    "import numpy as np\n",
    "import matplotlib.pyplot as plt\n",
    "rel()"
   ]
  },
  {
   "cell_type": "markdown",
   "id": "4f25b163",
   "metadata": {},
   "source": [
    "class MidiAnalyzer():\n",
    "    def __init__(self,folder,clip=True):\n",
    "        self.MIDI = {}\n",
    "        for file in os.listdir(folder):\n",
    "            if '.mid' in file:\n",
    "                self.MIDI[file] = MidiFile(os.path.join(folder,file),clip=clip)\n",
    "        self.files = list(self.MIDI.keys())\n",
    "        self.name = [[vars(a)['name'] for a in self.MIDI[f].tracks[0] if vars(a)['type']=='track_name'] for f in self.files]\n",
    "        self.text = [[vars(a)['text'] for a in self.MIDI[f].tracks[0] if vars(a)['type']=='text'] for f in self.files]"
   ]
  },
  {
   "cell_type": "code",
   "execution_count": 364,
   "id": "0e4b39a3",
   "metadata": {
    "scrolled": true
   },
   "outputs": [],
   "source": [
    "anthro = harmonics.Song('data/weimar_jazz_database/RELEASE2.0_mid_unquant/ArtPepper_Anthropology_FINAL.mid')"
   ]
  },
  {
   "cell_type": "code",
   "execution_count": 365,
   "id": "97c4bbc3",
   "metadata": {},
   "outputs": [
    {
     "data": {
      "text/plain": [
       "'-2 octaves and 10 semitones'"
      ]
     },
     "execution_count": 365,
     "metadata": {},
     "output_type": "execute_result"
    }
   ],
   "source": [
    "(harmonics.Note('D')+harmonics.Interval(12))/harmonics.Note('C')"
   ]
  },
  {
   "cell_type": "code",
   "execution_count": 422,
   "id": "9f58ca4c",
   "metadata": {},
   "outputs": [],
   "source": [
    "rel()\n",
    "drums = harmonics.Song('data/minor9/grooves/1DRUM18E.MID')"
   ]
  },
  {
   "cell_type": "code",
   "execution_count": 392,
   "id": "7d723fb9",
   "metadata": {
    "scrolled": true
   },
   "outputs": [
    {
     "data": {
      "text/html": [
       "<div>\n",
       "<style scoped>\n",
       "    .dataframe tbody tr th:only-of-type {\n",
       "        vertical-align: middle;\n",
       "    }\n",
       "\n",
       "    .dataframe tbody tr th {\n",
       "        vertical-align: top;\n",
       "    }\n",
       "\n",
       "    .dataframe thead th {\n",
       "        text-align: right;\n",
       "    }\n",
       "</style>\n",
       "<table border=\"1\" class=\"dataframe\">\n",
       "  <thead>\n",
       "    <tr style=\"text-align: right;\">\n",
       "      <th></th>\n",
       "      <th>type</th>\n",
       "      <th>text</th>\n",
       "      <th>time</th>\n",
       "      <th>note</th>\n",
       "      <th>velocity</th>\n",
       "      <th>channel</th>\n",
       "      <th>program</th>\n",
       "      <th>control</th>\n",
       "      <th>value</th>\n",
       "      <th>track</th>\n",
       "      <th>meta</th>\n",
       "      <th>ticks</th>\n",
       "      <th>beat</th>\n",
       "      <th>current_beat</th>\n",
       "    </tr>\n",
       "  </thead>\n",
       "  <tbody>\n",
       "    <tr>\n",
       "      <th>1</th>\n",
       "      <td>note_on</td>\n",
       "      <td>NaN</td>\n",
       "      <td>0</td>\n",
       "      <td>42.0</td>\n",
       "      <td>79.0</td>\n",
       "      <td>9.0</td>\n",
       "      <td>NaN</td>\n",
       "      <td>NaN</td>\n",
       "      <td>NaN</td>\n",
       "      <td>0</td>\n",
       "      <td>False</td>\n",
       "      <td>0</td>\n",
       "      <td>0.000000</td>\n",
       "      <td>0.0</td>\n",
       "    </tr>\n",
       "    <tr>\n",
       "      <th>2</th>\n",
       "      <td>note_on</td>\n",
       "      <td>NaN</td>\n",
       "      <td>0</td>\n",
       "      <td>36.0</td>\n",
       "      <td>127.0</td>\n",
       "      <td>9.0</td>\n",
       "      <td>NaN</td>\n",
       "      <td>NaN</td>\n",
       "      <td>NaN</td>\n",
       "      <td>0</td>\n",
       "      <td>False</td>\n",
       "      <td>0</td>\n",
       "      <td>0.000000</td>\n",
       "      <td>0.0</td>\n",
       "    </tr>\n",
       "    <tr>\n",
       "      <th>9</th>\n",
       "      <td>note_off</td>\n",
       "      <td>NaN</td>\n",
       "      <td>40</td>\n",
       "      <td>36.0</td>\n",
       "      <td>127.0</td>\n",
       "      <td>9.0</td>\n",
       "      <td>NaN</td>\n",
       "      <td>NaN</td>\n",
       "      <td>NaN</td>\n",
       "      <td>0</td>\n",
       "      <td>False</td>\n",
       "      <td>40</td>\n",
       "      <td>0.208333</td>\n",
       "      <td>1.0</td>\n",
       "    </tr>\n",
       "    <tr>\n",
       "      <th>10</th>\n",
       "      <td>note_on</td>\n",
       "      <td>NaN</td>\n",
       "      <td>56</td>\n",
       "      <td>46.0</td>\n",
       "      <td>95.0</td>\n",
       "      <td>9.0</td>\n",
       "      <td>NaN</td>\n",
       "      <td>NaN</td>\n",
       "      <td>NaN</td>\n",
       "      <td>0</td>\n",
       "      <td>False</td>\n",
       "      <td>96</td>\n",
       "      <td>0.500000</td>\n",
       "      <td>1.0</td>\n",
       "    </tr>\n",
       "    <tr>\n",
       "      <th>11</th>\n",
       "      <td>note_off</td>\n",
       "      <td>NaN</td>\n",
       "      <td>2</td>\n",
       "      <td>42.0</td>\n",
       "      <td>79.0</td>\n",
       "      <td>9.0</td>\n",
       "      <td>NaN</td>\n",
       "      <td>NaN</td>\n",
       "      <td>NaN</td>\n",
       "      <td>0</td>\n",
       "      <td>False</td>\n",
       "      <td>98</td>\n",
       "      <td>0.510417</td>\n",
       "      <td>1.0</td>\n",
       "    </tr>\n",
       "    <tr>\n",
       "      <th>...</th>\n",
       "      <td>...</td>\n",
       "      <td>...</td>\n",
       "      <td>...</td>\n",
       "      <td>...</td>\n",
       "      <td>...</td>\n",
       "      <td>...</td>\n",
       "      <td>...</td>\n",
       "      <td>...</td>\n",
       "      <td>...</td>\n",
       "      <td>...</td>\n",
       "      <td>...</td>\n",
       "      <td>...</td>\n",
       "      <td>...</td>\n",
       "      <td>...</td>\n",
       "    </tr>\n",
       "    <tr>\n",
       "      <th>181</th>\n",
       "      <td>note_on</td>\n",
       "      <td>NaN</td>\n",
       "      <td>8</td>\n",
       "      <td>46.0</td>\n",
       "      <td>84.0</td>\n",
       "      <td>9.0</td>\n",
       "      <td>NaN</td>\n",
       "      <td>NaN</td>\n",
       "      <td>NaN</td>\n",
       "      <td>0</td>\n",
       "      <td>False</td>\n",
       "      <td>2976</td>\n",
       "      <td>15.500000</td>\n",
       "      <td>16.0</td>\n",
       "    </tr>\n",
       "    <tr>\n",
       "      <th>182</th>\n",
       "      <td>note_on</td>\n",
       "      <td>NaN</td>\n",
       "      <td>0</td>\n",
       "      <td>36.0</td>\n",
       "      <td>127.0</td>\n",
       "      <td>9.0</td>\n",
       "      <td>NaN</td>\n",
       "      <td>NaN</td>\n",
       "      <td>NaN</td>\n",
       "      <td>0</td>\n",
       "      <td>False</td>\n",
       "      <td>2976</td>\n",
       "      <td>15.500000</td>\n",
       "      <td>16.0</td>\n",
       "    </tr>\n",
       "    <tr>\n",
       "      <th>184</th>\n",
       "      <td>note_off</td>\n",
       "      <td>NaN</td>\n",
       "      <td>2</td>\n",
       "      <td>42.0</td>\n",
       "      <td>79.0</td>\n",
       "      <td>9.0</td>\n",
       "      <td>NaN</td>\n",
       "      <td>NaN</td>\n",
       "      <td>NaN</td>\n",
       "      <td>0</td>\n",
       "      <td>False</td>\n",
       "      <td>2982</td>\n",
       "      <td>15.531250</td>\n",
       "      <td>16.0</td>\n",
       "    </tr>\n",
       "    <tr>\n",
       "      <th>187</th>\n",
       "      <td>note_off</td>\n",
       "      <td>NaN</td>\n",
       "      <td>28</td>\n",
       "      <td>36.0</td>\n",
       "      <td>127.0</td>\n",
       "      <td>9.0</td>\n",
       "      <td>NaN</td>\n",
       "      <td>NaN</td>\n",
       "      <td>NaN</td>\n",
       "      <td>0</td>\n",
       "      <td>False</td>\n",
       "      <td>3017</td>\n",
       "      <td>15.713542</td>\n",
       "      <td>16.0</td>\n",
       "    </tr>\n",
       "    <tr>\n",
       "      <th>188</th>\n",
       "      <td>note_off</td>\n",
       "      <td>NaN</td>\n",
       "      <td>53</td>\n",
       "      <td>46.0</td>\n",
       "      <td>84.0</td>\n",
       "      <td>9.0</td>\n",
       "      <td>NaN</td>\n",
       "      <td>NaN</td>\n",
       "      <td>NaN</td>\n",
       "      <td>0</td>\n",
       "      <td>False</td>\n",
       "      <td>3070</td>\n",
       "      <td>15.989583</td>\n",
       "      <td>16.0</td>\n",
       "    </tr>\n",
       "  </tbody>\n",
       "</table>\n",
       "<p>120 rows × 14 columns</p>\n",
       "</div>"
      ],
      "text/plain": [
       "         type text  time  note  velocity  channel  program  control  value  \\\n",
       "1     note_on  NaN     0  42.0      79.0      9.0      NaN      NaN    NaN   \n",
       "2     note_on  NaN     0  36.0     127.0      9.0      NaN      NaN    NaN   \n",
       "9    note_off  NaN    40  36.0     127.0      9.0      NaN      NaN    NaN   \n",
       "10    note_on  NaN    56  46.0      95.0      9.0      NaN      NaN    NaN   \n",
       "11   note_off  NaN     2  42.0      79.0      9.0      NaN      NaN    NaN   \n",
       "..        ...  ...   ...   ...       ...      ...      ...      ...    ...   \n",
       "181   note_on  NaN     8  46.0      84.0      9.0      NaN      NaN    NaN   \n",
       "182   note_on  NaN     0  36.0     127.0      9.0      NaN      NaN    NaN   \n",
       "184  note_off  NaN     2  42.0      79.0      9.0      NaN      NaN    NaN   \n",
       "187  note_off  NaN    28  36.0     127.0      9.0      NaN      NaN    NaN   \n",
       "188  note_off  NaN    53  46.0      84.0      9.0      NaN      NaN    NaN   \n",
       "\n",
       "     track   meta  ticks       beat  current_beat  \n",
       "1        0  False      0   0.000000           0.0  \n",
       "2        0  False      0   0.000000           0.0  \n",
       "9        0  False     40   0.208333           1.0  \n",
       "10       0  False     96   0.500000           1.0  \n",
       "11       0  False     98   0.510417           1.0  \n",
       "..     ...    ...    ...        ...           ...  \n",
       "181      0  False   2976  15.500000          16.0  \n",
       "182      0  False   2976  15.500000          16.0  \n",
       "184      0  False   2982  15.531250          16.0  \n",
       "187      0  False   3017  15.713542          16.0  \n",
       "188      0  False   3070  15.989583          16.0  \n",
       "\n",
       "[120 rows x 14 columns]"
      ]
     },
     "execution_count": 392,
     "metadata": {},
     "output_type": "execute_result"
    }
   ],
   "source": [
    "drums.df[(drums.df.type == 'note_on') | (drums.df.type == 'note_off')]"
   ]
  },
  {
   "cell_type": "code",
   "execution_count": 412,
   "id": "a7b49773",
   "metadata": {},
   "outputs": [
    {
     "data": {
      "text/plain": [
       "{36.0, 42.0, 46.0}"
      ]
     },
     "execution_count": 412,
     "metadata": {},
     "output_type": "execute_result"
    }
   ],
   "source": []
  },
  {
   "cell_type": "code",
   "execution_count": 423,
   "id": "21b2a2bc",
   "metadata": {
    "scrolled": false
   },
   "outputs": [
    {
     "name": "stderr",
     "output_type": "stream",
     "text": [
      "No artists with labels found to put in legend.  Note that artists whose label start with an underscore are ignored when legend() is called with no argument.\n",
      "No artists with labels found to put in legend.  Note that artists whose label start with an underscore are ignored when legend() is called with no argument.\n"
     ]
    },
    {
     "data": {
      "image/png": "[encoded data removed]",
      "text/plain": [
       "<Figure size 1440x720 with 3 Axes>"
      ]
     },
     "metadata": {
      "needs_background": "light"
     },
     "output_type": "display_data"
    }
   ],
   "source": [
    "def plot_drums(obj):\n",
    "    df = drums['notes']\n",
    "    notes = list(set(df.note))\n",
    "    fig,axes = plt.subplots(len(notes),figsize=(20,10))\n",
    "    for n,note in enumerate(notes):\n",
    "        tdf = df[df.note == note]\n",
    "        durations = tdf[tdf.type == 'note_off'].ticks.values - tdf[tdf.type == 'note_on'].ticks.values\n",
    "        positions = tdf[tdf.type == 'note_on'].ticks.values\n",
    "        print(obj.DRUM_KEYMAP[note])\n",
    "        axes[n].eventplot(positions,label=)\n",
    "        plt.legend()\n",
    "        t = 0\n",
    "        #while t < df.ticks.max():\n",
    "            \n",
    "plot_drums(drums)"
   ]
  },
  {
   "cell_type": "code",
   "execution_count": 382,
   "id": "98318cac",
   "metadata": {},
   "outputs": [
    {
     "data": {
      "text/plain": [
       "192"
      ]
     },
     "execution_count": 382,
     "metadata": {},
     "output_type": "execute_result"
    }
   ],
   "source": [
    "drums.MIDI.ticks_per_beat"
   ]
  },
  {
   "cell_type": "code",
   "execution_count": 368,
   "id": "0adce30d",
   "metadata": {},
   "outputs": [
    {
     "data": {
      "text/plain": [
       "{35: 'Acoustic Bass Drum',\n",
       " 36: 'Bass Drum 1',\n",
       " 37: 'Side Stick',\n",
       " 38: 'Acoustic Snare',\n",
       " 39: 'Hand Clap',\n",
       " 40: 'Electric Snare',\n",
       " 41: 'Low Floor Tom',\n",
       " 42: 'Closed Hi-Hat',\n",
       " 43: 'High Floor Tom',\n",
       " 44: 'Pedal Hi-Hat',\n",
       " 45: 'Low Tom',\n",
       " 46: 'Open Hi-Hat',\n",
       " 47: 'Low-Mid Tom',\n",
       " 48: 'Hi-Mid Tom',\n",
       " 49: 'Crash Cymbal 1',\n",
       " 50: 'High Tom',\n",
       " 51: 'Ride Cymbal 1',\n",
       " 52: 'Chinese Cymbal',\n",
       " 53: 'Ride Bell',\n",
       " 54: 'Tambourine',\n",
       " 55: 'Splash Cymbal',\n",
       " 56: 'Cowbell',\n",
       " 57: 'Crash Cymbal 2',\n",
       " 58: 'Vibraslap',\n",
       " 59: 'Ride Cymbal 2',\n",
       " 60: 'Hi Bongo',\n",
       " 61: 'Low Bongo',\n",
       " 62: 'Mute Hi Conga',\n",
       " 63: 'Open Hi Conga',\n",
       " 64: 'Low Conga',\n",
       " 65: 'High Timbale',\n",
       " 66: 'Low Timbale',\n",
       " 67: 'High Agogo',\n",
       " 68: 'Low Agogo',\n",
       " 69: 'Cabasa',\n",
       " 70: 'Maracas',\n",
       " 71: 'Short Whistle',\n",
       " 72: 'Long Whistle',\n",
       " 73: 'Short Guiro',\n",
       " 74: 'Long Guiro',\n",
       " 75: 'Claves',\n",
       " 76: 'Hi Wood Block',\n",
       " 77: 'Low Wood Block',\n",
       " 78: 'Mute Cuica',\n",
       " 79: 'Open Cuica',\n",
       " 80: 'Mute Triangle',\n",
       " 81: 'Open Triangle'}"
      ]
     },
     "execution_count": 368,
     "metadata": {},
     "output_type": "execute_result"
    }
   ],
   "source": [
    "harmonics.Instrument.CFG['DRUM_KEYMAP']"
   ]
  },
  {
   "cell_type": "code",
   "execution_count": 324,
   "id": "a3610512",
   "metadata": {},
   "outputs": [
    {
     "data": {
      "text/html": [
       "<div>\n",
       "<style scoped>\n",
       "    .dataframe tbody tr th:only-of-type {\n",
       "        vertical-align: middle;\n",
       "    }\n",
       "\n",
       "    .dataframe tbody tr th {\n",
       "        vertical-align: top;\n",
       "    }\n",
       "\n",
       "    .dataframe thead th {\n",
       "        text-align: right;\n",
       "    }\n",
       "</style>\n",
       "<table border=\"1\" class=\"dataframe\">\n",
       "  <thead>\n",
       "    <tr style=\"text-align: right;\">\n",
       "      <th></th>\n",
       "      <th>type</th>\n",
       "      <th>text</th>\n",
       "      <th>time</th>\n",
       "      <th>note</th>\n",
       "      <th>velocity</th>\n",
       "      <th>channel</th>\n",
       "      <th>program</th>\n",
       "      <th>control</th>\n",
       "      <th>value</th>\n",
       "      <th>track</th>\n",
       "      <th>meta</th>\n",
       "    </tr>\n",
       "  </thead>\n",
       "  <tbody>\n",
       "    <tr>\n",
       "      <th>0</th>\n",
       "      <td>text</td>\n",
       "      <td>BD1</td>\n",
       "      <td>0</td>\n",
       "      <td>NaN</td>\n",
       "      <td>NaN</td>\n",
       "      <td>NaN</td>\n",
       "      <td>NaN</td>\n",
       "      <td>NaN</td>\n",
       "      <td>NaN</td>\n",
       "      <td>0</td>\n",
       "      <td>True</td>\n",
       "    </tr>\n",
       "    <tr>\n",
       "      <th>1</th>\n",
       "      <td>note_on</td>\n",
       "      <td>NaN</td>\n",
       "      <td>0</td>\n",
       "      <td>42.0</td>\n",
       "      <td>79.0</td>\n",
       "      <td>9.0</td>\n",
       "      <td>NaN</td>\n",
       "      <td>NaN</td>\n",
       "      <td>NaN</td>\n",
       "      <td>0</td>\n",
       "      <td>False</td>\n",
       "    </tr>\n",
       "    <tr>\n",
       "      <th>2</th>\n",
       "      <td>note_on</td>\n",
       "      <td>NaN</td>\n",
       "      <td>0</td>\n",
       "      <td>36.0</td>\n",
       "      <td>127.0</td>\n",
       "      <td>9.0</td>\n",
       "      <td>NaN</td>\n",
       "      <td>NaN</td>\n",
       "      <td>NaN</td>\n",
       "      <td>0</td>\n",
       "      <td>False</td>\n",
       "    </tr>\n",
       "    <tr>\n",
       "      <th>3</th>\n",
       "      <td>program_change</td>\n",
       "      <td>NaN</td>\n",
       "      <td>0</td>\n",
       "      <td>NaN</td>\n",
       "      <td>NaN</td>\n",
       "      <td>9.0</td>\n",
       "      <td>25.0</td>\n",
       "      <td>NaN</td>\n",
       "      <td>NaN</td>\n",
       "      <td>0</td>\n",
       "      <td>False</td>\n",
       "    </tr>\n",
       "    <tr>\n",
       "      <th>4</th>\n",
       "      <td>control_change</td>\n",
       "      <td>NaN</td>\n",
       "      <td>0</td>\n",
       "      <td>NaN</td>\n",
       "      <td>NaN</td>\n",
       "      <td>9.0</td>\n",
       "      <td>NaN</td>\n",
       "      <td>93.0</td>\n",
       "      <td>0.0</td>\n",
       "      <td>0</td>\n",
       "      <td>False</td>\n",
       "    </tr>\n",
       "    <tr>\n",
       "      <th>...</th>\n",
       "      <td>...</td>\n",
       "      <td>...</td>\n",
       "      <td>...</td>\n",
       "      <td>...</td>\n",
       "      <td>...</td>\n",
       "      <td>...</td>\n",
       "      <td>...</td>\n",
       "      <td>...</td>\n",
       "      <td>...</td>\n",
       "      <td>...</td>\n",
       "      <td>...</td>\n",
       "    </tr>\n",
       "    <tr>\n",
       "      <th>185</th>\n",
       "      <td>aftertouch</td>\n",
       "      <td>NaN</td>\n",
       "      <td>2</td>\n",
       "      <td>NaN</td>\n",
       "      <td>NaN</td>\n",
       "      <td>9.0</td>\n",
       "      <td>NaN</td>\n",
       "      <td>NaN</td>\n",
       "      <td>1.0</td>\n",
       "      <td>0</td>\n",
       "      <td>False</td>\n",
       "    </tr>\n",
       "    <tr>\n",
       "      <th>186</th>\n",
       "      <td>aftertouch</td>\n",
       "      <td>NaN</td>\n",
       "      <td>5</td>\n",
       "      <td>NaN</td>\n",
       "      <td>NaN</td>\n",
       "      <td>9.0</td>\n",
       "      <td>NaN</td>\n",
       "      <td>NaN</td>\n",
       "      <td>0.0</td>\n",
       "      <td>0</td>\n",
       "      <td>False</td>\n",
       "    </tr>\n",
       "    <tr>\n",
       "      <th>187</th>\n",
       "      <td>note_off</td>\n",
       "      <td>NaN</td>\n",
       "      <td>28</td>\n",
       "      <td>36.0</td>\n",
       "      <td>127.0</td>\n",
       "      <td>9.0</td>\n",
       "      <td>NaN</td>\n",
       "      <td>NaN</td>\n",
       "      <td>NaN</td>\n",
       "      <td>0</td>\n",
       "      <td>False</td>\n",
       "    </tr>\n",
       "    <tr>\n",
       "      <th>188</th>\n",
       "      <td>note_off</td>\n",
       "      <td>NaN</td>\n",
       "      <td>53</td>\n",
       "      <td>46.0</td>\n",
       "      <td>84.0</td>\n",
       "      <td>9.0</td>\n",
       "      <td>NaN</td>\n",
       "      <td>NaN</td>\n",
       "      <td>NaN</td>\n",
       "      <td>0</td>\n",
       "      <td>False</td>\n",
       "    </tr>\n",
       "    <tr>\n",
       "      <th>189</th>\n",
       "      <td>end_of_track</td>\n",
       "      <td>NaN</td>\n",
       "      <td>0</td>\n",
       "      <td>NaN</td>\n",
       "      <td>NaN</td>\n",
       "      <td>NaN</td>\n",
       "      <td>NaN</td>\n",
       "      <td>NaN</td>\n",
       "      <td>NaN</td>\n",
       "      <td>0</td>\n",
       "      <td>True</td>\n",
       "    </tr>\n",
       "  </tbody>\n",
       "</table>\n",
       "<p>190 rows × 11 columns</p>\n",
       "</div>"
      ],
      "text/plain": [
       "               type text  time  note  velocity  channel  program  control  \\\n",
       "0              text  BD1     0   NaN       NaN      NaN      NaN      NaN   \n",
       "1           note_on  NaN     0  42.0      79.0      9.0      NaN      NaN   \n",
       "2           note_on  NaN     0  36.0     127.0      9.0      NaN      NaN   \n",
       "3    program_change  NaN     0   NaN       NaN      9.0     25.0      NaN   \n",
       "4    control_change  NaN     0   NaN       NaN      9.0      NaN     93.0   \n",
       "..              ...  ...   ...   ...       ...      ...      ...      ...   \n",
       "185      aftertouch  NaN     2   NaN       NaN      9.0      NaN      NaN   \n",
       "186      aftertouch  NaN     5   NaN       NaN      9.0      NaN      NaN   \n",
       "187        note_off  NaN    28  36.0     127.0      9.0      NaN      NaN   \n",
       "188        note_off  NaN    53  46.0      84.0      9.0      NaN      NaN   \n",
       "189    end_of_track  NaN     0   NaN       NaN      NaN      NaN      NaN   \n",
       "\n",
       "     value  track   meta  \n",
       "0      NaN      0   True  \n",
       "1      NaN      0  False  \n",
       "2      NaN      0  False  \n",
       "3      NaN      0  False  \n",
       "4      0.0      0  False  \n",
       "..     ...    ...    ...  \n",
       "185    1.0      0  False  \n",
       "186    0.0      0  False  \n",
       "187    NaN      0  False  \n",
       "188    NaN      0  False  \n",
       "189    NaN      0   True  \n",
       "\n",
       "[190 rows x 11 columns]"
      ]
     },
     "execution_count": 324,
     "metadata": {},
     "output_type": "execute_result"
    }
   ],
   "source": [
    "drums.df"
   ]
  },
  {
   "cell_type": "code",
   "execution_count": null,
   "id": "5060ff86",
   "metadata": {},
   "outputs": [],
   "source": [
    "tuple([12,11])[0]"
   ]
  },
  {
   "cell_type": "code",
   "execution_count": null,
   "id": "dff8c8d3",
   "metadata": {
    "scrolled": true
   },
   "outputs": [],
   "source": [
    "def invert(interval):\n",
    "    if interval == 0:\n",
    "        return 0\n",
    "    if interval > 0:\n",
    "        return interval%12"
   ]
  },
  {
   "cell_type": "code",
   "execution_count": null,
   "id": "00dc31ff",
   "metadata": {
    "scrolled": true
   },
   "outputs": [],
   "source": [
    "[c for c in harmonics.Music.EDICT[]]"
   ]
  },
  {
   "cell_type": "code",
   "execution_count": null,
   "id": "2db5f80f",
   "metadata": {},
   "outputs": [],
   "source": [
    "'7'.isnumeric()"
   ]
  },
  {
   "cell_type": "code",
   "execution_count": null,
   "id": "6867b93f",
   "metadata": {},
   "outputs": [],
   "source": []
  },
  {
   "cell_type": "code",
   "execution_count": null,
   "id": "6f4554d6",
   "metadata": {
    "scrolled": true
   },
   "outputs": [],
   "source": [
    "rel()\n",
    "m =(harmonics.Melody('arp_M7')  + harmonics.Melody('arp_M7'))"
   ]
  },
  {
   "cell_type": "code",
   "execution_count": null,
   "id": "55e9e659",
   "metadata": {},
   "outputs": [],
   "source": [
    "m.ref_note"
   ]
  },
  {
   "cell_type": "code",
   "execution_count": null,
   "id": "54d30900",
   "metadata": {},
   "outputs": [],
   "source": [
    "harmonics.Chord(chord='I')"
   ]
  },
  {
   "cell_type": "code",
   "execution_count": null,
   "id": "77b3bef8",
   "metadata": {
    "scrolled": false
   },
   "outputs": [],
   "source": [
    "~(harmonics.Note(60) // harmonics.Note(103))"
   ]
  },
  {
   "cell_type": "code",
   "execution_count": null,
   "id": "ba3bd269",
   "metadata": {},
   "outputs": [],
   "source": [
    "tra = anthro.MIDI.tracks[0]"
   ]
  },
  {
   "cell_type": "code",
   "execution_count": null,
   "id": "53a1a0b1",
   "metadata": {
    "scrolled": true
   },
   "outputs": [],
   "source": [
    "df = anthro.df\n",
    "df"
   ]
  },
  {
   "cell_type": "code",
   "execution_count": null,
   "id": "275f209c",
   "metadata": {},
   "outputs": [],
   "source": [
    "\n",
    "\n",
    "#for n,t in enumerate(m.tracks)\n",
    "#Song('groove_midi/groove/drummer1/session3/10_rock-folk_90_beat_4-4.mid').df.tempo.dropna().values"
   ]
  },
  {
   "cell_type": "code",
   "execution_count": null,
   "id": "428987b2",
   "metadata": {},
   "outputs": [],
   "source": [
    "mido.Message('note_on')"
   ]
  },
  {
   "cell_type": "code",
   "execution_count": null,
   "id": "399db63b",
   "metadata": {},
   "outputs": [],
   "source": []
  }
 ],
 "metadata": {
  "kernelspec": {
   "display_name": "Python 3 (ipykernel)",
   "language": "python",
   "name": "python3"
  },
  "language_info": {
   "codemirror_mode": {
    "name": "ipython",
    "version": 3
   },
   "file_extension": ".py",
   "mimetype": "text/x-python",
   "name": "python",
   "nbconvert_exporter": "python",
   "pygments_lexer": "ipython3",
   "version": "3.10.4"
  }
 },
 "nbformat": 4,
 "nbformat_minor": 5
}
