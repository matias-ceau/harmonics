{
 "cells": [
  {
   "cell_type": "code",
   "execution_count": 136,
   "id": "1bc4936e",
   "metadata": {},
   "outputs": [],
   "source": [
    "import pandas as pd\n",
    "import yaml\n",
    "import importlib\n",
    "import harmonics\n",
    "def rel():\n",
    "    importlib.reload(harmonics)"
   ]
  },
  {
   "cell_type": "code",
   "execution_count": 137,
   "id": "653f34b4",
   "metadata": {},
   "outputs": [],
   "source": [
    "rel()"
   ]
  },
  {
   "cell_type": "code",
   "execution_count": 138,
   "id": "93890b66",
   "metadata": {},
   "outputs": [
    {
     "data": {
      "text/plain": [
       "[Bb, D, F, A]"
      ]
     },
     "execution_count": 138,
     "metadata": {},
     "output_type": "execute_result"
    }
   ],
   "source": [
    "harmonics.Melody('arp_M7',ref_note='Bb')"
   ]
  },
  {
   "cell_type": "code",
   "execution_count": 139,
   "id": "93c0c1ab",
   "metadata": {
    "scrolled": true
   },
   "outputs": [
    {
     "data": {
      "text/plain": [
       "[C, C]"
      ]
     },
     "execution_count": 139,
     "metadata": {},
     "output_type": "execute_result"
    }
   ],
   "source": [
    "harmonics.Note('C').append(harmonics.Note('C'))"
   ]
  },
  {
   "cell_type": "code",
   "execution_count": 150,
   "id": "3f522e20",
   "metadata": {},
   "outputs": [],
   "source": [
    "df=pd.read_csv('chords.csv')"
   ]
  },
  {
   "cell_type": "code",
   "execution_count": null,
   "id": "c51b63db",
   "metadata": {},
   "outputs": [],
   "source": []
  },
  {
   "cell_type": "code",
   "execution_count": 164,
   "id": "016977c7",
   "metadata": {},
   "outputs": [],
   "source": [
    "l1 = [a.split(' ') for a in df.formula.values]\n",
    "l1 = [[int(a) if a.isnumeric() else a for a in fo] for fo in l1]\n",
    "l1 = [[11 if a=='e' else a for a in fo ] for fo in l1]\n",
    "l1 = [[10 if a=='t' else a for a in fo ] for fo in l1]"
   ]
  },
  {
   "cell_type": "code",
   "execution_count": 167,
   "id": "1262dac5",
   "metadata": {},
   "outputs": [
    {
     "data": {
      "text/plain": [
       "{'1': 0,\n",
       " 'b2': 1,\n",
       " 'b9': 1,\n",
       " '9': 2,\n",
       " '2': 2,\n",
       " '#9': 3,\n",
       " 'b3': 3,\n",
       " '3': 4,\n",
       " '4': 5,\n",
       " '11': 5,\n",
       " '#4': 6,\n",
       " '#11': 6,\n",
       " 'b5': 6,\n",
       " '5': 7,\n",
       " 'b6': 8,\n",
       " 'b13': 8,\n",
       " '6': 9,\n",
       " '13': 9,\n",
       " 'b7': 10,\n",
       " '7': 11}"
      ]
     },
     "execution_count": 167,
     "metadata": {},
     "output_type": "execute_result"
    }
   ],
   "source": []
  },
  {
   "cell_type": "code",
   "execution_count": null,
   "id": "8fbcf200",
   "metadata": {
    "scrolled": true
   },
   "outputs": [],
   "source": [
    "l1\n",
    "dx = []\n",
    "for a in l1:\n",
    "    d = []\n",
    "    print(a)\n",
    "    for n in a:\n",
    "        choice = [k for k,v in harmonics.Music.IDICT.items() if v == n]\n",
    "        if len(choice) == 1:\n",
    "            d.append(choice[0])\n",
    "        else:\n",
    "            print(choice)\n",
    "            d.append(choice[int(input('choisis trouduc\\n'))-1])\n",
    "    print(d)"
   ]
  }
 ],
 "metadata": {
  "kernelspec": {
   "display_name": "Python 3 (ipykernel)",
   "language": "python",
   "name": "python3"
  },
  "language_info": {
   "codemirror_mode": {
    "name": "ipython",
    "version": 3
   },
   "file_extension": ".py",
   "mimetype": "text/x-python",
   "name": "python",
   "nbconvert_exporter": "python",
   "pygments_lexer": "ipython3",
   "version": "3.10.4"
  }
 },
 "nbformat": 4,
 "nbformat_minor": 5
}
