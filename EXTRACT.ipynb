{
 "cells": [
  {
   "cell_type": "code",
   "execution_count": 1,
   "id": "7e203a93",
   "metadata": {},
   "outputs": [
    {
     "name": "stdout",
     "output_type": "stream",
     "text": [
      " Le volume dans le lecteur C s’appelle System\n",
      " Le numéro de série du volume est A698-0041\n",
      "\n",
      " Répertoire de C:\\Users\\mceau\\Documents\\harmonics\n",
      "\n",
      "29/04/2022  16:49    <DIR>          .\n",
      "29/04/2022  16:49    <DIR>          ..\n",
      "29/04/2022  10:21    <DIR>          .ipynb_checkpoints\n",
      "29/04/2022  14:14    <DIR>          __pycache__\n",
      "29/04/2022  10:01    <DIR>          archive\n",
      "29/04/2022  10:01            28 613 config.yaml\n",
      "29/04/2022  10:01    <DIR>          data\n",
      "29/04/2022  16:49         2 435 161 EXTRACT.ipynb\n",
      "29/04/2022  14:34            17 993 harmonics.py\n",
      "29/04/2022  10:01         1 868 509 INTERVALS.ipynb\n",
      "29/04/2022  10:01            12 486 maybe.csv\n",
      "29/04/2022  10:01             8 325 maybe.txt\n",
      "25/04/2022  09:54               712 midi.py\n",
      "29/04/2022  10:01            50 536 r.txt\n",
      "29/04/2022  10:01            16 095 s.txt\n",
      "29/04/2022  10:01           910 652 script.txt\n",
      "29/04/2022  10:01             5 770 t.txt\n",
      "              11 fichier(s)        5 354 852 octets\n",
      "               6 Rép(s)  888 690 790 400 octets libres\n"
     ]
    }
   ],
   "source": [
    "%ls"
   ]
  },
  {
   "cell_type": "code",
   "execution_count": 2,
   "id": "d0f66ca1",
   "metadata": {
    "scrolled": true
   },
   "outputs": [
    {
     "name": "stdout",
     "output_type": "stream",
     "text": [
      " Le volume dans le lecteur C s’appelle System\n",
      " Le numéro de série du volume est A698-0041\n",
      "\n",
      " Répertoire de C:\\Users\\mceau\\Documents\\harmonics\n",
      "\n",
      "29/04/2022  16:49    <DIR>          .\n",
      "29/04/2022  16:49    <DIR>          ..\n",
      "29/04/2022  10:21    <DIR>          .ipynb_checkpoints\n",
      "29/04/2022  14:14    <DIR>          __pycache__\n",
      "29/04/2022  10:01    <DIR>          archive\n",
      "29/04/2022  10:01            28 613 config.yaml\n",
      "29/04/2022  10:01    <DIR>          data\n",
      "29/04/2022  16:49         2 435 161 EXTRACT.ipynb\n",
      "29/04/2022  14:34            17 993 harmonics.py\n",
      "29/04/2022  10:01         1 868 509 INTERVALS.ipynb\n",
      "29/04/2022  10:01            12 486 maybe.csv\n",
      "29/04/2022  10:01             8 325 maybe.txt\n",
      "25/04/2022  09:54               712 midi.py\n",
      "29/04/2022  10:01            50 536 r.txt\n",
      "29/04/2022  10:01            16 095 s.txt\n",
      "29/04/2022  10:01           910 652 script.txt\n",
      "29/04/2022  10:01             5 770 t.txt\n",
      "              11 fichier(s)        5 354 852 octets\n",
      "               6 Rép(s)  888 690 790 400 octets libres\n"
     ]
    }
   ],
   "source": [
    "%ls"
   ]
  },
  {
   "cell_type": "code",
   "execution_count": 3,
   "id": "8d04005a",
   "metadata": {},
   "outputs": [
    {
     "ename": "NameError",
     "evalue": "name 'pd' is not defined",
     "output_type": "error",
     "traceback": [
      "\u001b[1;31m---------------------------------------------------------------------------\u001b[0m",
      "\u001b[1;31mNameError\u001b[0m                                 Traceback (most recent call last)",
      "\u001b[1;32m~\\AppData\\Local\\Temp/ipykernel_13916/854525313.py\u001b[0m in \u001b[0;36m<module>\u001b[1;34m\u001b[0m\n\u001b[1;32m----> 1\u001b[1;33m \u001b[0mdf\u001b[0m \u001b[1;33m=\u001b[0m \u001b[0mpd\u001b[0m\u001b[1;33m.\u001b[0m\u001b[0mread_csv\u001b[0m\u001b[1;33m(\u001b[0m\u001b[1;34m'data/popsongs_index.csv'\u001b[0m\u001b[1;33m)\u001b[0m\u001b[1;33m\u001b[0m\u001b[1;33m\u001b[0m\u001b[0m\n\u001b[0m",
      "\u001b[1;31mNameError\u001b[0m: name 'pd' is not defined"
     ]
    }
   ],
   "source": [
    "df = pd.read_csv('data/popsongs_index.csv')"
   ]
  },
  {
   "cell_type": "code",
   "execution_count": null,
   "id": "3d413844",
   "metadata": {
    "scrolled": true
   },
   "outputs": [],
   "source": [
    "'@@@'.join([i for i in df.filename])"
   ]
  },
  {
   "cell_type": "code",
   "execution_count": null,
   "id": "295c1771",
   "metadata": {},
   "outputs": [],
   "source": [
    "'@@@'.join([i for i in df.path])"
   ]
  },
  {
   "cell_type": "code",
   "execution_count": 4,
   "id": "56cee0f2",
   "metadata": {},
   "outputs": [
    {
     "name": "stdout",
     "output_type": "stream",
     "text": [
      "pygame 2.1.2 (SDL 2.0.18, Python 3.9.7)\n",
      "Hello from the pygame community. https://www.pygame.org/contribute.html\n"
     ]
    }
   ],
   "source": [
    "import pandas as pd\n",
    "import yaml\n",
    "import importlib\n",
    "import harmonics, midi\n",
    "def rel():\n",
    "    importlib.reload(harmonics)\n",
    "    importlib.reload(midi)\n",
    "from mido import MidiFile\n",
    "import mido\n",
    "import os\n",
    "import datetime\n",
    "import numpy as np\n",
    "import matplotlib.pyplot as plt\n",
    "rel()"
   ]
  },
  {
   "cell_type": "code",
   "execution_count": null,
   "id": "a5310627",
   "metadata": {},
   "outputs": [],
   "source": [
    "5*()"
   ]
  },
  {
   "cell_type": "code",
   "execution_count": 37,
   "id": "615d0163",
   "metadata": {},
   "outputs": [
    {
     "data": {
      "text/plain": [
       "240000"
      ]
     },
     "execution_count": 37,
     "metadata": {},
     "output_type": "execute_result"
    }
   ],
   "source": [
    "len(np.hstack([([1]*12+[2]*12+[3]*12+[4]*12) for i in range(5000)]))"
   ]
  },
  {
   "cell_type": "code",
   "execution_count": 39,
   "id": "726ba5a0",
   "metadata": {
    "scrolled": true
   },
   "outputs": [],
   "source": [
    "array1 = [np.hstack([[i]*48 for i in range(5000)]),\n",
    "          np.hstack([([1]*12+[2]*12+[3]*12+[4]*12) for i in range(5000)]),\n",
    "          np.arange(240000)]\n",
    "array2 = array1"
   ]
  },
  {
   "cell_type": "code",
   "execution_count": 40,
   "id": "638f8490",
   "metadata": {},
   "outputs": [],
   "source": [
    "def f():\n",
    "    index_names = [\"bar\",\"beat\",\"tick\"]\n",
    "    # CHANNEL\n",
    "    columns = [np.array([0,0]),np.array([1,2])]\n",
    "    channel0 = pd.DataFrame(np.vstack([[harmonics.Note(i) for i in np.arange(0,480000,2)],\n",
    "                                       [harmonics.Note(i) for i in np.arange(0,480000,2)]]).T,index=array1,columns=columns)\n",
    "    channel0.index.names = index_names\n",
    "    channel0.columns.names = ['channel','voice']\n",
    "    # CHANNEL\n",
    "    columns = [np.array([1,1]),np.array([1,2])]\n",
    "    channel1 = pd.DataFrame(np.vstack([[harmonics.Note(i) for i in np.arange(240000)],\n",
    "                                       [harmonics.Note(i) for i in np.arange(240000)]]).T,index=array2,columns=columns)\n",
    "    channel1.index.names = index_names\n",
    "    channel1.columns.names = ['channel','voice']\n",
    "    #dfm = dfm.set_index([\"bar\", \"beat\",\"tick\"])\n",
    "    #dfm.loc[(0,1)]\n",
    "    #dfm.reorder_levels([2,1,0], axis=0)\n",
    "    #dfm.xs(1,level='beat',axis=0)\n",
    "    return pd.concat([channel0,channel1],axis=1)\n",
    "\n",
    "df = f()"
   ]
  },
  {
   "cell_type": "code",
   "execution_count": 43,
   "id": "cd83d4f4",
   "metadata": {},
   "outputs": [
    {
     "data": {
      "text/html": [
       "<div>\n",
       "<style scoped>\n",
       "    .dataframe tbody tr th:only-of-type {\n",
       "        vertical-align: middle;\n",
       "    }\n",
       "\n",
       "    .dataframe tbody tr th {\n",
       "        vertical-align: top;\n",
       "    }\n",
       "\n",
       "    .dataframe thead tr th {\n",
       "        text-align: left;\n",
       "    }\n",
       "\n",
       "    .dataframe thead tr:last-of-type th {\n",
       "        text-align: right;\n",
       "    }\n",
       "</style>\n",
       "<table border=\"1\" class=\"dataframe\">\n",
       "  <thead>\n",
       "    <tr>\n",
       "      <th></th>\n",
       "      <th></th>\n",
       "      <th>channel</th>\n",
       "      <th colspan=\"2\" halign=\"left\">0</th>\n",
       "      <th colspan=\"2\" halign=\"left\">1</th>\n",
       "    </tr>\n",
       "    <tr>\n",
       "      <th></th>\n",
       "      <th></th>\n",
       "      <th>voice</th>\n",
       "      <th>1</th>\n",
       "      <th>2</th>\n",
       "      <th>1</th>\n",
       "      <th>2</th>\n",
       "    </tr>\n",
       "    <tr>\n",
       "      <th>bar</th>\n",
       "      <th>beat</th>\n",
       "      <th>tick</th>\n",
       "      <th></th>\n",
       "      <th></th>\n",
       "      <th></th>\n",
       "      <th></th>\n",
       "    </tr>\n",
       "  </thead>\n",
       "  <tbody>\n",
       "    <tr>\n",
       "      <th rowspan=\"5\" valign=\"top\">0</th>\n",
       "      <th rowspan=\"5\" valign=\"top\">1</th>\n",
       "      <th>0</th>\n",
       "      <td>C</td>\n",
       "      <td>C</td>\n",
       "      <td>C</td>\n",
       "      <td>C</td>\n",
       "    </tr>\n",
       "    <tr>\n",
       "      <th>1</th>\n",
       "      <td>D</td>\n",
       "      <td>D</td>\n",
       "      <td>C#</td>\n",
       "      <td>C#</td>\n",
       "    </tr>\n",
       "    <tr>\n",
       "      <th>2</th>\n",
       "      <td>E</td>\n",
       "      <td>E</td>\n",
       "      <td>D</td>\n",
       "      <td>D</td>\n",
       "    </tr>\n",
       "    <tr>\n",
       "      <th>3</th>\n",
       "      <td>F#</td>\n",
       "      <td>F#</td>\n",
       "      <td>D#</td>\n",
       "      <td>D#</td>\n",
       "    </tr>\n",
       "    <tr>\n",
       "      <th>4</th>\n",
       "      <td>G#</td>\n",
       "      <td>G#</td>\n",
       "      <td>E</td>\n",
       "      <td>E</td>\n",
       "    </tr>\n",
       "    <tr>\n",
       "      <th>...</th>\n",
       "      <th>...</th>\n",
       "      <th>...</th>\n",
       "      <td>...</td>\n",
       "      <td>...</td>\n",
       "      <td>...</td>\n",
       "      <td>...</td>\n",
       "    </tr>\n",
       "    <tr>\n",
       "      <th rowspan=\"5\" valign=\"top\">4999</th>\n",
       "      <th rowspan=\"5\" valign=\"top\">4</th>\n",
       "      <th>239995</th>\n",
       "      <td>D</td>\n",
       "      <td>D</td>\n",
       "      <td>G</td>\n",
       "      <td>G</td>\n",
       "    </tr>\n",
       "    <tr>\n",
       "      <th>239996</th>\n",
       "      <td>E</td>\n",
       "      <td>E</td>\n",
       "      <td>G#</td>\n",
       "      <td>G#</td>\n",
       "    </tr>\n",
       "    <tr>\n",
       "      <th>239997</th>\n",
       "      <td>F#</td>\n",
       "      <td>F#</td>\n",
       "      <td>A</td>\n",
       "      <td>A</td>\n",
       "    </tr>\n",
       "    <tr>\n",
       "      <th>239998</th>\n",
       "      <td>G#</td>\n",
       "      <td>G#</td>\n",
       "      <td>A#</td>\n",
       "      <td>A#</td>\n",
       "    </tr>\n",
       "    <tr>\n",
       "      <th>239999</th>\n",
       "      <td>A#</td>\n",
       "      <td>A#</td>\n",
       "      <td>B</td>\n",
       "      <td>B</td>\n",
       "    </tr>\n",
       "  </tbody>\n",
       "</table>\n",
       "<p>240000 rows × 4 columns</p>\n",
       "</div>"
      ],
      "text/plain": [
       "channel            0       1    \n",
       "voice              1   2   1   2\n",
       "bar  beat tick                  \n",
       "0    1    0        C   C   C   C\n",
       "          1        D   D  C#  C#\n",
       "          2        E   E   D   D\n",
       "          3       F#  F#  D#  D#\n",
       "          4       G#  G#   E   E\n",
       "...               ..  ..  ..  ..\n",
       "4999 4    239995   D   D   G   G\n",
       "          239996   E   E  G#  G#\n",
       "          239997  F#  F#   A   A\n",
       "          239998  G#  G#  A#  A#\n",
       "          239999  A#  A#   B   B\n",
       "\n",
       "[240000 rows x 4 columns]"
      ]
     },
     "execution_count": 43,
     "metadata": {},
     "output_type": "execute_result"
    }
   ],
   "source": [
    "df"
   ]
  },
  {
   "cell_type": "code",
   "execution_count": null,
   "id": "a07bf535",
   "metadata": {},
   "outputs": [],
   "source": [
    "def g():\n",
    "    channels = (np.vstack([np.arange(0,480000,2),np.arange(0,480000,2)]).T,\n",
    "                np.vstack([np.arange(240000),np.arange(240000)]).T)\n",
    "    channel_id = np.array((9,9,11,11))\n",
    "    voice_id = np.array((0,1,0,1))\n",
    "    cols =  [channel_id,voice_id]\n",
    "    data = np.hstack([i for i in channels])\n",
    "    index_names = [\"bar\",\"beat\",\"tick\"]\n",
    "    col_names   = ['channel','voice']\n",
    "    df = pd.DataFrame(data,index=array1,columns=cols)\n",
    "    df.index.names = index_names\n",
    "    df.columns.names = col_names\n",
    "    return df\n",
    "%timeit g()"
   ]
  },
  {
   "cell_type": "code",
   "execution_count": 30,
   "id": "fc93a795",
   "metadata": {},
   "outputs": [
    {
     "data": {
      "text/html": [
       "<div>\n",
       "<style scoped>\n",
       "    .dataframe tbody tr th:only-of-type {\n",
       "        vertical-align: middle;\n",
       "    }\n",
       "\n",
       "    .dataframe tbody tr th {\n",
       "        vertical-align: top;\n",
       "    }\n",
       "\n",
       "    .dataframe thead tr th {\n",
       "        text-align: left;\n",
       "    }\n",
       "\n",
       "    .dataframe thead tr:last-of-type th {\n",
       "        text-align: right;\n",
       "    }\n",
       "</style>\n",
       "<table border=\"1\" class=\"dataframe\">\n",
       "  <thead>\n",
       "    <tr>\n",
       "      <th></th>\n",
       "      <th></th>\n",
       "      <th>channel</th>\n",
       "      <th colspan=\"2\" halign=\"left\">0</th>\n",
       "      <th colspan=\"2\" halign=\"left\">1</th>\n",
       "    </tr>\n",
       "    <tr>\n",
       "      <th></th>\n",
       "      <th></th>\n",
       "      <th>voice</th>\n",
       "      <th>1</th>\n",
       "      <th>2</th>\n",
       "      <th>1</th>\n",
       "      <th>2</th>\n",
       "    </tr>\n",
       "    <tr>\n",
       "      <th>bar</th>\n",
       "      <th>beat</th>\n",
       "      <th>tick</th>\n",
       "      <th></th>\n",
       "      <th></th>\n",
       "      <th></th>\n",
       "      <th></th>\n",
       "    </tr>\n",
       "  </thead>\n",
       "  <tbody>\n",
       "    <tr>\n",
       "      <th rowspan=\"11\" valign=\"top\">0</th>\n",
       "      <th rowspan=\"2\" valign=\"top\">1</th>\n",
       "      <th>0.0</th>\n",
       "      <td>C</td>\n",
       "      <td>C</td>\n",
       "      <td>A#</td>\n",
       "      <td>F</td>\n",
       "    </tr>\n",
       "    <tr>\n",
       "      <th>320.0</th>\n",
       "      <td>G#</td>\n",
       "      <td>G#</td>\n",
       "      <td>F#</td>\n",
       "      <td>C#</td>\n",
       "    </tr>\n",
       "    <tr>\n",
       "      <th rowspan=\"4\" valign=\"top\">2</th>\n",
       "      <th>80.0</th>\n",
       "      <td>D</td>\n",
       "      <td>D</td>\n",
       "      <td>NaN</td>\n",
       "      <td>NaN</td>\n",
       "    </tr>\n",
       "    <tr>\n",
       "      <th>85.0</th>\n",
       "      <td>NaN</td>\n",
       "      <td>NaN</td>\n",
       "      <td>C</td>\n",
       "      <td>G</td>\n",
       "    </tr>\n",
       "    <tr>\n",
       "      <th>400.0</th>\n",
       "      <td>A#</td>\n",
       "      <td>A#</td>\n",
       "      <td>NaN</td>\n",
       "      <td>NaN</td>\n",
       "    </tr>\n",
       "    <tr>\n",
       "      <th>405.0</th>\n",
       "      <td>NaN</td>\n",
       "      <td>NaN</td>\n",
       "      <td>G#</td>\n",
       "      <td>D#</td>\n",
       "    </tr>\n",
       "    <tr>\n",
       "      <th rowspan=\"2\" valign=\"top\">3</th>\n",
       "      <th>160.0</th>\n",
       "      <td>E</td>\n",
       "      <td>E</td>\n",
       "      <td>D</td>\n",
       "      <td>A</td>\n",
       "    </tr>\n",
       "    <tr>\n",
       "      <th>480.0</th>\n",
       "      <td>C</td>\n",
       "      <td>C</td>\n",
       "      <td>A#</td>\n",
       "      <td>F</td>\n",
       "    </tr>\n",
       "    <tr>\n",
       "      <th rowspan=\"3\" valign=\"top\">4</th>\n",
       "      <th>240.0</th>\n",
       "      <td>F#</td>\n",
       "      <td>F#</td>\n",
       "      <td>NaN</td>\n",
       "      <td>NaN</td>\n",
       "    </tr>\n",
       "    <tr>\n",
       "      <th>245.0</th>\n",
       "      <td>NaN</td>\n",
       "      <td>NaN</td>\n",
       "      <td>E</td>\n",
       "      <td>B</td>\n",
       "    </tr>\n",
       "    <tr>\n",
       "      <th>560.0</th>\n",
       "      <td>D</td>\n",
       "      <td>D</td>\n",
       "      <td>C</td>\n",
       "      <td>G</td>\n",
       "    </tr>\n",
       "    <tr>\n",
       "      <th rowspan=\"9\" valign=\"top\">1</th>\n",
       "      <th rowspan=\"3\" valign=\"top\">1</th>\n",
       "      <th>640.0</th>\n",
       "      <td>E</td>\n",
       "      <td>E</td>\n",
       "      <td>D</td>\n",
       "      <td>A</td>\n",
       "    </tr>\n",
       "    <tr>\n",
       "      <th>950.0</th>\n",
       "      <td>NaN</td>\n",
       "      <td>NaN</td>\n",
       "      <td>A#</td>\n",
       "      <td>F</td>\n",
       "    </tr>\n",
       "    <tr>\n",
       "      <th>960.0</th>\n",
       "      <td>C</td>\n",
       "      <td>C</td>\n",
       "      <td>NaN</td>\n",
       "      <td>NaN</td>\n",
       "    </tr>\n",
       "    <tr>\n",
       "      <th rowspan=\"2\" valign=\"top\">2</th>\n",
       "      <th>720.0</th>\n",
       "      <td>F#</td>\n",
       "      <td>F#</td>\n",
       "      <td>E</td>\n",
       "      <td>B</td>\n",
       "    </tr>\n",
       "    <tr>\n",
       "      <th>1040.0</th>\n",
       "      <td>D</td>\n",
       "      <td>D</td>\n",
       "      <td>C</td>\n",
       "      <td>G</td>\n",
       "    </tr>\n",
       "    <tr>\n",
       "      <th rowspan=\"2\" valign=\"top\">3</th>\n",
       "      <th>800.0</th>\n",
       "      <td>G#</td>\n",
       "      <td>G#</td>\n",
       "      <td>F#</td>\n",
       "      <td>C#</td>\n",
       "    </tr>\n",
       "    <tr>\n",
       "      <th>1120.0</th>\n",
       "      <td>E</td>\n",
       "      <td>E</td>\n",
       "      <td>D</td>\n",
       "      <td>A</td>\n",
       "    </tr>\n",
       "    <tr>\n",
       "      <th rowspan=\"2\" valign=\"top\">4</th>\n",
       "      <th>880.0</th>\n",
       "      <td>A#</td>\n",
       "      <td>A#</td>\n",
       "      <td>G#</td>\n",
       "      <td>D#</td>\n",
       "    </tr>\n",
       "    <tr>\n",
       "      <th>1200.0</th>\n",
       "      <td>F#</td>\n",
       "      <td>F#</td>\n",
       "      <td>E</td>\n",
       "      <td>B</td>\n",
       "    </tr>\n",
       "  </tbody>\n",
       "</table>\n",
       "</div>"
      ],
      "text/plain": [
       "channel            0         1     \n",
       "voice              1    2    1    2\n",
       "bar beat tick                      \n",
       "0   1    0.0       C    C   A#    F\n",
       "         320.0    G#   G#   F#   C#\n",
       "    2    80.0      D    D  NaN  NaN\n",
       "         85.0    NaN  NaN    C    G\n",
       "         400.0    A#   A#  NaN  NaN\n",
       "         405.0   NaN  NaN   G#   D#\n",
       "    3    160.0     E    E    D    A\n",
       "         480.0     C    C   A#    F\n",
       "    4    240.0    F#   F#  NaN  NaN\n",
       "         245.0   NaN  NaN    E    B\n",
       "         560.0     D    D    C    G\n",
       "1   1    640.0     E    E    D    A\n",
       "         950.0   NaN  NaN   A#    F\n",
       "         960.0     C    C  NaN  NaN\n",
       "    2    720.0    F#   F#    E    B\n",
       "         1040.0    D    D    C    G\n",
       "    3    800.0    G#   G#   F#   C#\n",
       "         1120.0    E    E    D    A\n",
       "    4    880.0    A#   A#   G#   D#\n",
       "         1200.0   F#   F#    E    B"
      ]
     },
     "execution_count": 30,
     "metadata": {},
     "output_type": "execute_result"
    }
   ],
   "source": [
    "df"
   ]
  },
  {
   "cell_type": "code",
   "execution_count": null,
   "id": "0af99f2f",
   "metadata": {
    "scrolled": true
   },
   "outputs": [],
   "source": [
    "dfm = pd.DataFrame({\"bar\": [0, 0,0,0,0,0,0,0,1,1,1,1,1,1,1,1], \"beat\": [1,2,3,4]*4,\"tick\":np.random.rand(16), \"element\": np.random.rand(16)})\n",
    "dfm = dfm.set_index([\"bar\", \"beat\",\"tick\"])\n",
    "#dfm.loc[(0,1)]\n",
    "#dfm.reorder_levels([2,1,0], axis=0)\n",
    "#dfm.xs(1,level='beat',axis=0)\n",
    "dfm"
   ]
  },
  {
   "cell_type": "code",
   "execution_count": null,
   "id": "13f84d17",
   "metadata": {
    "scrolled": true
   },
   "outputs": [],
   "source": [
    "s = harmonics.Song('data/weimar_jazz_database/RELEASE2.0_mid_unquant/DonByas_CognacBlues_FINAL.mid')\n"
   ]
  },
  {
   "cell_type": "code",
   "execution_count": null,
   "id": "c5b289bb",
   "metadata": {},
   "outputs": [],
   "source": [
    "s.df[(s.df.channel == 0) & (s.df.type == 'note_on')]"
   ]
  },
  {
   "cell_type": "code",
   "execution_count": null,
   "id": "95b18e95",
   "metadata": {},
   "outputs": [],
   "source": [
    "s.metamessages"
   ]
  },
  {
   "cell_type": "code",
   "execution_count": null,
   "id": "3372d6f8",
   "metadata": {},
   "outputs": [],
   "source": [
    "[i for i in list(s.df[s.df.type == 'sysex'].hex_msg)]"
   ]
  },
  {
   "cell_type": "code",
   "execution_count": null,
   "id": "727d0454",
   "metadata": {},
   "outputs": [],
   "source": [
    "s.MIDI.tracks[0][1]."
   ]
  },
  {
   "cell_type": "code",
   "execution_count": null,
   "id": "5fdf7797",
   "metadata": {},
   "outputs": [],
   "source": [
    "times = "
   ]
  },
  {
   "cell_type": "code",
   "execution_count": null,
   "id": "216cdf67",
   "metadata": {},
   "outputs": [],
   "source": [
    "[i.hex() for i in s.MIDI.tracks[0]]"
   ]
  },
  {
   "cell_type": "code",
   "execution_count": null,
   "id": "469ee706",
   "metadata": {},
   "outputs": [],
   "source": [
    "#numpy.fromiter(something.generate(from_this_input), float)\n",
    "time_to_next = np.array([i.time for i in s.MIDI.tracks[0]])\n",
    "tick_time = np.cumsum(time_to_next)\n",
    "beat_time = tick_time/s.MIDI.ticks_per_beat\n",
    "current_beat = np.ceil(beat_time)\n",
    "msg = np.array([i.hex() for i in s.MIDI.tracks[0]])\n",
    "typ = np.array([{'8':'note_on',\n",
    "                 '9':'note_off',\n",
    "                 'A':'aftertouch_poly',\n",
    "                 'B':'CC',\n",
    "                 'C':'program',\n",
    "                 'D':'aftertouch_channel',\n",
    "                 'E':'pitch_wheel',\n",
    "                 'F':'sysex'}[i[0]] for i in msg])\n",
    "channel = np.array([int(i[1],16) for i in msg])\n",
    "data1 = np.array([int(i[3:5],16) for i in msg])\n",
    "data2 = np.array([int(i[6:],16) if len(i)==2 else np.nan for i in msg])\n",
    "sysex = np.array([(int(n[6:],16) for n in i.split(' ')) if len(i)>2 else np.nan for i in msg])\n",
    "pd.DataFrame({'type':typ,'channel':channel,'data1':data1,'data2':data2,\n",
    "              'tick_time':tick_time,'beat_time':beat_time,\n",
    "              'current_beat':current_beat,'hex_msg':msg})"
   ]
  },
  {
   "cell_type": "code",
   "execution_count": null,
   "id": "14ec23ed",
   "metadata": {},
   "outputs": [],
   "source": [
    "%timeit f()"
   ]
  },
  {
   "cell_type": "code",
   "execution_count": null,
   "id": "a63f49c7",
   "metadata": {},
   "outputs": [],
   "source": []
  },
  {
   "cell_type": "code",
   "execution_count": null,
   "id": "2179f6ce",
   "metadata": {},
   "outputs": [],
   "source": [
    "MidiFile.__dict__"
   ]
  },
  {
   "cell_type": "code",
   "execution_count": null,
   "id": "6b899844",
   "metadata": {},
   "outputs": [],
   "source": [
    "miditype = s.MIDI.type\n",
    "ticks_per_beat = s.MIDI.ticks_per_beat\n",
    "number_of_tracks = len(s.MIDI.tracks) #or just 1 if type 0\n",
    "time_signatures = [(str(m.numerator)+':'+str(m.denominator),m.time) for tracks in s.MIDI.tracks for m in tracks if m.type == 'time_signature']\n",
    "notes = [m for tracks in s.MIDI.tracks for m in tracks if not m.is_meta]\n",
    "[vars(a) for a in notes]"
   ]
  },
  {
   "cell_type": "code",
   "execution_count": null,
   "id": "ccbe8fcb",
   "metadata": {},
   "outputs": [],
   "source": [
    "s.MIDI.tracks"
   ]
  },
  {
   "cell_type": "code",
   "execution_count": null,
   "id": "02e7a0ba",
   "metadata": {},
   "outputs": [],
   "source": []
  }
 ],
 "metadata": {
  "kernelspec": {
   "display_name": "Python 3 (ipykernel)",
   "language": "python",
   "name": "python3"
  },
  "language_info": {
   "codemirror_mode": {
    "name": "ipython",
    "version": 3
   },
   "file_extension": ".py",
   "mimetype": "text/x-python",
   "name": "python",
   "nbconvert_exporter": "python",
   "pygments_lexer": "ipython3",
   "version": "3.9.7"
  }
 },
 "nbformat": 4,
 "nbformat_minor": 5
}
