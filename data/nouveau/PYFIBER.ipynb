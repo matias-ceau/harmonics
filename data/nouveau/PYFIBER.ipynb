{
 "cells": [
  {
   "cell_type": "code",
   "execution_count": 1,
   "id": "36685ac3",
   "metadata": {
    "scrolled": false
   },
   "outputs": [
    {
     "name": "stdout",
     "output_type": "stream",
     "text": [
      "Configuration file at: C:\\Users\\mceau/.pyfiber/pyfiber.yaml\n"
     ]
    }
   ],
   "source": [
    "import pyfiber"
   ]
  },
  {
   "cell_type": "code",
   "execution_count": 2,
   "id": "38bc5236",
   "metadata": {},
   "outputs": [],
   "source": [
    "import matplotlib.pyplot as plt\n",
    "import matplotlib.style as st\n",
    "st.use('ggplot')\n",
    "import numpy as np"
   ]
  },
  {
   "cell_type": "code",
   "execution_count": 1,
   "id": "631e6462",
   "metadata": {},
   "outputs": [],
   "source": [
    "hex??"
   ]
  },
  {
   "cell_type": "code",
   "execution_count": 9,
   "id": "db9fd5c6",
   "metadata": {},
   "outputs": [
    {
     "data": {
      "text/plain": [
       "81"
      ]
     },
     "execution_count": 9,
     "metadata": {},
     "output_type": "execute_result"
    }
   ],
   "source": [
    "int('51',base=16)"
   ]
  },
  {
   "cell_type": "code",
   "execution_count": 376,
   "id": "a9c6f430",
   "metadata": {},
   "outputs": [],
   "source": [
    "with open('../../Desktop/midi/gm2p1.txt') as f:\n",
    "    lines = f.readlines()"
   ]
  },
  {
   "cell_type": "code",
   "execution_count": null,
   "id": "fb3e44f3",
   "metadata": {},
   "outputs": [],
   "source": [
    "# midi OK\n",
    "# note OK\n",
    "# inst name\n"
   ]
  },
  {
   "cell_type": "code",
   "execution_count": null,
   "id": "a1aacffe",
   "metadata": {},
   "outputs": [],
   "source": [
    "#midi = [a.split(' ')[0] for a in lines]\n",
    "#note = [a.split(' ')[1].replace('(','').replace(')','') for an in lines]"
   ]
  },
  {
   "cell_type": "code",
   "execution_count": 374,
   "id": "de4627a3",
   "metadata": {},
   "outputs": [
    {
     "data": {
      "text/html": [
       "<div>\n",
       "<style scoped>\n",
       "    .dataframe tbody tr th:only-of-type {\n",
       "        vertical-align: middle;\n",
       "    }\n",
       "\n",
       "    .dataframe tbody tr th {\n",
       "        vertical-align: top;\n",
       "    }\n",
       "\n",
       "    .dataframe thead th {\n",
       "        text-align: right;\n",
       "    }\n",
       "</style>\n",
       "<table border=\"1\" class=\"dataframe\">\n",
       "  <thead>\n",
       "    <tr style=\"text-align: right;\">\n",
       "      <th></th>\n",
       "      <th></th>\n",
       "      <th>note</th>\n",
       "      <th>set_name</th>\n",
       "      <th>instr</th>\n",
       "      <th>PC</th>\n",
       "      <th>EXC</th>\n",
       "      <th>pan</th>\n",
       "    </tr>\n",
       "  </thead>\n",
       "  <tbody>\n",
       "    <tr>\n",
       "      <th rowspan=\"5\" valign=\"top\">27</th>\n",
       "      <th>1</th>\n",
       "      <td>D#</td>\n",
       "      <td>standard</td>\n",
       "      <td>High Q</td>\n",
       "      <td>1</td>\n",
       "      <td>NaN</td>\n",
       "      <td>49</td>\n",
       "    </tr>\n",
       "    <tr>\n",
       "      <th>2</th>\n",
       "      <td>D#</td>\n",
       "      <td>room</td>\n",
       "      <td>@</td>\n",
       "      <td>9</td>\n",
       "      <td>NaN</td>\n",
       "      <td>NaN</td>\n",
       "    </tr>\n",
       "    <tr>\n",
       "      <th>3</th>\n",
       "      <td>D#</td>\n",
       "      <td>power</td>\n",
       "      <td>@</td>\n",
       "      <td>17</td>\n",
       "      <td>NaN</td>\n",
       "      <td>NaN</td>\n",
       "    </tr>\n",
       "    <tr>\n",
       "      <th>4</th>\n",
       "      <td>D#</td>\n",
       "      <td>electronic</td>\n",
       "      <td>NaN</td>\n",
       "      <td>25</td>\n",
       "      <td>NaN</td>\n",
       "      <td>NaN</td>\n",
       "    </tr>\n",
       "    <tr>\n",
       "      <th>5</th>\n",
       "      <td>D#</td>\n",
       "      <td>analog</td>\n",
       "      <td>NaN</td>\n",
       "      <td>26</td>\n",
       "      <td>NaN</td>\n",
       "      <td>NaN</td>\n",
       "    </tr>\n",
       "    <tr>\n",
       "      <th>...</th>\n",
       "      <th>...</th>\n",
       "      <td>...</td>\n",
       "      <td>...</td>\n",
       "      <td>...</td>\n",
       "      <td>...</td>\n",
       "      <td>...</td>\n",
       "      <td>...</td>\n",
       "    </tr>\n",
       "    <tr>\n",
       "      <th rowspan=\"5\" valign=\"top\">88</th>\n",
       "      <th>5</th>\n",
       "      <td>E</td>\n",
       "      <td>analog</td>\n",
       "      <td>NaN</td>\n",
       "      <td>26</td>\n",
       "      <td>NaN</td>\n",
       "      <td>NaN</td>\n",
       "    </tr>\n",
       "    <tr>\n",
       "      <th>6</th>\n",
       "      <td>E</td>\n",
       "      <td>jazz</td>\n",
       "      <td>NaN</td>\n",
       "      <td>33</td>\n",
       "      <td>NaN</td>\n",
       "      <td>NaN</td>\n",
       "    </tr>\n",
       "    <tr>\n",
       "      <th>7</th>\n",
       "      <td>E</td>\n",
       "      <td>brush</td>\n",
       "      <td>NaN</td>\n",
       "      <td>41</td>\n",
       "      <td>NaN</td>\n",
       "      <td>NaN</td>\n",
       "    </tr>\n",
       "    <tr>\n",
       "      <th>8</th>\n",
       "      <td>E</td>\n",
       "      <td>orchestra</td>\n",
       "      <td>NaN</td>\n",
       "      <td>49</td>\n",
       "      <td>NaN</td>\n",
       "      <td>NaN</td>\n",
       "    </tr>\n",
       "    <tr>\n",
       "      <th>9</th>\n",
       "      <td>E</td>\n",
       "      <td>sfx</td>\n",
       "      <td>NaN</td>\n",
       "      <td>57</td>\n",
       "      <td>NaN</td>\n",
       "      <td>NaN</td>\n",
       "    </tr>\n",
       "  </tbody>\n",
       "</table>\n",
       "<p>558 rows × 6 columns</p>\n",
       "</div>"
      ],
      "text/plain": [
       "     note    set_name   instr  PC  EXC  pan\n",
       "27 1   D#    standard  High Q   1  NaN   49\n",
       "   2   D#        room       @   9  NaN  NaN\n",
       "   3   D#       power       @  17  NaN  NaN\n",
       "   4   D#  electronic     NaN  25  NaN  NaN\n",
       "   5   D#      analog     NaN  26  NaN  NaN\n",
       "...   ...         ...     ...  ..  ...  ...\n",
       "88 5    E      analog     NaN  26  NaN  NaN\n",
       "   6    E        jazz     NaN  33  NaN  NaN\n",
       "   7    E       brush     NaN  41  NaN  NaN\n",
       "   8    E   orchestra     NaN  49  NaN  NaN\n",
       "   9    E         sfx     NaN  57  NaN  NaN\n",
       "\n",
       "[558 rows x 6 columns]"
      ]
     },
     "execution_count": 374,
     "metadata": {},
     "output_type": "execute_result"
    }
   ],
   "source": [
    "df"
   ]
  },
  {
   "cell_type": "code",
   "execution_count": 375,
   "id": "7e111841",
   "metadata": {},
   "outputs": [],
   "source": [
    "df.to_csv('../../Desktop/midi/gm2p.csv')"
   ]
  },
  {
   "cell_type": "code",
   "execution_count": 379,
   "id": "ce50d6c1",
   "metadata": {},
   "outputs": [],
   "source": [
    "df.loc[[(88,i) for i in [1,2,3,4,5,6,7,9]],'instr'] = ['--']*8"
   ]
  },
  {
   "cell_type": "code",
   "execution_count": 400,
   "id": "c010d622",
   "metadata": {},
   "outputs": [
    {
     "name": "stdout",
     "output_type": "stream",
     "text": [
      "27 ['@', '@', '@\\n']\n",
      "28 ['@', '@', '@\\n']\n",
      "29 ['@', '@', '@\\n']\n",
      "30 ['@', '@', '@\\n']\n",
      "31 ['@', '@', '@\\n']\n",
      "32 ['@', '@', '@\\n']\n",
      "33 ['@', '@', '@\\n']\n",
      "34 ['@', '@', '@\\n']\n",
      "35 ['@', '@', 'Jazz', 'Kick', '2', '64\\n']\n",
      "36 ['Electric', 'Bass', 'Drum', '64', 'Analog', 'Bass', 'Drum', '64', 'Jazz', 'Kick', '1', '64\\n']\n",
      "37 ['@', 'Analog', 'Rim', 'Shot', '64', '@\\n']\n",
      "38 ['Electric', 'Snare', '1', '64', 'Analog', 'Snare', '1', '64', '@\\n']\n",
      "39 ['@', '@', '@\\n']\n",
      "40 ['Electric', 'Snare', '2', '64', '@', '@\\n']\n",
      "41 ['Electric', 'Low', 'Tom', '2', '34', 'Analog', 'Low', 'Tom', '2', '34', '@\\n']\n",
      "42 ['@', 'Analog', 'CHH', '1', '[EXC1]', '84', '@\\n']\n",
      "43 ['Electric', 'Low', 'Tom', '1', '46', 'Analog', 'Low', 'Tom', '1', '46', '@\\n']\n",
      "44 ['@', 'Analog', 'CHH', '2', '[EXC1]', '84', '@\\n']\n",
      "45 ['Electric', 'Mid', 'Tom', '2', '58', 'Analog', 'Mid', 'Tom', '2', '58', '@\\n']\n",
      "46 ['@', 'Analog', 'OHH', '[EXC1]', '84', '@\\n']\n",
      "47 ['Electric', 'Mid', 'Tom', '1', '70', 'Analog', 'Mid', 'Tom', '1', '70', '@\\n']\n",
      "48 ['Electric', 'Hi', 'Tom', '2', '82', 'Analog', 'Hi', 'Tom', '2', '82', '@\\n']\n",
      "49 ['@', 'Analog', 'Cymbal', '84', '@\\n']\n",
      "50 ['Electric', 'Hi', 'Tom', '1', '94', 'Analog', 'Hi', 'Tom', '1', '94', '@\\n']\n",
      "51 ['@', '@', '@\\n']\n",
      "52 ['Reverse', 'Cymbal', '44', '@', '@\\n']\n",
      "53 ['@', '@', '@\\n']\n",
      "54 ['@', '@', '@\\n']\n",
      "55 ['@', '@', '@\\n']\n",
      "56 ['@', 'Analog', 'Cowbell', '84', '@\\n']\n",
      "57 ['@', '@', '@\\n']\n",
      "58 ['@', '@', '@\\n']\n",
      "59 ['@', '@', '@\\n']\n",
      "60 ['@', '@', '@\\n']\n",
      "61 ['@', '@', '@\\n']\n",
      "62 ['@', 'Analog', 'High', 'Conga', '39', '@\\n']\n",
      "63 ['@', 'Analog', 'Mid', 'Conga', '44', '@\\n']\n",
      "64 ['@', 'Analog', 'Low', 'Conga', '49', '@\\n']\n",
      "65 ['@', '@', '@\\n']\n",
      "66 ['@', '@', '@\\n']\n",
      "67 ['@', '@', '@\\n']\n",
      "68 ['@', '@', '@\\n']\n",
      "69 ['@', '@', '@\\n']\n",
      "70 ['@', 'Analog', 'Maracas', '24', '@\\n']\n",
      "71 ['@', '@', '@\\n']\n",
      "72 ['@', '@', '@\\n']\n",
      "73 ['@', '@', '@\\n']\n",
      "74 ['@', '@', '@\\n']\n",
      "75 ['@', 'Analog', 'Claves', '84', '@\\n']\n",
      "76 ['@', '@', '@\\n']\n",
      "77 ['@', '@', '@\\n']\n",
      "78 ['@', '@', '@\\n']\n",
      "79 ['@', '@', '@\\n']\n",
      "80 ['@', '@', '@\\n']\n",
      "81 ['@', '@', '@\\n']\n",
      "82 ['@', '@', '@\\n']\n",
      "83 ['@', '@', '@\\n']\n",
      "84 ['@', '@', '@\\n']\n",
      "85 ['@', '@', '@\\n']\n",
      "86 ['@', '@', '@\\n']\n",
      "87 ['@', '@', '@\\n']\n",
      "88 ['---', '---', '---']\n"
     ]
    }
   ],
   "source": [
    "for l in lines:\n",
    "    if 'MID C' in l:\n",
    "        l = l.replace('MID C', 'C')\n",
    "    l = l.split(' ')\n",
    "    n = int(l[0])\n",
    "    l = l[2:]\n",
    "    print(n, l)          "
   ]
  },
  {
   "cell_type": "code",
   "execution_count": null,
   "id": "8f391643",
   "metadata": {},
   "outputs": [],
   "source": []
  },
  {
   "cell_type": "code",
   "execution_count": 377,
   "id": "0330fc9b",
   "metadata": {},
   "outputs": [
    {
     "data": {
      "text/plain": [
       "['27 (D#) @ @ @\\n',\n",
       " '28 (E) @ @ @\\n',\n",
       " '29 (F) @ @ @\\n',\n",
       " '30 (F#) @ @ @\\n',\n",
       " '31 (G) @ @ @\\n',\n",
       " '32 (G#) @ @ @\\n',\n",
       " '33 (A) @ @ @\\n',\n",
       " '34 (A#) @ @ @\\n',\n",
       " '35 (B) @ @ Jazz Kick 2 64\\n',\n",
       " '36 (C) Electric Bass Drum 64 Analog Bass Drum 64 Jazz Kick 1 64\\n',\n",
       " '37 (C#) @ Analog Rim Shot 64 @\\n',\n",
       " '38 (D) Electric Snare 1 64 Analog Snare 1 64 @\\n',\n",
       " '39 (D#) @ @ @\\n',\n",
       " '40 (E) Electric Snare 2 64 @ @\\n',\n",
       " '41 (F) Electric Low Tom 2 34 Analog Low Tom 2 34 @\\n',\n",
       " '42 (F#) @ Analog CHH 1 [EXC1] 84 @\\n',\n",
       " '43 (G) Electric Low Tom 1 46 Analog Low Tom 1 46 @\\n',\n",
       " '44 (G#) @ Analog CHH 2 [EXC1] 84 @\\n',\n",
       " '45 (A) Electric Mid Tom 2 58 Analog Mid Tom 2 58 @\\n',\n",
       " '46 (A#) @ Analog OHH [EXC1] 84 @\\n',\n",
       " '47 (B) Electric Mid Tom 1 70 Analog Mid Tom 1 70 @\\n',\n",
       " '48 (C) Electric Hi Tom 2 82 Analog Hi Tom 2 82 @\\n',\n",
       " '49 (C#) @ Analog Cymbal 84 @\\n',\n",
       " '50 (D) Electric Hi Tom 1 94 Analog Hi Tom 1 94 @\\n',\n",
       " '51 (D#) @ @ @\\n',\n",
       " '52 (E) Reverse Cymbal 44 @ @\\n',\n",
       " '53 (F) @ @ @\\n',\n",
       " '54 (F#) @ @ @\\n',\n",
       " '55 (G) @ @ @\\n',\n",
       " '56 (G#) @ Analog Cowbell 84 @\\n',\n",
       " '57 (A) @ @ @\\n',\n",
       " '58 (A#) @ @ @\\n',\n",
       " '59 (B) @ @ @\\n',\n",
       " '60 (MID C) @ @ @\\n',\n",
       " '61 (C#) @ @ @\\n',\n",
       " '62 (D) @ Analog High Conga 39 @\\n',\n",
       " '63 (D#) @ Analog Mid Conga 44 @\\n',\n",
       " '64 (E) @ Analog Low Conga 49 @\\n',\n",
       " '65 (F) @ @ @\\n',\n",
       " '66 (F#) @ @ @\\n',\n",
       " '67 (G) @ @ @\\n',\n",
       " '68 (G#) @ @ @\\n',\n",
       " '69 (A) @ @ @\\n',\n",
       " '70 (A#) @ Analog Maracas 24 @\\n',\n",
       " '71 (B) @ @ @\\n',\n",
       " '72 (C) @ @ @\\n',\n",
       " '73 (C#) @ @ @\\n',\n",
       " '74 (D) @ @ @\\n',\n",
       " '75 (D#) @ Analog Claves 84 @\\n',\n",
       " '76 (E) @ @ @\\n',\n",
       " '77 (F) @ @ @\\n',\n",
       " '78 (F#) @ @ @\\n',\n",
       " '79 (G) @ @ @\\n',\n",
       " '80 (G#) @ @ @\\n',\n",
       " '81 (A) @ @ @\\n',\n",
       " '82 (A#) @ @ @\\n',\n",
       " '83 (B) @ @ @\\n',\n",
       " '84 (C) @ @ @\\n',\n",
       " '85 (C#) @ @ @\\n',\n",
       " '86 (D) @ @ @\\n',\n",
       " '87 (D#) @ @ @\\n',\n",
       " '88 (E) --- --- ---']"
      ]
     },
     "execution_count": 377,
     "metadata": {},
     "output_type": "execute_result"
    }
   ],
   "source": [
    "lines"
   ]
  },
  {
   "cell_type": "code",
   "execution_count": null,
   "id": "ecae2a5d",
   "metadata": {},
   "outputs": [],
   "source": []
  }
 ],
 "metadata": {
  "kernelspec": {
   "display_name": "pyfiber",
   "language": "python",
   "name": "pyfiber"
  },
  "language_info": {
   "codemirror_mode": {
    "name": "ipython",
    "version": 3
   },
   "file_extension": ".py",
   "mimetype": "text/x-python",
   "name": "python",
   "nbconvert_exporter": "python",
   "pygments_lexer": "ipython3",
   "version": "3.9.12"
  }
 },
 "nbformat": 4,
 "nbformat_minor": 5
}
