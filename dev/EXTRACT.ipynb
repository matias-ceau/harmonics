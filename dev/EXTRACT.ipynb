{
 "cells": [
  {
   "cell_type": "code",
   "execution_count": 2,
   "id": "7e203a93",
   "metadata": {
    "scrolled": true
   },
   "outputs": [
    {
     "name": "stdout",
     "output_type": "stream",
     "text": [
      "/home/matias/HDD/Dropbox/apps/harmonics/harmonics\n"
     ]
    }
   ],
   "source": [
    "%cd harmonics"
   ]
  },
  {
   "cell_type": "code",
   "execution_count": 39,
   "id": "56cee0f2",
   "metadata": {
    "scrolled": true
   },
   "outputs": [],
   "source": [
    "import pandas as pd\n",
    "import yaml\n",
    "import importlib\n",
    "import audio as a, midi as m, harmonics as h, bot as b\n",
    "def rel():\n",
    "    for module in [a,m,h,b]:\n",
    "        importlib.reload(module)\n",
    "from mido import MidiFile\n",
    "import mido\n",
    "import os\n",
    "import datetime\n",
    "import numpy as np\n",
    "import matplotlib.pyplot as plt\n",
    "import numba\n",
    "rel()"
   ]
  },
  {
   "cell_type": "code",
   "execution_count": 40,
   "id": "a5310627",
   "metadata": {
    "scrolled": true
   },
   "outputs": [
    {
     "name": "stdout",
     "output_type": "stream",
     "text": [
      "extraction took 0.020366191864013672 seconds\n"
     ]
    }
   ],
   "source": [
    "t = harmonics.Tune('../data/popsongs/Finland_Natant.mid')"
   ]
  },
  {
   "cell_type": "code",
   "execution_count": 41,
   "id": "63795a1d",
   "metadata": {},
   "outputs": [],
   "source": [
    "seq = h.Sequence([h.Note(i) for i in range(0,127)])"
   ]
  },
  {
   "cell_type": "code",
   "execution_count": 42,
   "id": "ef1b17d1",
   "metadata": {
    "scrolled": true
   },
   "outputs": [
    {
     "data": {
      "text/html": [
       "<div>\n",
       "<style scoped>\n",
       "    .dataframe tbody tr th:only-of-type {\n",
       "        vertical-align: middle;\n",
       "    }\n",
       "\n",
       "    .dataframe tbody tr th {\n",
       "        vertical-align: top;\n",
       "    }\n",
       "\n",
       "    .dataframe thead th {\n",
       "        text-align: right;\n",
       "    }\n",
       "</style>\n",
       "<table border=\"1\" class=\"dataframe\">\n",
       "  <thead>\n",
       "    <tr style=\"text-align: right;\">\n",
       "      <th></th>\n",
       "      <th>message_type</th>\n",
       "      <th>instrument</th>\n",
       "      <th>pitch</th>\n",
       "      <th>volume</th>\n",
       "      <th>duration</th>\n",
       "    </tr>\n",
       "  </thead>\n",
       "  <tbody>\n",
       "    <tr>\n",
       "      <th>0</th>\n",
       "      <td>note_on</td>\n",
       "      <td>0</td>\n",
       "      <td>0</td>\n",
       "      <td>100</td>\n",
       "      <td>1</td>\n",
       "    </tr>\n",
       "    <tr>\n",
       "      <th>1</th>\n",
       "      <td>note_on</td>\n",
       "      <td>0</td>\n",
       "      <td>1</td>\n",
       "      <td>100</td>\n",
       "      <td>1</td>\n",
       "    </tr>\n",
       "    <tr>\n",
       "      <th>2</th>\n",
       "      <td>note_on</td>\n",
       "      <td>0</td>\n",
       "      <td>2</td>\n",
       "      <td>100</td>\n",
       "      <td>1</td>\n",
       "    </tr>\n",
       "    <tr>\n",
       "      <th>3</th>\n",
       "      <td>note_on</td>\n",
       "      <td>0</td>\n",
       "      <td>3</td>\n",
       "      <td>100</td>\n",
       "      <td>1</td>\n",
       "    </tr>\n",
       "    <tr>\n",
       "      <th>4</th>\n",
       "      <td>note_on</td>\n",
       "      <td>0</td>\n",
       "      <td>4</td>\n",
       "      <td>100</td>\n",
       "      <td>1</td>\n",
       "    </tr>\n",
       "    <tr>\n",
       "      <th>...</th>\n",
       "      <td>...</td>\n",
       "      <td>...</td>\n",
       "      <td>...</td>\n",
       "      <td>...</td>\n",
       "      <td>...</td>\n",
       "    </tr>\n",
       "    <tr>\n",
       "      <th>122</th>\n",
       "      <td>note_on</td>\n",
       "      <td>0</td>\n",
       "      <td>122</td>\n",
       "      <td>100</td>\n",
       "      <td>1</td>\n",
       "    </tr>\n",
       "    <tr>\n",
       "      <th>123</th>\n",
       "      <td>note_on</td>\n",
       "      <td>0</td>\n",
       "      <td>123</td>\n",
       "      <td>100</td>\n",
       "      <td>1</td>\n",
       "    </tr>\n",
       "    <tr>\n",
       "      <th>124</th>\n",
       "      <td>note_on</td>\n",
       "      <td>0</td>\n",
       "      <td>124</td>\n",
       "      <td>100</td>\n",
       "      <td>1</td>\n",
       "    </tr>\n",
       "    <tr>\n",
       "      <th>125</th>\n",
       "      <td>note_on</td>\n",
       "      <td>0</td>\n",
       "      <td>125</td>\n",
       "      <td>100</td>\n",
       "      <td>1</td>\n",
       "    </tr>\n",
       "    <tr>\n",
       "      <th>126</th>\n",
       "      <td>note_on</td>\n",
       "      <td>0</td>\n",
       "      <td>126</td>\n",
       "      <td>100</td>\n",
       "      <td>1</td>\n",
       "    </tr>\n",
       "  </tbody>\n",
       "</table>\n",
       "<p>127 rows × 5 columns</p>\n",
       "</div>"
      ],
      "text/plain": [
       "    message_type  instrument  pitch  volume  duration\n",
       "0        note_on           0      0     100         1\n",
       "1        note_on           0      1     100         1\n",
       "2        note_on           0      2     100         1\n",
       "3        note_on           0      3     100         1\n",
       "4        note_on           0      4     100         1\n",
       "..           ...         ...    ...     ...       ...\n",
       "122      note_on           0    122     100         1\n",
       "123      note_on           0    123     100         1\n",
       "124      note_on           0    124     100         1\n",
       "125      note_on           0    125     100         1\n",
       "126      note_on           0    126     100         1\n",
       "\n",
       "[127 rows x 5 columns]"
      ]
     },
     "execution_count": 42,
     "metadata": {},
     "output_type": "execute_result"
    }
   ],
   "source": [
    "seq.df"
   ]
  },
  {
   "cell_type": "code",
   "execution_count": 17,
   "id": "58164503",
   "metadata": {},
   "outputs": [],
   "source": [
    "notes = t.get(t='note_off')"
   ]
  },
  {
   "cell_type": "code",
   "execution_count": 18,
   "id": "f5a0ea3e",
   "metadata": {},
   "outputs": [
    {
     "data": {
      "text/plain": [
       "0.33"
      ]
     },
     "execution_count": 18,
     "metadata": {},
     "output_type": "execute_result"
    }
   ],
   "source": [
    "def quantitize(n):\n",
    "    bins = np.array([0, 0.125, 0.29, 0.4, 0.58, 0.7, 0.875])\n",
    "    vals = np.array([0, 0.25,  0.33, 0.5, 0.66, 0.75, 0])\n",
    "    return vals[np.digitize(n,bins)-1]\n",
    "quantitize(0.33333333)"
   ]
  },
  {
   "cell_type": "code",
   "execution_count": 24,
   "id": "06f55f25",
   "metadata": {},
   "outputs": [],
   "source": [
    "nd = h.NoteData('note_on',9,60,110,56)"
   ]
  },
  {
   "cell_type": "code",
   "execution_count": 43,
   "id": "78a473fc",
   "metadata": {},
   "outputs": [
    {
     "data": {
      "text/plain": [
       "1"
      ]
     },
     "execution_count": 43,
     "metadata": {},
     "output_type": "execute_result"
    }
   ],
   "source": [
    "np.sum(np.array([False,True]))"
   ]
  },
  {
   "cell_type": "code",
   "execution_count": 24,
   "id": "8846e923",
   "metadata": {},
   "outputs": [
    {
     "ename": "SyntaxError",
     "evalue": "invalid syntax (196099525.py, line 1)",
     "output_type": "error",
     "traceback": [
      "\u001b[0;36m  Input \u001b[0;32mIn [24]\u001b[0;36m\u001b[0m\n\u001b[0;31m    string.ascii_letters[[26:33,30:33]]\u001b[0m\n\u001b[0m                            ^\u001b[0m\n\u001b[0;31mSyntaxError\u001b[0m\u001b[0;31m:\u001b[0m invalid syntax\n"
     ]
    }
   ],
   "source": [
    "string.ascii_letters[26:33,30:33]"
   ]
  },
  {
   "cell_type": "code",
   "execution_count": 44,
   "id": "d5f22dd7",
   "metadata": {},
   "outputs": [
    {
     "data": {
      "text/plain": [
       "{1: 2, 2: 3}"
      ]
     },
     "execution_count": 44,
     "metadata": {},
     "output_type": "execute_result"
    }
   ],
   "source": [
    "{1:2,2:3}"
   ]
  },
  {
   "cell_type": "code",
   "execution_count": 41,
   "id": "6a89c6a9",
   "metadata": {},
   "outputs": [
    {
     "name": "stdout",
     "output_type": "stream",
     "text": [
      "\u001b[30mC\u001b[0m \u001b[3m5\u001b[23m\n",
      "\u001b[31mD\u001b[0m \u001b[3m5\u001b[23m\n",
      "\u001b[32mE\u001b[0m \u001b[3m5\u001b[23m\n",
      "\u001b[33mF\u001b[0m \u001b[3m5\u001b[23m\n",
      "\u001b[34mG\u001b[0m \u001b[3m5\u001b[23m\n",
      "\u001b[35mA\u001b[0m \u001b[3m5\u001b[23m\n",
      "\u001b[36mB\u001b[0m \u001b[3m5\u001b[23m\n"
     ]
    }
   ],
   "source": [
    "MIDICT = {k:v for k,v in zip(np.arange(12)%12,list('C.D.EF.G.A.B')) if v != '.'}\n",
    "MIDICT = {k : f'\\033[{_}m{v}\\033[0m' \n",
    "               for (k,v),_ in zip(MIDICT.items(),range(30,38))}\n",
    "for k in MIDICT.values():\n",
    "    print(k,)"
   ]
  },
  {
   "cell_type": "code",
   "execution_count": 43,
   "id": "f34a2533",
   "metadata": {},
   "outputs": [
    {
     "data": {
      "text/plain": [
       "array(['C4', '.4', 'D4', '.4', 'E4', 'F4', '.4', 'G4', '.4', 'A4', '.4',\n",
       "       'B4', 'C5', '.5', 'D5', '.5', 'E5', 'F5', '.5', 'G5', '.5', 'A5',\n",
       "       '.5', 'B5', 'C6', '.6', 'D6', '.6', 'E6', 'F6', '.6', 'G6', '.6',\n",
       "       'A6', '.6', 'B6', 'C7', '.7', 'D7', '.7', 'E7', 'F7', '.7', 'G7',\n",
       "       '.7', 'A7', '.7', 'B7', 'C8', '.8', 'D8', '.8', 'E8', 'F8', '.8',\n",
       "       'G8', '.8', 'A8', '.8', 'B8'], dtype='<U2')"
      ]
     },
     "execution_count": 43,
     "metadata": {},
     "output_type": "execute_result"
    }
   ],
   "source": [
    "import string\n",
    "import numpy as np\n",
    "def f(midi):\n",
    "    return {k:v for k,v in zip(np.arange(12)%12,list('C.D.EF.G.A.B'))}[midi%12]+str(midi//12-1)\n",
    "vf = np.vectorize(f)\n",
    "vf(np.arange(60,120))"
   ]
  },
  {
   "cell_type": "code",
   "execution_count": null,
   "id": "08bf1d0d",
   "metadata": {},
   "outputs": [],
   "source": [
    "def generate_note()"
   ]
  },
  {
   "cell_type": "code",
   "execution_count": 19,
   "id": "10fdaaf7",
   "metadata": {
    "scrolled": false
   },
   "outputs": [
    {
     "data": {
      "text/html": [
       "<div>\n",
       "<style scoped>\n",
       "    .dataframe tbody tr th:only-of-type {\n",
       "        vertical-align: middle;\n",
       "    }\n",
       "\n",
       "    .dataframe tbody tr th {\n",
       "        vertical-align: top;\n",
       "    }\n",
       "\n",
       "    .dataframe thead th {\n",
       "        text-align: right;\n",
       "    }\n",
       "</style>\n",
       "<table border=\"1\" class=\"dataframe\">\n",
       "  <thead>\n",
       "    <tr style=\"text-align: right;\">\n",
       "      <th></th>\n",
       "      <th>track</th>\n",
       "      <th>type</th>\n",
       "      <th>channel</th>\n",
       "      <th>data1</th>\n",
       "      <th>data2</th>\n",
       "      <th>miditime</th>\n",
       "      <th>duration</th>\n",
       "      <th>tick_time</th>\n",
       "      <th>hex_msg</th>\n",
       "      <th>beat_time</th>\n",
       "      <th>beat_pos</th>\n",
       "      <th>curr_beat</th>\n",
       "      <th>rel_beat</th>\n",
       "      <th>bar_time</th>\n",
       "      <th>curr_bar</th>\n",
       "      <th>bar_pos</th>\n",
       "      <th>q_beat_p</th>\n",
       "    </tr>\n",
       "  </thead>\n",
       "  <tbody>\n",
       "    <tr>\n",
       "      <th>6</th>\n",
       "      <td>1</td>\n",
       "      <td>note_off</td>\n",
       "      <td>0</td>\n",
       "      <td>64</td>\n",
       "      <td>88.0</td>\n",
       "      <td>48</td>\n",
       "      <td>0</td>\n",
       "      <td>96</td>\n",
       "      <td>80 40 58</td>\n",
       "      <td>1.000000</td>\n",
       "      <td>0.000000</td>\n",
       "      <td>1.0</td>\n",
       "      <td>1.0</td>\n",
       "      <td>0.333333</td>\n",
       "      <td>0.0</td>\n",
       "      <td>0.333333</td>\n",
       "      <td>0.0</td>\n",
       "    </tr>\n",
       "    <tr>\n",
       "      <th>8</th>\n",
       "      <td>1</td>\n",
       "      <td>note_off</td>\n",
       "      <td>0</td>\n",
       "      <td>61</td>\n",
       "      <td>88.0</td>\n",
       "      <td>48</td>\n",
       "      <td>0</td>\n",
       "      <td>144</td>\n",
       "      <td>80 3D 58</td>\n",
       "      <td>1.500000</td>\n",
       "      <td>0.500000</td>\n",
       "      <td>1.0</td>\n",
       "      <td>1.0</td>\n",
       "      <td>0.500000</td>\n",
       "      <td>0.0</td>\n",
       "      <td>0.500000</td>\n",
       "      <td>0.5</td>\n",
       "    </tr>\n",
       "    <tr>\n",
       "      <th>10</th>\n",
       "      <td>1</td>\n",
       "      <td>note_off</td>\n",
       "      <td>0</td>\n",
       "      <td>62</td>\n",
       "      <td>88.0</td>\n",
       "      <td>48</td>\n",
       "      <td>0</td>\n",
       "      <td>192</td>\n",
       "      <td>80 3E 58</td>\n",
       "      <td>2.000000</td>\n",
       "      <td>0.000000</td>\n",
       "      <td>2.0</td>\n",
       "      <td>2.0</td>\n",
       "      <td>0.666667</td>\n",
       "      <td>0.0</td>\n",
       "      <td>0.666667</td>\n",
       "      <td>0.0</td>\n",
       "    </tr>\n",
       "    <tr>\n",
       "      <th>12</th>\n",
       "      <td>1</td>\n",
       "      <td>note_off</td>\n",
       "      <td>0</td>\n",
       "      <td>64</td>\n",
       "      <td>88.0</td>\n",
       "      <td>144</td>\n",
       "      <td>0</td>\n",
       "      <td>336</td>\n",
       "      <td>80 40 58</td>\n",
       "      <td>3.500000</td>\n",
       "      <td>0.500000</td>\n",
       "      <td>3.0</td>\n",
       "      <td>3.0</td>\n",
       "      <td>1.166667</td>\n",
       "      <td>1.0</td>\n",
       "      <td>0.166667</td>\n",
       "      <td>0.5</td>\n",
       "    </tr>\n",
       "    <tr>\n",
       "      <th>14</th>\n",
       "      <td>1</td>\n",
       "      <td>note_off</td>\n",
       "      <td>0</td>\n",
       "      <td>69</td>\n",
       "      <td>88.0</td>\n",
       "      <td>48</td>\n",
       "      <td>0</td>\n",
       "      <td>384</td>\n",
       "      <td>80 45 58</td>\n",
       "      <td>4.000000</td>\n",
       "      <td>0.000000</td>\n",
       "      <td>4.0</td>\n",
       "      <td>1.0</td>\n",
       "      <td>1.333333</td>\n",
       "      <td>1.0</td>\n",
       "      <td>0.333333</td>\n",
       "      <td>0.0</td>\n",
       "    </tr>\n",
       "    <tr>\n",
       "      <th>...</th>\n",
       "      <td>...</td>\n",
       "      <td>...</td>\n",
       "      <td>...</td>\n",
       "      <td>...</td>\n",
       "      <td>...</td>\n",
       "      <td>...</td>\n",
       "      <td>...</td>\n",
       "      <td>...</td>\n",
       "      <td>...</td>\n",
       "      <td>...</td>\n",
       "      <td>...</td>\n",
       "      <td>...</td>\n",
       "      <td>...</td>\n",
       "      <td>...</td>\n",
       "      <td>...</td>\n",
       "      <td>...</td>\n",
       "      <td>...</td>\n",
       "    </tr>\n",
       "    <tr>\n",
       "      <th>138</th>\n",
       "      <td>6</td>\n",
       "      <td>note_off</td>\n",
       "      <td>1</td>\n",
       "      <td>52</td>\n",
       "      <td>82.0</td>\n",
       "      <td>48</td>\n",
       "      <td>0</td>\n",
       "      <td>5376</td>\n",
       "      <td>81 34 52</td>\n",
       "      <td>56.000000</td>\n",
       "      <td>0.000000</td>\n",
       "      <td>56.0</td>\n",
       "      <td>2.0</td>\n",
       "      <td>18.666667</td>\n",
       "      <td>18.0</td>\n",
       "      <td>0.666667</td>\n",
       "      <td>0.0</td>\n",
       "    </tr>\n",
       "    <tr>\n",
       "      <th>141</th>\n",
       "      <td>6</td>\n",
       "      <td>note_off</td>\n",
       "      <td>1</td>\n",
       "      <td>57</td>\n",
       "      <td>82.0</td>\n",
       "      <td>83</td>\n",
       "      <td>0</td>\n",
       "      <td>5472</td>\n",
       "      <td>81 39 52</td>\n",
       "      <td>57.000000</td>\n",
       "      <td>0.000000</td>\n",
       "      <td>57.0</td>\n",
       "      <td>3.0</td>\n",
       "      <td>19.000000</td>\n",
       "      <td>19.0</td>\n",
       "      <td>0.000000</td>\n",
       "      <td>0.0</td>\n",
       "    </tr>\n",
       "    <tr>\n",
       "      <th>143</th>\n",
       "      <td>6</td>\n",
       "      <td>note_off</td>\n",
       "      <td>1</td>\n",
       "      <td>61</td>\n",
       "      <td>82.0</td>\n",
       "      <td>96</td>\n",
       "      <td>0</td>\n",
       "      <td>5568</td>\n",
       "      <td>81 3D 52</td>\n",
       "      <td>58.000000</td>\n",
       "      <td>0.000000</td>\n",
       "      <td>58.0</td>\n",
       "      <td>1.0</td>\n",
       "      <td>19.333333</td>\n",
       "      <td>19.0</td>\n",
       "      <td>0.333333</td>\n",
       "      <td>0.0</td>\n",
       "    </tr>\n",
       "    <tr>\n",
       "      <th>146</th>\n",
       "      <td>6</td>\n",
       "      <td>note_off</td>\n",
       "      <td>1</td>\n",
       "      <td>59</td>\n",
       "      <td>82.0</td>\n",
       "      <td>70</td>\n",
       "      <td>0</td>\n",
       "      <td>5664</td>\n",
       "      <td>81 3B 52</td>\n",
       "      <td>59.000000</td>\n",
       "      <td>0.000000</td>\n",
       "      <td>59.0</td>\n",
       "      <td>2.0</td>\n",
       "      <td>19.666667</td>\n",
       "      <td>19.0</td>\n",
       "      <td>0.666667</td>\n",
       "      <td>0.0</td>\n",
       "    </tr>\n",
       "    <tr>\n",
       "      <th>149</th>\n",
       "      <td>6</td>\n",
       "      <td>note_off</td>\n",
       "      <td>1</td>\n",
       "      <td>57</td>\n",
       "      <td>64.0</td>\n",
       "      <td>57</td>\n",
       "      <td>148</td>\n",
       "      <td>6004</td>\n",
       "      <td>81 39 40</td>\n",
       "      <td>62.541667</td>\n",
       "      <td>0.541667</td>\n",
       "      <td>62.0</td>\n",
       "      <td>2.0</td>\n",
       "      <td>20.847222</td>\n",
       "      <td>20.0</td>\n",
       "      <td>0.847222</td>\n",
       "      <td>0.5</td>\n",
       "    </tr>\n",
       "  </tbody>\n",
       "</table>\n",
       "<p>419 rows × 17 columns</p>\n",
       "</div>"
      ],
      "text/plain": [
       "     track      type  channel  data1  data2  miditime  duration  tick_time  \\\n",
       "6        1  note_off        0     64   88.0        48         0         96   \n",
       "8        1  note_off        0     61   88.0        48         0        144   \n",
       "10       1  note_off        0     62   88.0        48         0        192   \n",
       "12       1  note_off        0     64   88.0       144         0        336   \n",
       "14       1  note_off        0     69   88.0        48         0        384   \n",
       "..     ...       ...      ...    ...    ...       ...       ...        ...   \n",
       "138      6  note_off        1     52   82.0        48         0       5376   \n",
       "141      6  note_off        1     57   82.0        83         0       5472   \n",
       "143      6  note_off        1     61   82.0        96         0       5568   \n",
       "146      6  note_off        1     59   82.0        70         0       5664   \n",
       "149      6  note_off        1     57   64.0        57       148       6004   \n",
       "\n",
       "      hex_msg  beat_time  beat_pos  curr_beat  rel_beat   bar_time  curr_bar  \\\n",
       "6    80 40 58   1.000000  0.000000        1.0       1.0   0.333333       0.0   \n",
       "8    80 3D 58   1.500000  0.500000        1.0       1.0   0.500000       0.0   \n",
       "10   80 3E 58   2.000000  0.000000        2.0       2.0   0.666667       0.0   \n",
       "12   80 40 58   3.500000  0.500000        3.0       3.0   1.166667       1.0   \n",
       "14   80 45 58   4.000000  0.000000        4.0       1.0   1.333333       1.0   \n",
       "..        ...        ...       ...        ...       ...        ...       ...   \n",
       "138  81 34 52  56.000000  0.000000       56.0       2.0  18.666667      18.0   \n",
       "141  81 39 52  57.000000  0.000000       57.0       3.0  19.000000      19.0   \n",
       "143  81 3D 52  58.000000  0.000000       58.0       1.0  19.333333      19.0   \n",
       "146  81 3B 52  59.000000  0.000000       59.0       2.0  19.666667      19.0   \n",
       "149  81 39 40  62.541667  0.541667       62.0       2.0  20.847222      20.0   \n",
       "\n",
       "      bar_pos  q_beat_p  \n",
       "6    0.333333       0.0  \n",
       "8    0.500000       0.5  \n",
       "10   0.666667       0.0  \n",
       "12   0.166667       0.5  \n",
       "14   0.333333       0.0  \n",
       "..        ...       ...  \n",
       "138  0.666667       0.0  \n",
       "141  0.000000       0.0  \n",
       "143  0.333333       0.0  \n",
       "146  0.666667       0.0  \n",
       "149  0.847222       0.5  \n",
       "\n",
       "[419 rows x 17 columns]"
      ]
     },
     "execution_count": 19,
     "metadata": {},
     "output_type": "execute_result"
    }
   ],
   "source": [
    "notes"
   ]
  },
  {
   "cell_type": "code",
   "execution_count": 48,
   "id": "9d945699",
   "metadata": {},
   "outputs": [
    {
     "data": {
      "text/plain": [
       "[<matplotlib.lines.Line2D at 0x7f2606a7c220>]"
      ]
     },
     "execution_count": 48,
     "metadata": {},
     "output_type": "execute_result"
    },
    {
     "data": {
      "image/png": "[encoded data removed]",
      "text/plain": [
       "<Figure size 1440x720 with 1 Axes>"
      ]
     },
     "metadata": {
      "needs_background": "light"
     },
     "output_type": "display_data"
    }
   ],
   "source": [
    "plt.figure(figsize=(20,10))\n",
    "plt.plot(notes.beat_time,notes.data1)"
   ]
  },
  {
   "cell_type": "code",
   "execution_count": 6,
   "id": "6e654f17",
   "metadata": {},
   "outputs": [
    {
     "data": {
      "text/html": [
       "<div>\n",
       "<style scoped>\n",
       "    .dataframe tbody tr th:only-of-type {\n",
       "        vertical-align: middle;\n",
       "    }\n",
       "\n",
       "    .dataframe tbody tr th {\n",
       "        vertical-align: top;\n",
       "    }\n",
       "\n",
       "    .dataframe thead th {\n",
       "        text-align: right;\n",
       "    }\n",
       "</style>\n",
       "<table border=\"1\" class=\"dataframe\">\n",
       "  <thead>\n",
       "    <tr style=\"text-align: right;\">\n",
       "      <th></th>\n",
       "      <th>track</th>\n",
       "      <th>type</th>\n",
       "      <th>channel</th>\n",
       "      <th>data1</th>\n",
       "      <th>data2</th>\n",
       "      <th>duration</th>\n",
       "      <th>tick_time</th>\n",
       "      <th>hex_msg</th>\n",
       "      <th>beat_time</th>\n",
       "      <th>beat_pos</th>\n",
       "      <th>curr_beat</th>\n",
       "      <th>rel_beat</th>\n",
       "      <th>bar_time</th>\n",
       "      <th>curr_bar</th>\n",
       "      <th>bar_pos</th>\n",
       "      <th>q_beat_p</th>\n",
       "    </tr>\n",
       "  </thead>\n",
       "  <tbody>\n",
       "  </tbody>\n",
       "</table>\n",
       "</div>"
      ],
      "text/plain": [
       "Empty DataFrame\n",
       "Columns: [track, type, channel, data1, data2, duration, tick_time, hex_msg, beat_time, beat_pos, curr_beat, rel_beat, bar_time, curr_bar, bar_pos, q_beat_p]\n",
       "Index: []"
      ]
     },
     "execution_count": 6,
     "metadata": {},
     "output_type": "execute_result"
    }
   ],
   "source": [
    "t.df[t.df.track ==9]"
   ]
  },
  {
   "cell_type": "code",
   "execution_count": 7,
   "id": "ed97a70d",
   "metadata": {},
   "outputs": [
    {
     "ename": "NameError",
     "evalue": "name 'f' is not defined",
     "output_type": "error",
     "traceback": [
      "\u001b[0;31m---------------------------------------------------------------------------\u001b[0m",
      "\u001b[0;31mNameError\u001b[0m                                 Traceback (most recent call last)",
      "Input \u001b[0;32mIn [7]\u001b[0m, in \u001b[0;36m<cell line: 1>\u001b[0;34m()\u001b[0m\n\u001b[0;32m----> 1\u001b[0m \u001b[43mf\u001b[49m(t\u001b[38;5;241m.\u001b[39mdf\u001b[38;5;241m.\u001b[39mbeat_position\u001b[38;5;241m.\u001b[39mto_numpy())\n",
      "\u001b[0;31mNameError\u001b[0m: name 'f' is not defined"
     ]
    }
   ],
   "source": [
    "f(t.df.beat_position.to_numpy())"
   ]
  },
  {
   "cell_type": "code",
   "execution_count": null,
   "id": "686c27b5",
   "metadata": {},
   "outputs": [],
   "source": [
    "%timeit f(t.df.beat_position.to_numpy())"
   ]
  },
  {
   "cell_type": "code",
   "execution_count": null,
   "id": "7393e4e8",
   "metadata": {},
   "outputs": [],
   "source": [
    "(t.df.tick_time/480)%1"
   ]
  },
  {
   "cell_type": "code",
   "execution_count": null,
   "id": "082cfde9",
   "metadata": {},
   "outputs": [],
   "source": [
    "t.get(9,'note_on')"
   ]
  },
  {
   "cell_type": "code",
   "execution_count": null,
   "id": "59e1b5f0",
   "metadata": {},
   "outputs": [],
   "source": [
    "a = np.random.rand(12)*15"
   ]
  },
  {
   "cell_type": "code",
   "execution_count": null,
   "id": "2dc60c19",
   "metadata": {},
   "outputs": [],
   "source": [
    "a"
   ]
  },
  {
   "cell_type": "code",
   "execution_count": null,
   "id": "ec20a32d",
   "metadata": {},
   "outputs": [],
   "source": [
    "a%1"
   ]
  },
  {
   "cell_type": "code",
   "execution_count": null,
   "id": "e53ad2ed",
   "metadata": {
    "scrolled": true
   },
   "outputs": [],
   "source": [
    "t.get(1,'note_off')"
   ]
  },
  {
   "cell_type": "code",
   "execution_count": null,
   "id": "791a6370",
   "metadata": {},
   "outputs": [],
   "source": [
    "t.metamessages"
   ]
  },
  {
   "cell_type": "code",
   "execution_count": null,
   "id": "e179bc1e",
   "metadata": {},
   "outputs": [],
   "source": [
    "df = t['notes']"
   ]
  },
  {
   "cell_type": "code",
   "execution_count": null,
   "id": "0ce9c522",
   "metadata": {},
   "outputs": [],
   "source": [
    "df[df['channel']==4]"
   ]
  },
  {
   "cell_type": "code",
   "execution_count": null,
   "id": "f53e4c50",
   "metadata": {},
   "outputs": [],
   "source": [
    "if 1 and 'klj':\n",
    "    print('hai')"
   ]
  },
  {
   "cell_type": "code",
   "execution_count": null,
   "id": "28e3d034",
   "metadata": {},
   "outputs": [],
   "source": []
  }
 ],
 "metadata": {
  "kernelspec": {
   "display_name": "harmonics",
   "language": "python",
   "name": "harmonics"
  },
  "language_info": {
   "codemirror_mode": {
    "name": "ipython",
    "version": 3
   },
   "file_extension": ".py",
   "mimetype": "text/x-python",
   "name": "python",
   "nbconvert_exporter": "python",
   "pygments_lexer": "ipython3",
   "version": "3.10.4"
  }
 },
 "nbformat": 4,
 "nbformat_minor": 5
}
