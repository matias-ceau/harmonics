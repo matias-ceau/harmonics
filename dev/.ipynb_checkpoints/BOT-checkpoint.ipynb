{
 "cells": [
  {
   "cell_type": "code",
   "execution_count": 1,
   "id": "b4b02890",
   "metadata": {},
   "outputs": [],
   "source": [
    "import os\n",
    "import datetime\n",
    "\n",
    "import IPython\n",
    "import IPython.display\n",
    "import matplotlib as mpl\n",
    "import matplotlib.pyplot as plt\n",
    "import numpy as np\n",
    "import pandas as pd\n",
    "import seaborn as sns\n",
    "import tensorflow as tf\n",
    "\n",
    "mpl.rcParams['figure.figsize'] = (8, 6)\n",
    "mpl.rcParams['axes.grid'] = False\n"
   ]
  },
  {
   "cell_type": "markdown",
   "id": "9ff6c1d0",
   "metadata": {},
   "source": [
    "**PARAMETERS**"
   ]
  },
  {
   "cell_type": "code",
   "execution_count": 2,
   "id": "7e2bbff6",
   "metadata": {},
   "outputs": [],
   "source": [
    "MAX_EPOCHS = 20\n",
    "CONV_WIDTH = 3 "
   ]
  },
  {
   "cell_type": "code",
   "execution_count": 44,
   "id": "c78c9e15",
   "metadata": {},
   "outputs": [
    {
     "data": {
      "text/html": [
       "<div>\n",
       "<style scoped>\n",
       "    .dataframe tbody tr th:only-of-type {\n",
       "        vertical-align: middle;\n",
       "    }\n",
       "\n",
       "    .dataframe tbody tr th {\n",
       "        vertical-align: top;\n",
       "    }\n",
       "\n",
       "    .dataframe thead th {\n",
       "        text-align: right;\n",
       "    }\n",
       "</style>\n",
       "<table border=\"1\" class=\"dataframe\">\n",
       "  <thead>\n",
       "    <tr style=\"text-align: right;\">\n",
       "      <th></th>\n",
       "      <th>p (mbar)</th>\n",
       "      <th>T (degC)</th>\n",
       "      <th>Tpot (K)</th>\n",
       "      <th>Tdew (degC)</th>\n",
       "      <th>rh (%)</th>\n",
       "      <th>VPmax (mbar)</th>\n",
       "      <th>VPact (mbar)</th>\n",
       "      <th>VPdef (mbar)</th>\n",
       "      <th>sh (g/kg)</th>\n",
       "      <th>H2OC (mmol/mol)</th>\n",
       "      <th>rho (g/m**3)</th>\n",
       "      <th>wv (m/s)</th>\n",
       "      <th>max. wv (m/s)</th>\n",
       "      <th>wd (deg)</th>\n",
       "    </tr>\n",
       "  </thead>\n",
       "  <tbody>\n",
       "    <tr>\n",
       "      <th>0</th>\n",
       "      <td>996.52</td>\n",
       "      <td>-8.02</td>\n",
       "      <td>265.40</td>\n",
       "      <td>-8.90</td>\n",
       "      <td>93.3</td>\n",
       "      <td>3.33</td>\n",
       "      <td>3.11</td>\n",
       "      <td>0.22</td>\n",
       "      <td>1.94</td>\n",
       "      <td>3.12</td>\n",
       "      <td>1307.75</td>\n",
       "      <td>1.03</td>\n",
       "      <td>1.75</td>\n",
       "      <td>152.3</td>\n",
       "    </tr>\n",
       "    <tr>\n",
       "      <th>1</th>\n",
       "      <td>996.57</td>\n",
       "      <td>-8.41</td>\n",
       "      <td>265.01</td>\n",
       "      <td>-9.28</td>\n",
       "      <td>93.4</td>\n",
       "      <td>3.23</td>\n",
       "      <td>3.02</td>\n",
       "      <td>0.21</td>\n",
       "      <td>1.89</td>\n",
       "      <td>3.03</td>\n",
       "      <td>1309.80</td>\n",
       "      <td>0.72</td>\n",
       "      <td>1.50</td>\n",
       "      <td>136.1</td>\n",
       "    </tr>\n",
       "    <tr>\n",
       "      <th>2</th>\n",
       "      <td>996.53</td>\n",
       "      <td>-8.51</td>\n",
       "      <td>264.91</td>\n",
       "      <td>-9.31</td>\n",
       "      <td>93.9</td>\n",
       "      <td>3.21</td>\n",
       "      <td>3.01</td>\n",
       "      <td>0.20</td>\n",
       "      <td>1.88</td>\n",
       "      <td>3.02</td>\n",
       "      <td>1310.24</td>\n",
       "      <td>0.19</td>\n",
       "      <td>0.63</td>\n",
       "      <td>171.6</td>\n",
       "    </tr>\n",
       "    <tr>\n",
       "      <th>3</th>\n",
       "      <td>996.51</td>\n",
       "      <td>-8.31</td>\n",
       "      <td>265.12</td>\n",
       "      <td>-9.07</td>\n",
       "      <td>94.2</td>\n",
       "      <td>3.26</td>\n",
       "      <td>3.07</td>\n",
       "      <td>0.19</td>\n",
       "      <td>1.92</td>\n",
       "      <td>3.08</td>\n",
       "      <td>1309.19</td>\n",
       "      <td>0.34</td>\n",
       "      <td>0.50</td>\n",
       "      <td>198.0</td>\n",
       "    </tr>\n",
       "    <tr>\n",
       "      <th>4</th>\n",
       "      <td>996.51</td>\n",
       "      <td>-8.27</td>\n",
       "      <td>265.15</td>\n",
       "      <td>-9.04</td>\n",
       "      <td>94.1</td>\n",
       "      <td>3.27</td>\n",
       "      <td>3.08</td>\n",
       "      <td>0.19</td>\n",
       "      <td>1.92</td>\n",
       "      <td>3.09</td>\n",
       "      <td>1309.00</td>\n",
       "      <td>0.32</td>\n",
       "      <td>0.63</td>\n",
       "      <td>214.3</td>\n",
       "    </tr>\n",
       "  </tbody>\n",
       "</table>\n",
       "</div>"
      ],
      "text/plain": [
       "   p (mbar)  T (degC)  Tpot (K)  Tdew (degC)  rh (%)  VPmax (mbar)  \\\n",
       "0    996.52     -8.02    265.40        -8.90    93.3          3.33   \n",
       "1    996.57     -8.41    265.01        -9.28    93.4          3.23   \n",
       "2    996.53     -8.51    264.91        -9.31    93.9          3.21   \n",
       "3    996.51     -8.31    265.12        -9.07    94.2          3.26   \n",
       "4    996.51     -8.27    265.15        -9.04    94.1          3.27   \n",
       "\n",
       "   VPact (mbar)  VPdef (mbar)  sh (g/kg)  H2OC (mmol/mol)  rho (g/m**3)  \\\n",
       "0          3.11          0.22       1.94             3.12       1307.75   \n",
       "1          3.02          0.21       1.89             3.03       1309.80   \n",
       "2          3.01          0.20       1.88             3.02       1310.24   \n",
       "3          3.07          0.19       1.92             3.08       1309.19   \n",
       "4          3.08          0.19       1.92             3.09       1309.00   \n",
       "\n",
       "   wv (m/s)  max. wv (m/s)  wd (deg)  \n",
       "0      1.03           1.75     152.3  \n",
       "1      0.72           1.50     136.1  \n",
       "2      0.19           0.63     171.6  \n",
       "3      0.34           0.50     198.0  \n",
       "4      0.32           0.63     214.3  "
      ]
     },
     "execution_count": 44,
     "metadata": {},
     "output_type": "execute_result"
    }
   ],
   "source": [
    "zip_path = tf.keras.utils.get_file(\n",
    "    origin='https://storage.googleapis.com/tensorflow/tf-keras-datasets/jena_climate_2009_2016.csv.zip',\n",
    "    fname='jena_climate_2009_2016.csv.zip',\n",
    "    extract=True)\n",
    "csv_path, _ = os.path.splitext(zip_path)\n",
    "\n",
    "df = pd.read_csv(csv_path)\n",
    "# Slice [start:stop:step], starting from index 5 take every 6th record.\n",
    "#df = df[5::6]\n",
    "\n",
    "date_time = pd.to_datetime(df.pop('Date Time'), format='%d.%m.%Y %H:%M:%S')\n",
    "\n",
    "df.head()"
   ]
  },
  {
   "cell_type": "code",
   "execution_count": 45,
   "id": "b8a34d84",
   "metadata": {},
   "outputs": [],
   "source": [
    "column_indices = {name: i for i, name in enumerate(df.columns)}\n",
    "\n",
    "n = len(df)\n",
    "train_df = df[0:int(n*0.7)]\n",
    "val_df = df[int(n*0.7):int(n*0.9)]\n",
    "test_df = df[int(n*0.9):]\n",
    "\n",
    "num_features = df.shape[1]\n",
    "\n",
    "train_mean = train_df.mean()\n",
    "train_std = train_df.std()\n",
    "\n",
    "train_df = (train_df - train_mean) / train_std\n",
    "val_df = (val_df - train_mean) / train_std\n",
    "test_df = (test_df - train_mean) / train_std"
   ]
  },
  {
   "cell_type": "markdown",
   "id": "ee8ce0d8",
   "metadata": {},
   "source": [
    "# WINDOW GENERATOR"
   ]
  },
  {
   "cell_type": "code",
   "execution_count": 46,
   "id": "ec483726",
   "metadata": {},
   "outputs": [],
   "source": [
    "class WindowGenerator():\n",
    "    def __init__(self, input_width, label_width, shift,\n",
    "               train_df=train_df, val_df=val_df, test_df=test_df,\n",
    "               label_columns=None):\n",
    "        # Store the raw data.\n",
    "        self.train_df = train_df\n",
    "        self.val_df = val_df\n",
    "        self.test_df = test_df\n",
    "\n",
    "        # Work out the label column indices.\n",
    "        self.label_columns = label_columns\n",
    "        if label_columns is not None:\n",
    "            self.label_columns_indices = {name: i for i, name in\n",
    "                                        enumerate(label_columns)}\n",
    "        self.column_indices = {name: i for i, name in\n",
    "                               enumerate(train_df.columns)}\n",
    "\n",
    "        # Work out the window parameters.\n",
    "        self.input_width = input_width\n",
    "        self.label_width = label_width\n",
    "        self.shift = shift\n",
    "\n",
    "        self.total_window_size = input_width + shift\n",
    "\n",
    "        self.input_slice = slice(0, input_width)\n",
    "        self.input_indices = np.arange(self.total_window_size)[self.input_slice]\n",
    "\n",
    "        self.label_start = self.total_window_size - self.label_width\n",
    "        self.labels_slice = slice(self.label_start, None)\n",
    "        self.label_indices = np.arange(self.total_window_size)[self.labels_slice]\n",
    "\n",
    "    def __repr__(self):\n",
    "        return '\\n'.join([\n",
    "            f'Total window size: {self.total_window_size}',\n",
    "            f'Input indices: {self.input_indices}',\n",
    "            f'Label indices: {self.label_indices}',\n",
    "            f'Label column name(s): {self.label_columns}'])\n",
    "    \n",
    "    @property\n",
    "    def train(self):\n",
    "        return self.make_dataset(self.train_df)\n",
    "\n",
    "    @property\n",
    "    def val(self):\n",
    "        return self.make_dataset(self.val_df)\n",
    "\n",
    "    @property\n",
    "    def test(self):\n",
    "        return self.make_dataset(self.test_df)\n",
    "\n",
    "    @property\n",
    "    def example(self):\n",
    "        \"\"\"Get and cache an example batch of `inputs, labels` for plotting.\"\"\"\n",
    "        result = getattr(self, '_example', None)\n",
    "        if result is None:\n",
    "            # No example batch was found, so get one from the `.train` dataset\n",
    "            result = next(iter(self.train))\n",
    "            # And cache it for next time\n",
    "            self._example = result\n",
    "        return result\n",
    "    \n",
    "    def split_window(self, features):\n",
    "        inputs = features[:, self.input_slice, :]\n",
    "        labels = features[:, self.labels_slice, :]\n",
    "        if self.label_columns is not None:\n",
    "            labels = tf.stack(\n",
    "            [labels[:, :, self.column_indices[name]] for name in self.label_columns],axis=-1)\n",
    "\n",
    "        # Slicing doesn't preserve static shape information, so set the shapes\n",
    "        # manually. This way the `tf.data.Datasets` are easier to inspect.\n",
    "        inputs.set_shape([None, self.input_width, None])\n",
    "        labels.set_shape([None, self.label_width, None])\n",
    "        return inputs, labels\n",
    "    \n",
    "    def make_dataset(self, data):\n",
    "        data = np.array(data, dtype=np.float32)\n",
    "        ds = tf.keras.preprocessing.timeseries_dataset_from_array(data=data, targets=None, sequence_length=self.total_window_size,\n",
    "                                                            sequence_stride=1,\n",
    "                                                            shuffle=True,\n",
    "                                                            batch_size=32,)\n",
    "        ds = ds.map(self.split_window)\n",
    "        return ds\n",
    "    \n",
    "    def plot(self, model=None, plot_col='T (degC)', max_subplots=3, figsize=(12, 8)):\n",
    "        inputs, labels = self.example\n",
    "        plt.figure(figsize=figsize)\n",
    "        plot_col_index = self.column_indices[plot_col]\n",
    "        max_n = min(max_subplots, len(inputs))\n",
    "        for n in range(max_n):\n",
    "            plt.subplot(max_n, 1, n+1)\n",
    "            plt.ylabel(f'{plot_col} [normed]')\n",
    "            plt.plot(self.input_indices, inputs[n, :, plot_col_index],\n",
    "                   label='Inputs', marker='.', zorder=-10)\n",
    "\n",
    "            if self.label_columns:\n",
    "                label_col_index = self.label_columns_indices.get(plot_col, None)\n",
    "            else:\n",
    "                label_col_index = plot_col_index\n",
    "\n",
    "            if label_col_index is None:\n",
    "                continue\n",
    "\n",
    "            plt.scatter(self.label_indices, labels[n, :, label_col_index],\n",
    "                      edgecolors='k', label='Labels', c='#2ca02c', s=64)\n",
    "            if model is not None:\n",
    "                predictions = model(inputs)\n",
    "                plt.scatter(self.label_indices, predictions[n, :, label_col_index],\n",
    "                            marker='X', edgecolors='k', label='Predictions',\n",
    "                            c='#ff7f0e', s=64)\n",
    "\n",
    "            if n == 0:\n",
    "                plt.legend()\n",
    "\n",
    "        plt.xlabel('Time [h]')"
   ]
  },
  {
   "cell_type": "markdown",
   "id": "dd914bd4",
   "metadata": {},
   "source": [
    "# COMPILE"
   ]
  },
  {
   "cell_type": "code",
   "execution_count": 47,
   "id": "8a4f5b93",
   "metadata": {},
   "outputs": [],
   "source": [
    "def compile_and_fit(model, window, patience=2):\n",
    "    early_stopping = tf.keras.callbacks.EarlyStopping(monitor='val_loss',\n",
    "                                                    patience=patience,\n",
    "                                                    mode='min')\n",
    "\n",
    "    model.compile(loss=tf.losses.MeanSquaredError(),\n",
    "                optimizer=tf.optimizers.Adam(),\n",
    "                metrics=[tf.metrics.MeanAbsoluteError()])\n",
    "\n",
    "    history = model.fit(window.train, epochs=MAX_EPOCHS,\n",
    "                      validation_data=window.val,\n",
    "                      callbacks=[early_stopping])\n",
    "    return history"
   ]
  },
  {
   "cell_type": "code",
   "execution_count": 48,
   "id": "f04f8f59",
   "metadata": {},
   "outputs": [],
   "source": [
    "conv_window = WindowGenerator(\n",
    "    input_width=CONV_WIDTH,\n",
    "    label_width=1,\n",
    "    shift=1,\n",
    "    label_columns=['T (degC)'])"
   ]
  },
  {
   "cell_type": "code",
   "execution_count": 49,
   "id": "a7bea2b7",
   "metadata": {},
   "outputs": [
    {
     "name": "stdout",
     "output_type": "stream",
     "text": [
      "Conv model on `conv_window`\n",
      "Input shape: (32, 3, 14)\n",
      "Output shape: (32, 1, 1)\n"
     ]
    }
   ],
   "source": [
    "conv_model = tf.keras.Sequential([\n",
    "    tf.keras.layers.Conv1D(filters=32,\n",
    "                           kernel_size=(CONV_WIDTH,),\n",
    "                           activation='relu'),\n",
    "    tf.keras.layers.Dense(units=32, activation='relu'),\n",
    "    tf.keras.layers.Dense(units=1),\n",
    "\n",
    "])\n",
    "\n",
    "print(\"Conv model on `conv_window`\")\n",
    "print('Input shape:', conv_window.example[0].shape)\n",
    "print('Output shape:', conv_model(conv_window.example[0]).shape)"
   ]
  },
  {
   "cell_type": "code",
   "execution_count": 50,
   "id": "c908ffc5",
   "metadata": {},
   "outputs": [
    {
     "name": "stdout",
     "output_type": "stream",
     "text": [
      "2629/2629 [==============================] - 5s 2ms/step - loss: 4.7560 - mean_absolute_error: 0.0501\n"
     ]
    }
   ],
   "source": [
    "history = compile_and_fit(conv_model, conv_window)\n",
    "\n",
    "IPython.display.clear_output()\n",
    "val_performance = {}\n",
    "performance = {}\n",
    "val_performance['Conv'] = conv_model.evaluate(conv_window.val)\n",
    "performance['Conv'] = conv_model.evaluate(conv_window.test, verbose=0)"
   ]
  },
  {
   "cell_type": "code",
   "execution_count": 51,
   "id": "1c09fe03",
   "metadata": {
    "scrolled": true
   },
   "outputs": [
    {
     "name": "stdout",
     "output_type": "stream",
     "text": [
      "Model: \"sequential_6\"\n",
      "_________________________________________________________________\n",
      " Layer (type)                Output Shape              Param #   \n",
      "=================================================================\n",
      " conv1d_1 (Conv1D)           (None, 1, 32)             1376      \n",
      "                                                                 \n",
      " dense_7 (Dense)             (None, 1, 32)             1056      \n",
      "                                                                 \n",
      " dense_8 (Dense)             (None, 1, 1)              33        \n",
      "                                                                 \n",
      "=================================================================\n",
      "Total params: 2,465\n",
      "Trainable params: 2,465\n",
      "Non-trainable params: 0\n",
      "_________________________________________________________________\n"
     ]
    }
   ],
   "source": [
    "conv_model.summary()"
   ]
  },
  {
   "cell_type": "code",
   "execution_count": 52,
   "id": "161dc662",
   "metadata": {},
   "outputs": [
    {
     "data": {
      "text/plain": [
       "Total window size: 27\n",
       "Input indices: [ 0  1  2  3  4  5  6  7  8  9 10 11 12 13 14 15 16 17 18 19 20 21 22 23\n",
       " 24 25]\n",
       "Label indices: [ 3  4  5  6  7  8  9 10 11 12 13 14 15 16 17 18 19 20 21 22 23 24 25 26]\n",
       "Label column name(s): ['T (degC)']"
      ]
     },
     "execution_count": 52,
     "metadata": {},
     "output_type": "execute_result"
    }
   ],
   "source": [
    "LABEL_WIDTH = 24\n",
    "INPUT_WIDTH = LABEL_WIDTH + (CONV_WIDTH - 1)\n",
    "\n",
    "wide_conv_window = WindowGenerator(\n",
    "    input_width=INPUT_WIDTH,\n",
    "    label_width=LABEL_WIDTH,\n",
    "    shift=1,\n",
    "    label_columns=['T (degC)'])\n",
    "\n",
    "wide_conv_window"
   ]
  },
  {
   "cell_type": "code",
   "execution_count": 53,
   "id": "f55c704a",
   "metadata": {},
   "outputs": [
    {
     "name": "stdout",
     "output_type": "stream",
     "text": [
      "Wide conv window\n",
      "Input shape: (32, 26, 14)\n",
      "Labels shape: (32, 24, 1)\n",
      "Output shape: (32, 24, 1)\n"
     ]
    }
   ],
   "source": [
    "print(\"Wide conv window\")\n",
    "print('Input shape:', wide_conv_window.example[0].shape)\n",
    "print('Labels shape:', wide_conv_window.example[1].shape)\n",
    "print('Output shape:', conv_model(wide_conv_window.example[0]).shape)"
   ]
  },
  {
   "cell_type": "code",
   "execution_count": 54,
   "id": "34f0262b",
   "metadata": {},
   "outputs": [
    {
     "data": {
      "image/png": "[encoded data removed]",
      "text/plain": [
       "<Figure size 864x288 with 1 Axes>"
      ]
     },
     "metadata": {
      "needs_background": "light"
     },
     "output_type": "display_data"
    }
   ],
   "source": [
    "wide_conv_window.plot(conv_model,max_subplots=1,figsize=(12,4))"
   ]
  },
  {
   "cell_type": "code",
   "execution_count": 55,
   "id": "393ba4e1",
   "metadata": {},
   "outputs": [
    {
     "data": {
      "text/plain": [
       "{'Conv': [4.755964756011963, 0.050082165747880936]}"
      ]
     },
     "execution_count": 55,
     "metadata": {},
     "output_type": "execute_result"
    }
   ],
   "source": [
    "val_performance"
   ]
  },
  {
   "cell_type": "code",
   "execution_count": 56,
   "id": "05739d45",
   "metadata": {},
   "outputs": [
    {
     "data": {
      "text/plain": [
       "{'Conv': [0.0007041989592835307, 0.01803181879222393]}"
      ]
     },
     "execution_count": 56,
     "metadata": {},
     "output_type": "execute_result"
    }
   ],
   "source": [
    "performance"
   ]
  },
  {
   "cell_type": "code",
   "execution_count": 66,
   "id": "66122216",
   "metadata": {},
   "outputs": [
    {
     "name": "stdout",
     "output_type": "stream",
     "text": [
      "Model: \"sequential_7\"\n",
      "_________________________________________________________________\n",
      " Layer (type)                Output Shape              Param #   \n",
      "=================================================================\n",
      " lstm_5 (LSTM)               (None, 24, 32)            6016      \n",
      "                                                                 \n",
      " dense_9 (Dense)             (None, 24, 1)             33        \n",
      "                                                                 \n",
      "=================================================================\n",
      "Total params: 6,049\n",
      "Trainable params: 6,049\n",
      "Non-trainable params: 0\n",
      "_________________________________________________________________\n"
     ]
    }
   ],
   "source": [
    "lstm_model.summary()"
   ]
  },
  {
   "cell_type": "code",
   "execution_count": 57,
   "id": "271789fd",
   "metadata": {},
   "outputs": [
    {
     "name": "stdout",
     "output_type": "stream",
     "text": [
      "2628/2628 [==============================] - 6s 2ms/step - loss: 0.0017 - mean_absolute_error: 0.0154\n"
     ]
    }
   ],
   "source": [
    "wide_window = WindowGenerator(\n",
    "    input_width=24, label_width=24, shift=1,\n",
    "    label_columns=['T (degC)'])\n",
    "\n",
    "\n",
    "lstm_model = tf.keras.models.Sequential([\n",
    "    # Shape [batch, time, features] => [batch, time, lstm_units]\n",
    "    tf.keras.layers.LSTM(32, return_sequences=True), #normalemenet 32\n",
    "    # Shape => [batch, time, features]\n",
    "    tf.keras.layers.Dense(units=1)\n",
    "])\n",
    "\n",
    "\n",
    "print('Input shape:', wide_window.example[0].shape)\n",
    "print('Output shape:', lstm_model(wide_window.example[0]).shape)\n",
    "\n",
    "history = compile_and_fit(lstm_model, wide_window)\n",
    "\n",
    "IPython.display.clear_output()\n",
    "val_performance['LSTM'] = lstm_model.evaluate(wide_window.val)\n",
    "performance['LSTM'] = lstm_model.evaluate(wide_window.test, verbose=0)"
   ]
  },
  {
   "cell_type": "code",
   "execution_count": 78,
   "id": "9fb22555",
   "metadata": {},
   "outputs": [],
   "source": [
    "def build_model():\n",
    "    # Define model layers.\n",
    "    input_layer = tf.keras.layers.Input(shape=(24, 14))\n",
    "    \n",
    "    first_lstm = tf.keras.layers.LSTM(32, return_sequences=True)(input_layer)\n",
    "    # Y1 output will be fed from the first dense\n",
    "    y1_output = tf.keras.layers.Dense(units='1', name='VPact')(first_lstm)\n",
    "    \n",
    "    second_lstm = tf.keras.layers.LSTM(32, return_sequences=True)(first_lstm)\n",
    "    # Y2 output will be fed from the second dense\n",
    "    y2_output = tf.keras.layers.Dense(units='1',name='Tdegc')(second_lstm)    # Define the model with the input layer \n",
    "    # and a list of output layers\n",
    "    model = tf.keras.Model(inputs=input_layer,outputs=[y1_output, y2_output])\n",
    "    return model"
   ]
  },
  {
   "cell_type": "code",
   "execution_count": 83,
   "id": "b38d210c",
   "metadata": {},
   "outputs": [
    {
     "data": {
      "text/plain": [
       "{'_self_setattr_tracking': True,\n",
       " '_is_model_for_instrumentation': True,\n",
       " '_instrumented_keras_api': True,\n",
       " '_instrumented_keras_layer_class': False,\n",
       " '_instrumented_keras_model_class': True,\n",
       " '_trainable': True,\n",
       " '_stateful': False,\n",
       " 'built': True,\n",
       " '_input_spec': None,\n",
       " '_build_input_shape': TensorShape([None, 24, 14]),\n",
       " '_saved_model_inputs_spec': TensorSpec(shape=(32, 24, 14), dtype=tf.float32, name='lstm_5_input'),\n",
       " '_saved_model_arg_spec': ([TensorSpec(shape=(32, 24, 14), dtype=tf.float32, name='lstm_5_input')],\n",
       "  {}),\n",
       " '_supports_masking': True,\n",
       " '_name': 'sequential_7',\n",
       " '_activity_regularizer': None,\n",
       " '_trainable_weights': [],\n",
       " '_non_trainable_weights': [],\n",
       " '_updates': [],\n",
       " '_thread_local': <_thread._local at 0x7f4cefcb79c0>,\n",
       " '_callable_losses': [],\n",
       " '_losses': [],\n",
       " '_metrics': [],\n",
       " '_metrics_lock': <unlocked _thread.lock object at 0x7f4cefbc1c40>,\n",
       " '_dtype_policy': <Policy \"float32\">,\n",
       " '_compute_dtype_object': tf.float32,\n",
       " '_autocast': False,\n",
       " '_self_tracked_trackables': [<keras.engine.input_layer.InputLayer at 0x7f4d112e5450>,\n",
       "  <keras.layers.recurrent_v2.LSTM at 0x7f4d11204490>,\n",
       "  <keras.layers.core.dense.Dense at 0x7f4d11207430>],\n",
       " '_inbound_nodes_value': [],\n",
       " '_outbound_nodes_value': [],\n",
       " '_expects_training_arg': True,\n",
       " '_default_training_arg': None,\n",
       " '_expects_mask_arg': True,\n",
       " '_dynamic': False,\n",
       " '_initial_weights': None,\n",
       " '_auto_track_sub_layers': False,\n",
       " '_preserve_input_structure_in_config': False,\n",
       " '_outer_name_scope': '',\n",
       " '_is_graph_network': True,\n",
       " 'inputs': [<KerasTensor: shape=(None, 24, 14) dtype=float32 (created by layer 'lstm_5_input')>],\n",
       " 'outputs': [<KerasTensor: shape=(None, 24, 1) dtype=float32 (created by layer 'dense_9')>],\n",
       " 'input_names': ['lstm_5_input'],\n",
       " 'output_names': ['dense_9'],\n",
       " '_compute_output_and_mask_jointly': True,\n",
       " '_distribution_strategy': None,\n",
       " '_cluster_coordinator': None,\n",
       " 'predict_function': None,\n",
       " '_compiled_trainable_state': <WeakKeyDictionary at 0x7f4cefbaead0>,\n",
       " '_training_state': None,\n",
       " '_trackable_saver': <tensorflow.python.training.tracking.util.TrackableSaver at 0x7f4d11205300>,\n",
       " '_steps_per_execution': <tf.Variable 'Variable:0' shape=() dtype=int64, numpy=1>,\n",
       " '_train_counter': <tf.Variable 'Variable:0' shape=() dtype=int64, numpy=4845>,\n",
       " '_test_counter': <tf.Variable 'Variable:0' shape=() dtype=int64, numpy=1314>,\n",
       " '_predict_counter': <tf.Variable 'Variable:0' shape=() dtype=int64, numpy=0>,\n",
       " '_base_model_initialized': True,\n",
       " '_inferred_input_shape': (None, 24, 14),\n",
       " '_has_explicit_input_shape': False,\n",
       " '_input_dtype': None,\n",
       " '_layer_call_argspecs': {<keras.engine.input_layer.InputLayer at 0x7f4d112e5450>: FullArgSpec(args=['self', 'inputs'], varargs='args', varkw='kwargs', defaults=None, kwonlyargs=[], kwonlydefaults=None, annotations={}),\n",
       "  <keras.layers.recurrent_v2.LSTM at 0x7f4d11204490>: FullArgSpec(args=['self', 'inputs', 'mask', 'training', 'initial_state'], varargs=None, varkw=None, defaults=(None, None, None), kwonlyargs=[], kwonlydefaults=None, annotations={}),\n",
       "  <keras.layers.core.dense.Dense at 0x7f4d11207430>: FullArgSpec(args=['self', 'inputs'], varargs=None, varkw=None, defaults=None, kwonlyargs=[], kwonlydefaults=None, annotations={})},\n",
       " '_created_nodes': {<keras.engine.node.Node at 0x7f4d11206c80>,\n",
       "  <keras.engine.node.Node at 0x7f4d112a29e0>},\n",
       " '_graph_initialized': True,\n",
       " '_use_legacy_deferred_behavior': False,\n",
       " '_self_unconditional_checkpoint_dependencies': [TrackableReference(name=optimizer, ref=<keras.optimizer_v2.adam.Adam object at 0x7f4ced934700>),\n",
       "  TrackableReference(name=train_tf_function, ref=<tensorflow.python.eager.def_function.Function object at 0x7f4cedaf0b20>),\n",
       "  TrackableReference(name=train_function, ref=<tensorflow.python.eager.def_function.Function object at 0x7f4cedaf0b20>),\n",
       "  TrackableReference(name=test_function, ref=<tensorflow.python.eager.def_function.Function object at 0x7f4d8fff9ab0>)],\n",
       " '_self_unconditional_dependency_names': {'optimizer': <keras.optimizer_v2.adam.Adam at 0x7f4ced934700>,\n",
       "  'train_tf_function': <tensorflow.python.eager.def_function.Function at 0x7f4cedaf0b20>,\n",
       "  'train_function': <tensorflow.python.eager.def_function.Function at 0x7f4cedaf0b20>,\n",
       "  'test_function': <tensorflow.python.eager.def_function.Function at 0x7f4d8fff9ab0>},\n",
       " '_self_unconditional_deferred_dependencies': {},\n",
       " '_self_update_uid': -1,\n",
       " '_self_name_based_restores': set(),\n",
       " '_self_saveable_object_factories': {},\n",
       " '_nested_inputs': <KerasTensor: shape=(None, 24, 14) dtype=float32 (created by layer 'lstm_5_input')>,\n",
       " '_nested_outputs': <KerasTensor: shape=(None, 24, 1) dtype=float32 (created by layer 'dense_9')>,\n",
       " '_enable_dict_to_input_mapping': True,\n",
       " '_input_layers': [<keras.engine.input_layer.InputLayer at 0x7f4d112e5450>],\n",
       " '_output_layers': [<keras.layers.core.dense.Dense at 0x7f4d11207430>],\n",
       " '_input_coordinates': [(<keras.engine.input_layer.InputLayer at 0x7f4d112e5450>,\n",
       "   0,\n",
       "   0)],\n",
       " '_output_coordinates': [(<keras.layers.core.dense.Dense at 0x7f4d11207430>,\n",
       "   0,\n",
       "   0)],\n",
       " '_output_mask_cache': {},\n",
       " '_output_tensor_cache': {},\n",
       " '_output_shape_cache': {},\n",
       " '_network_nodes': {'dense_9_ib-0', 'lstm_5_ib-0', 'lstm_5_input_ib-0'},\n",
       " '_nodes_by_depth': defaultdict(list,\n",
       "             {0: [<keras.engine.node.Node at 0x7f4d11206c80>],\n",
       "              1: [<keras.engine.node.Node at 0x7f4d112a29e0>],\n",
       "              2: [<keras.engine.node.Node at 0x7f4d10c71f60>]}),\n",
       " '_feed_input_names': ['lstm_5_input'],\n",
       " '_feed_inputs': [<KerasTensor: shape=(None, 24, 14) dtype=float32 (created by layer 'lstm_5_input')>],\n",
       " '_feed_input_shapes': [(None, 24, 14)],\n",
       " '_tensor_usage_count': Counter({'139968970692528': 1,\n",
       "          '139968976538832': 1,\n",
       "          '139968968181072': 1}),\n",
       " '_obj_reference_counts_dict': ObjectIdentityDictionary({<_ObjectIdentityWrapper wrapping True>: 1, <_ObjectIdentityWrapper wrapping <tensorflow.python.eager.def_function.Function object at 0x7f4d112615d0>>: 2, <_ObjectIdentityWrapper wrapping <tensorflow.python.eager.def_function.Function object at 0x7f4d8fff9ab0>>: 1, <_ObjectIdentityWrapper wrapping <keras.optimizer_v2.adam.Adam object at 0x7f4ced934700>>: 1, <_ObjectIdentityWrapper wrapping <keras.engine.compile_utils.LossesContainer object at 0x7f4d10b3f4f0>>: 1, <_ObjectIdentityWrapper wrapping <keras.engine.compile_utils.MetricsContainer object at 0x7f4d905d3370>>: 1, <_ObjectIdentityWrapper wrapping <keras.losses.MeanSquaredError object at 0x7f4ced935030>>: 1, <_ObjectIdentityWrapper wrapping <keras.callbacks.History object at 0x7f4cedaf0f40>>: 1, <_ObjectIdentityWrapper wrapping False>: 1, <_ObjectIdentityWrapper wrapping <tensorflow.python.eager.def_function.Function object at 0x7f4cedaf0b20>>: 2}),\n",
       " 'test_function': None,\n",
       " '_run_eagerly': None,\n",
       " 'optimizer': <keras.optimizer_v2.adam.Adam at 0x7f4ced934700>,\n",
       " 'compiled_loss': <keras.engine.compile_utils.LossesContainer at 0x7f4d10b3f4f0>,\n",
       " 'compiled_metrics': <keras.engine.compile_utils.MetricsContainer at 0x7f4d905d3370>,\n",
       " '_is_compiled': True,\n",
       " 'loss': <keras.losses.MeanSquaredError at 0x7f4ced935030>,\n",
       " '_jit_compile': None,\n",
       " 'history': <keras.callbacks.History at 0x7f4cedaf0f40>,\n",
       " 'stop_training': False,\n",
       " 'train_tf_function': <tensorflow.python.eager.def_function.Function at 0x7f4cedaf0b20>,\n",
       " 'train_function': <tensorflow.python.eager.def_function.Function at 0x7f4cedaf0b20>}"
      ]
     },
     "execution_count": 83,
     "metadata": {},
     "output_type": "execute_result"
    }
   ],
   "source": [
    "lstm_model.__dict__"
   ]
  },
  {
   "cell_type": "code",
   "execution_count": 81,
   "id": "1aa950d0",
   "metadata": {},
   "outputs": [
    {
     "data": {
      "text/plain": [
       "{'_self_setattr_tracking': True,\n",
       " '_is_model_for_instrumentation': True,\n",
       " '_instrumented_keras_api': True,\n",
       " '_instrumented_keras_layer_class': False,\n",
       " '_instrumented_keras_model_class': True,\n",
       " '_trainable': True,\n",
       " '_stateful': False,\n",
       " 'built': True,\n",
       " '_input_spec': None,\n",
       " '_build_input_shape': TensorShape([None, 24, 14]),\n",
       " '_saved_model_inputs_spec': TensorSpec(shape=(None, 24, 14), dtype=tf.float32, name='input_6'),\n",
       " '_saved_model_arg_spec': ([TensorSpec(shape=(None, 24, 14), dtype=tf.float32, name='input_6')],\n",
       "  {}),\n",
       " '_supports_masking': True,\n",
       " '_name': 'model_2',\n",
       " '_activity_regularizer': None,\n",
       " '_trainable_weights': [],\n",
       " '_non_trainable_weights': [],\n",
       " '_updates': [],\n",
       " '_thread_local': <_thread._local at 0x7f4ba828f8d0>,\n",
       " '_callable_losses': [],\n",
       " '_losses': [],\n",
       " '_metrics': [],\n",
       " '_metrics_lock': <unlocked _thread.lock object at 0x7f4ceda8e140>,\n",
       " '_dtype_policy': <Policy \"float32\">,\n",
       " '_compute_dtype_object': tf.float32,\n",
       " '_autocast': False,\n",
       " '_self_tracked_trackables': [<keras.engine.input_layer.InputLayer at 0x7f4cede89d50>,\n",
       "  <keras.layers.recurrent_v2.LSTM at 0x7f4ba839fca0>,\n",
       "  <keras.layers.recurrent_v2.LSTM at 0x7f4ba83cb160>,\n",
       "  <keras.layers.core.dense.Dense at 0x7f4ba8359d80>,\n",
       "  <keras.layers.core.dense.Dense at 0x7f4ba824c6a0>],\n",
       " '_inbound_nodes_value': [],\n",
       " '_outbound_nodes_value': [],\n",
       " '_expects_training_arg': True,\n",
       " '_default_training_arg': None,\n",
       " '_expects_mask_arg': True,\n",
       " '_dynamic': False,\n",
       " '_initial_weights': None,\n",
       " '_auto_track_sub_layers': True,\n",
       " '_preserve_input_structure_in_config': False,\n",
       " '_outer_name_scope': '',\n",
       " '_is_graph_network': True,\n",
       " 'inputs': [<KerasTensor: shape=(None, 24, 14) dtype=float32 (created by layer 'input_6')>],\n",
       " 'outputs': [<KerasTensor: shape=(None, 24, 1) dtype=float32 (created by layer 'VPact')>,\n",
       "  <KerasTensor: shape=(None, 24, 1) dtype=float32 (created by layer 'Tdegc')>],\n",
       " 'input_names': ['input_6'],\n",
       " 'output_names': ['VPact', 'Tdegc'],\n",
       " 'stop_training': False,\n",
       " 'history': None,\n",
       " 'compiled_loss': None,\n",
       " 'compiled_metrics': None,\n",
       " '_compute_output_and_mask_jointly': True,\n",
       " '_is_compiled': False,\n",
       " 'optimizer': None,\n",
       " '_distribution_strategy': None,\n",
       " '_cluster_coordinator': None,\n",
       " '_run_eagerly': None,\n",
       " 'train_function': None,\n",
       " 'test_function': None,\n",
       " 'predict_function': None,\n",
       " 'train_tf_function': None,\n",
       " '_compiled_trainable_state': <WeakKeyDictionary at 0x7f4ba82b4d30>,\n",
       " '_training_state': None,\n",
       " '_trackable_saver': <tensorflow.python.training.tracking.util.TrackableSaver at 0x7f4ba82b4e80>,\n",
       " '_steps_per_execution': None,\n",
       " '_train_counter': <tf.Variable 'Variable:0' shape=() dtype=int64, numpy=0>,\n",
       " '_test_counter': <tf.Variable 'Variable:0' shape=() dtype=int64, numpy=0>,\n",
       " '_predict_counter': <tf.Variable 'Variable:0' shape=() dtype=int64, numpy=0>,\n",
       " '_base_model_initialized': True,\n",
       " '_nested_inputs': <KerasTensor: shape=(None, 24, 14) dtype=float32 (created by layer 'input_6')>,\n",
       " '_nested_outputs': [<KerasTensor: shape=(None, 24, 1) dtype=float32 (created by layer 'VPact')>,\n",
       "  <KerasTensor: shape=(None, 24, 1) dtype=float32 (created by layer 'Tdegc')>],\n",
       " '_enable_dict_to_input_mapping': True,\n",
       " '_input_layers': [<keras.engine.input_layer.InputLayer at 0x7f4cede89d50>],\n",
       " '_output_layers': [<keras.layers.core.dense.Dense at 0x7f4ba8359d80>,\n",
       "  <keras.layers.core.dense.Dense at 0x7f4ba824c6a0>],\n",
       " '_input_coordinates': [(<keras.engine.input_layer.InputLayer at 0x7f4cede89d50>,\n",
       "   0,\n",
       "   0)],\n",
       " '_output_coordinates': [(<keras.layers.core.dense.Dense at 0x7f4ba8359d80>,\n",
       "   0,\n",
       "   0),\n",
       "  (<keras.layers.core.dense.Dense at 0x7f4ba824c6a0>, 0, 0)],\n",
       " '_output_mask_cache': {},\n",
       " '_output_tensor_cache': {},\n",
       " '_output_shape_cache': {},\n",
       " '_network_nodes': {'Tdegc_ib-0',\n",
       "  'VPact_ib-0',\n",
       "  'input_6_ib-0',\n",
       "  'lstm_15_ib-0',\n",
       "  'lstm_16_ib-0'},\n",
       " '_nodes_by_depth': defaultdict(list,\n",
       "             {0: [<keras.engine.node.Node at 0x7f4cede890c0>,\n",
       "               <keras.engine.node.Node at 0x7f4ba8343fa0>],\n",
       "              1: [<keras.engine.node.Node at 0x7f4ba8343f40>],\n",
       "              2: [<keras.engine.node.Node at 0x7f4ba83c9c60>],\n",
       "              3: [<keras.engine.node.Node at 0x7f4ba839fd30>]}),\n",
       " '_layer_call_argspecs': {<keras.engine.input_layer.InputLayer at 0x7f4cede89d50>: FullArgSpec(args=['self', 'inputs'], varargs='args', varkw='kwargs', defaults=None, kwonlyargs=[], kwonlydefaults=None, annotations={}),\n",
       "  <keras.layers.recurrent_v2.LSTM at 0x7f4ba839fca0>: FullArgSpec(args=['self', 'inputs', 'mask', 'training', 'initial_state'], varargs=None, varkw=None, defaults=(None, None, None), kwonlyargs=[], kwonlydefaults=None, annotations={}),\n",
       "  <keras.layers.recurrent_v2.LSTM at 0x7f4ba83cb160>: FullArgSpec(args=['self', 'inputs', 'mask', 'training', 'initial_state'], varargs=None, varkw=None, defaults=(None, None, None), kwonlyargs=[], kwonlydefaults=None, annotations={}),\n",
       "  <keras.layers.core.dense.Dense at 0x7f4ba8359d80>: FullArgSpec(args=['self', 'inputs'], varargs=None, varkw=None, defaults=None, kwonlyargs=[], kwonlydefaults=None, annotations={}),\n",
       "  <keras.layers.core.dense.Dense at 0x7f4ba824c6a0>: FullArgSpec(args=['self', 'inputs'], varargs=None, varkw=None, defaults=None, kwonlyargs=[], kwonlydefaults=None, annotations={})},\n",
       " '_feed_input_names': ['input_6'],\n",
       " '_feed_inputs': [<KerasTensor: shape=(None, 24, 14) dtype=float32 (created by layer 'input_6')>],\n",
       " '_feed_input_shapes': [(None, 24, 14)],\n",
       " '_tensor_usage_count': Counter({'139962921642896': 1,\n",
       "          '139962921333616': 2,\n",
       "          '139962920683840': 1,\n",
       "          '139962920256704': 1,\n",
       "          '139962920598880': 1})}"
      ]
     },
     "execution_count": 81,
     "metadata": {},
     "output_type": "execute_result"
    }
   ],
   "source": [
    "lstm_model2.__dict__"
   ]
  },
  {
   "cell_type": "code",
   "execution_count": 84,
   "id": "b4874ed5",
   "metadata": {},
   "outputs": [
    {
     "name": "stdout",
     "output_type": "stream",
     "text": [
      "2628/2628 [==============================] - 8s 3ms/step - loss: 0.0016 - VPact_loss: 8.2289e-04 - Tdegc_loss: 7.8719e-04 - VPact_mean_absolute_error: 0.0147 - Tdegc_mean_absolute_error: 0.0146\n"
     ]
    }
   ],
   "source": [
    "wide_window = WindowGenerator(\n",
    "    input_width=24, label_width=24, shift=1,\n",
    "    label_columns=['T (degC)'])\n",
    "\n",
    "\n",
    "lstm_model2 = build_model()\n",
    "\n",
    "print('Input shape:', wide_window.example[0].shape)\n",
    "print('Output shape:', lstm_model2(wide_window.example[0])[0].shape)\n",
    "\n",
    "history = compile_and_fit(lstm_model2, wide_window)\n",
    "\n",
    "IPython.display.clear_output()\n",
    "val_performance['LSTM2'] = lstm_model2.evaluate(wide_window.val)\n",
    "performance['LSTM2'] = lstm_model2.evaluate(wide_window.test, verbose=0)"
   ]
  },
  {
   "cell_type": "code",
   "execution_count": 87,
   "id": "f4b4d274",
   "metadata": {},
   "outputs": [
    {
     "name": "stdout",
     "output_type": "stream",
     "text": [
      "Model: \"model_3\"\n",
      "__________________________________________________________________________________________________\n",
      " Layer (type)                   Output Shape         Param #     Connected to                     \n",
      "==================================================================================================\n",
      " input_7 (InputLayer)           [(None, 24, 14)]     0           []                               \n",
      "                                                                                                  \n",
      " lstm_17 (LSTM)                 (None, 24, 32)       6016        ['input_7[0][0]']                \n",
      "                                                                                                  \n",
      " lstm_18 (LSTM)                 (None, 24, 32)       8320        ['lstm_17[0][0]']                \n",
      "                                                                                                  \n",
      " VPact (Dense)                  (None, 24, 1)        33          ['lstm_17[0][0]']                \n",
      "                                                                                                  \n",
      " Tdegc (Dense)                  (None, 24, 1)        33          ['lstm_18[0][0]']                \n",
      "                                                                                                  \n",
      "==================================================================================================\n",
      "Total params: 14,402\n",
      "Trainable params: 14,402\n",
      "Non-trainable params: 0\n",
      "__________________________________________________________________________________________________\n"
     ]
    }
   ],
   "source": [
    "lstm_model2.summary()"
   ]
  },
  {
   "cell_type": "code",
   "execution_count": 85,
   "id": "f9a761d8",
   "metadata": {},
   "outputs": [
    {
     "data": {
      "image/png": "[encoded data removed]",
      "text/plain": [
       "<Figure size 576x432 with 1 Axes>"
      ]
     },
     "metadata": {
      "needs_background": "light"
     },
     "output_type": "display_data"
    }
   ],
   "source": [
    "x = np.arange(len(performance))\n",
    "width = 0.3\n",
    "metric_name = 'mean_absolute_error'\n",
    "metric_index = lstm_model.metrics_names.index('mean_absolute_error')\n",
    "val_mae = [v[metric_index] for v in val_performance.values()]\n",
    "test_mae = [v[metric_index] for v in performance.values()]\n",
    "\n",
    "plt.ylabel('mean_absolute_error [T (degC), normalized]')\n",
    "plt.bar(x - 0.17, val_mae, width, label='Validation')\n",
    "plt.bar(x + 0.17, test_mae, width, label='Test')\n",
    "plt.xticks(ticks=x, labels=performance.keys(),\n",
    "           rotation=45)\n",
    "_ = plt.legend()\n"
   ]
  },
  {
   "cell_type": "markdown",
   "id": "1634ca34",
   "metadata": {},
   "source": [
    "# serialize model to JSON\n",
    "model_json = model.to_json()\n",
    "with open(\"model.json\", \"w\") as json_file:\n",
    "    json_file.write(model_json)\n",
    "# serialize weights to HDF5\n",
    "model.save_weights(\"model.h5\")\n",
    "print(\"Saved model to disk\")\n",
    " \n",
    "# later...\n",
    " \n",
    "# load json and create model\n",
    "json_file = open('model.json', 'r')\n",
    "loaded_model_json = json_file.read()\n",
    "json_file.close()\n",
    "loaded_model = model_from_json(loaded_model_json)\n",
    "# load weights into new model\n",
    "loaded_model.load_weights(\"model.h5\")\n",
    "print(\"Loaded model from disk\")"
   ]
  },
  {
   "cell_type": "code",
   "execution_count": null,
   "id": "9a32c1d3",
   "metadata": {},
   "outputs": [],
   "source": []
  }
 ],
 "metadata": {
  "kernelspec": {
   "display_name": "harmonics",
   "language": "python",
   "name": "harmonics"
  },
  "language_info": {
   "codemirror_mode": {
    "name": "ipython",
    "version": 3
   },
   "file_extension": ".py",
   "mimetype": "text/x-python",
   "name": "python",
   "nbconvert_exporter": "python",
   "pygments_lexer": "ipython3",
   "version": "3.10.4"
  }
 },
 "nbformat": 4,
 "nbformat_minor": 5
}
