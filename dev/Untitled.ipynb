{
 "cells": [
  {
   "cell_type": "code",
   "execution_count": 2,
   "id": "ce17d586",
   "metadata": {},
   "outputs": [
    {
     "name": "stdout",
     "output_type": "stream",
     "text": [
      "\n",
      "WxPython is not found for the current python version.\n",
      "Pyo will use a minimal GUI toolkit written with Tkinter (if available).\n",
      "This toolkit has limited functionnalities and is no more\n",
      "maintained or updated. If you want to use all of pyo's\n",
      "GUI features, you should install WxPython, available here:\n",
      "http://www.wxpython.org/\n",
      "\n",
      "\n",
      "Neither WxPython nor Tkinter are found for the current python version.\n",
      "Pyo's GUI features are disabled. For a complete GUI toolkit, you should\n",
      "consider installing WxPython, available here: http://www.wxpython.org/\n",
      "\n"
     ]
    }
   ],
   "source": [
    "import pyo\n",
    "import mido"
   ]
  },
  {
   "cell_type": "code",
   "execution_count": 5,
   "id": "e00d61d2",
   "metadata": {},
   "outputs": [],
   "source": [
    "s = pyo.Server(audio='jack',midi='jack')"
   ]
  },
  {
   "cell_type": "code",
   "execution_count": 6,
   "id": "d7c23100",
   "metadata": {},
   "outputs": [
    {
     "name": "stdout",
     "output_type": "stream",
     "text": [
      "Pyo error: Pyo built without Jack support\n",
      "Pyo error: \n",
      "Server not booted.\n"
     ]
    },
    {
     "data": {
      "text/plain": [
       "<pyo.lib.server.Server at 0x7f64182ae620>"
      ]
     },
     "execution_count": 6,
     "metadata": {},
     "output_type": "execute_result"
    }
   ],
   "source": [
    "s.boot()"
   ]
  },
  {
   "cell_type": "code",
   "execution_count": null,
   "id": "bbf552a3",
   "metadata": {},
   "outputs": [],
   "source": []
  }
 ],
 "metadata": {
  "kernelspec": {
   "display_name": "harmonics",
   "language": "python",
   "name": "harmonics"
  },
  "language_info": {
   "codemirror_mode": {
    "name": "ipython",
    "version": 3
   },
   "file_extension": ".py",
   "mimetype": "text/x-python",
   "name": "python",
   "nbconvert_exporter": "python",
   "pygments_lexer": "ipython3",
   "version": "3.10.4"
  }
 },
 "nbformat": 4,
 "nbformat_minor": 5
}
